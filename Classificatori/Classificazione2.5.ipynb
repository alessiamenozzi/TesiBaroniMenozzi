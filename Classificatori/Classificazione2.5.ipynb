{
 "cells": [
  {
   "cell_type": "markdown",
   "metadata": {},
   "source": [
    "## Import"
   ]
  },
  {
   "cell_type": "code",
   "execution_count": 21,
   "metadata": {},
   "outputs": [],
   "source": [
    "import h5py\n",
    "import os\n",
    "import numpy as np\n",
    "from tensorflow.keras.models import load_model\n",
    "\n",
    "import pandas as pd\n",
    "import seaborn as sns\n",
    "import matplotlib.pyplot as plt\n",
    "\n",
    "from sklearn.model_selection import train_test_split, KFold, StratifiedKFold\n",
    "from sklearn.svm import SVC\n",
    "from sklearn.neural_network import MLPClassifier\n",
    "from sklearn.preprocessing import StandardScaler\n",
    "from sklearn.ensemble import RandomForestClassifier\n",
    "from sklearn.pipeline import make_pipeline\n",
    "from sklearn.linear_model import LogisticRegression, Lasso\n",
    "from sklearn.metrics import (accuracy_score, f1_score, roc_curve, roc_auc_score, precision_score, \n",
    "                             recall_score, confusion_matrix, precision_recall_curve, auc, \n",
    "                             average_precision_score)\n",
    "from imblearn.over_sampling import SMOTE, ADASYN\n",
    "from sklearn.feature_selection import mutual_info_classif\n",
    "from scipy.spatial.distance import pdist, squareform\n",
    "from scipy.stats import ttest_ind\n",
    "from xgboost import XGBClassifier\n",
    "from sklearn.metrics import balanced_accuracy_score\n",
    "\n",
    "\n",
    "from tensorflow.keras.layers import (GlobalAveragePooling2D, BatchNormalization, Input, Conv2D, \n",
    "                                     MaxPooling2D, UpSampling2D, Dense, Reshape, Flatten, Dropout)\n",
    "from tensorflow.keras.models import Model\n",
    "from tensorflow.keras.regularizers import l1\n",
    "from tensorflow.keras.optimizers import Adam\n",
    "from sklearn.ensemble import RandomForestClassifier, VotingClassifier\n"
   ]
  },
  {
   "cell_type": "markdown",
   "metadata": {},
   "source": [
    "## caricamento dati"
   ]
  },
  {
   "cell_type": "code",
   "execution_count": 22,
   "metadata": {},
   "outputs": [
    {
     "name": "stdout",
     "output_type": "stream",
     "text": [
      "Labels: [0 1 1 0 0 0 0 0 1 0 0 1 1 0 0 1 1 0 1 1 0 1 1 0 1 1 0 1 0 0 0 1 1 1 0 1 0\n",
      " 0 0 1 1 0 0 1 0 1 1 1 1 1 0 0 0 1 0 0 0 1 0 0 0 0 1 1 1 0 1 0 1 0 0 1 0 0\n",
      " 0 1 0 1 0 1 1 0 1 0 1 0 0 0 1 0 0 1 0 0 0 0 0 0 1 1 1 0 0 1 0 0 1 0 0 0 0\n",
      " 0 1 1 0 0 0 0 0 0 0 0 1 1 0 0 1 0 1]\n",
      "Number of labels: 129\n",
      "Patient Names:  [5, 12, 15, 16, 17, 19, 22, 23, 24, 25, 26, 27, 29, 30, 31, 33, 35, 36, 38, 39, 40, 41, 42, 43, 44, 46, 47, 48, 50, 52, 53, 54, 56, 57, 58, 59, 60, 61, 62, 64, 65, 68, 69, 70, 71, 74, 75, 76, 78, 79, 81, 82, 84, 85, 86, 87, 88, 89, 90, 91, 92, 94, 95, 96, 98, 100, 101, 102, 103, 104, 105, 106, 107, 108, 109, 110, 111, 112, 113, 114, 115, 116, 117, 118, 119, 120, 123, 124, 126, 127, 128, 129, 133, 135, 136, 137, 138, 139, 141, 142, 144, 146, 147, 149, 150, 153, 155, 158, 159, 161, 163, 166, 168, 169, 170, 171, 175, 176, 178, 182, 183, 188, 189, 190, 193, 197, 199, 200, 205]\n",
      "Lunghezza array immagini:  129\n",
      "Shape immagini primo paziente:  (28, 64, 64)\n",
      "Shape immagini secondo paziente:  (22, 64, 64)\n"
     ]
    }
   ],
   "source": [
    "\n",
    "file_path = \"../CSV/data_rad_clin_DEF.csv\"\n",
    "\n",
    "data = pd.read_csv(file_path)\n",
    "labels_column = data['label']\n",
    "labels = labels_column.astype(int).tolist()\n",
    "\n",
    "labels=np.array(labels)\n",
    "\n",
    "# Estrazione dei numeri dai nomi dei pazienti\n",
    "loaded_patients = data['IDs_new'].str.extract(r'(\\d+)').astype(int).squeeze().tolist()\n",
    "\n",
    "print(\"Labels:\", labels)\n",
    "print(\"Number of labels:\", len(labels))\n",
    "print(\"Patient Names: \", loaded_patients )\n",
    "\n",
    "\n",
    "h5_file_path = '../images_by_patient_final.h5'\n",
    "loaded_class_images=[]\n",
    "\n",
    "with h5py.File(h5_file_path, 'r') as h5_file:\n",
    "    loaded_class_images = {key: np.array(h5_file[key]) for key in h5_file.keys()}\n",
    "\n",
    "loaded_class_images= {int(key.split('_')[1]): images for key, images in loaded_class_images.items()}\n",
    "\n",
    "print(\"Lunghezza array immagini: \", len(loaded_class_images))\n",
    "print(\"Shape immagini primo paziente: \", loaded_class_images[0].shape)\n",
    "print(\"Shape immagini secondo paziente: \", loaded_class_images[1].shape)\n",
    "\n",
    "\n"
   ]
  },
  {
   "cell_type": "markdown",
   "metadata": {},
   "source": [
    "## encoder"
   ]
  },
  {
   "cell_type": "code",
   "execution_count": 23,
   "metadata": {},
   "outputs": [],
   "source": [
    "\n",
    "# Load the data\n",
    "file_path = \"../CSV/INCEPTIONV3_ALL_SLICES.csv\"\n",
    "data = pd.read_csv(file_path)\n",
    "\n",
    "# Filter columns that start with 'original' or 'dentro'\n",
    "patients = []\n",
    "\n",
    "for patient_id in loaded_patients:\n",
    "\n",
    "    # Filter the data for the specific patient\n",
    "    patient_data = data[data['Patient'] == patient_id]\n",
    "    \n",
    "    slices = []\n",
    "    \n",
    "    for _, slice_row in patient_data.iterrows():\n",
    "        # Select only the filtered columns for each slice\n",
    "        slice_features = slice_row.tolist()\n",
    "        slices.append(slice_features)\n",
    "    \n",
    "    patients.append(slices)\n"
   ]
  },
  {
   "cell_type": "markdown",
   "metadata": {},
   "source": [
    "## radiomica no wavelet\n"
   ]
  },
  {
   "cell_type": "code",
   "execution_count": 39,
   "metadata": {},
   "outputs": [
    {
     "name": "stdout",
     "output_type": "stream",
     "text": [
      "All slices with NaN values have been removed.\n"
     ]
    }
   ],
   "source": [
    "import pandas as pd\n",
    "import numpy as np  # Needed for NaN check\n",
    "\n",
    "# Load the data\n",
    "file_path = \"../CSV/Radiomica_2D.csv\"\n",
    "data = pd.read_csv(file_path)\n",
    "\n",
    "# Filter columns that start with 'original'\n",
    "filtered_columns = [col for col in data.columns if col.startswith('original')]\n",
    "\n",
    "patients = []\n",
    "\n",
    "for patient_id in loaded_patients:\n",
    "\n",
    "    # Filter the data for the specific patient\n",
    "    patient_data = data[data['Paziente'] == patient_id]\n",
    "    \n",
    "    slices = []\n",
    "    \n",
    "    for _, slice_row in patient_data.iterrows():\n",
    "        # Select only the filtered columns for each slice\n",
    "        slice_features = slice_row[filtered_columns].tolist()\n",
    "        \n",
    "        # Check for NaN values in the slice, and only append if there are no NaNs\n",
    "        if not any(np.isnan(value) for value in slice_features):\n",
    "            slices.append(slice_features)\n",
    "    \n",
    "    patients.append(slices)\n",
    "\n",
    "# Optional: Check if all slices with NaN were removed successfully\n",
    "for i, patient in enumerate(patients):\n",
    "    for j, slice_features in enumerate(patient):\n",
    "        assert not any(np.isnan(value) for value in slice_features), f\"NaN found in patient {i}, slice {j}\"\n",
    "\n",
    "print(\"All slices with NaN values have been removed.\")\n"
   ]
  },
  {
   "cell_type": "markdown",
   "metadata": {},
   "source": [
    "## radiomica con wavelet"
   ]
  },
  {
   "cell_type": "code",
   "execution_count": 5,
   "metadata": {},
   "outputs": [
    {
     "name": "stdout",
     "output_type": "stream",
     "text": [
      "All slices with NaN values have been removed.\n"
     ]
    }
   ],
   "source": [
    "import pandas as pd\n",
    "import numpy as np  # Needed for NaN check\n",
    "\n",
    "# Load the data\n",
    "file_path = \"/Users/alessiamenozzi/Desktop/Radiomica_Wavelet_25D.csv\"\n",
    "data = pd.read_csv(file_path)\n",
    "\n",
    "# Exclude columns that start with 'diagnostic' and the 'Slice' column\n",
    "excluded_columns = ['Slice', 'Paziente'] + [col for col in data.columns if col.startswith('diagnostic')]\n",
    "filtered_columns = [col for col in data.columns if col not in excluded_columns]\n",
    "\n",
    "patients = []\n",
    "\n",
    "for patient_id in loaded_patients:\n",
    "\n",
    "    # Filter the data for the specific patient\n",
    "    patient_data = data[data['Paziente'] == patient_id]\n",
    "    \n",
    "    slices = []\n",
    "    \n",
    "    for _, slice_row in patient_data.iterrows():\n",
    "        # Select only the filtered columns for each slice\n",
    "        slice_features = slice_row[filtered_columns].tolist()\n",
    "        \n",
    "        # Check for NaN values in the slice, and only append if there are no NaNs\n",
    "        if not any(np.isnan(value) for value in slice_features):\n",
    "            slices.append(slice_features)\n",
    "    \n",
    "    patients.append(slices)\n",
    "\n",
    "# Optional: Check if all slices with NaN were removed successfully\n",
    "for i, patient in enumerate(patients):\n",
    "    for j, slice_features in enumerate(patient):\n",
    "        assert not any(np.isnan(value) for value in slice_features), f\"NaN found in patient {i}, slice {j}\"\n",
    "\n",
    "print(\"All slices with NaN values have been removed.\")\n"
   ]
  },
  {
   "cell_type": "markdown",
   "metadata": {},
   "source": [
    "## funzioni"
   ]
  },
  {
   "cell_type": "code",
   "execution_count": 24,
   "metadata": {},
   "outputs": [],
   "source": [
    "## funzione per creare array da array di array\n",
    "def continue_array(filtered_patients, labels):\n",
    "    all_features = []\n",
    "    for patient in filtered_patients:\n",
    "        for image_features in patient:\n",
    "            all_features.append(image_features)\n",
    "\n",
    "    all_features_array = np.array(all_features)\n",
    "    expanded_labels = []\n",
    "    expanded_patient_ids = []\n",
    "\n",
    "    for i in range(len(filtered_patients)):\n",
    "        num_images = len(filtered_patients[i])\n",
    "        expanded_labels.extend([labels[i]] * num_images)\n",
    "        expanded_patient_ids.extend([loaded_patients[i]] * num_images)\n",
    "\n",
    "    expanded_labels_array = np.array(expanded_labels)\n",
    "    expanded_patient_ids_array = np.array(expanded_patient_ids)\n",
    "\n",
    "    return all_features_array, expanded_labels_array, expanded_patient_ids_array\n",
    "\n",
    "\n",
    "## funzioni per feature correlation\n",
    "def filter_highly_correlated_features(df, corr, threshold=0.85):\n",
    "    columns = np.full((corr.shape[0],), True, dtype=bool)\n",
    "    removed_features = []\n",
    "\n",
    "    for i in range(corr.shape[0]):\n",
    "        for j in range(i + 1, corr.shape[0]):\n",
    "            if corr.iloc[i, j] >= threshold:\n",
    "                if columns[j]:\n",
    "                    columns[j] = False\n",
    "                    removed_features.append(df.columns[j])\n",
    "\n",
    "    return removed_features\n",
    "\n",
    "\n",
    "def perform_correlation(z_train, y_train, numero = 32, threshold = 0.85):\n",
    "    all_images, _, _= continue_array(z_train, y_train)\n",
    "\n",
    "    df = pd.DataFrame(all_images, columns=[f'feature_{i}' for i in range(numero)])\n",
    "\n",
    "    corr_matrix = df.corr()\n",
    "\n",
    "    features_selected = filter_highly_correlated_features(df, corr_matrix, threshold)\n",
    "    \n",
    "    return features_selected\n",
    "\n",
    "## funzione per rimuovere le features con p_value maggiore della treshold\n",
    "def select_features_by_p_value(x_train_expanded, y_train_expanded, p_value_threshold=0.05):\n",
    "\n",
    "    p_values = []\n",
    "    num_features = x_train_expanded.shape[1]\n",
    "\n",
    "    for i in range(num_features):\n",
    "        feature = x_train_expanded[:, i]\n",
    "        group_0 = feature[y_train_expanded == 0]\n",
    "        group_1 = feature[y_train_expanded == 1]\n",
    "        t_stat, p_val = ttest_ind(group_0, group_1, equal_var=False)\n",
    "        p_values.append(p_val)\n",
    "\n",
    "    p_values = np.array(p_values)\n",
    "\n",
    "    selected_features_indices = np.where(p_values < p_value_threshold)[0]\n",
    "\n",
    "    sorted_indices = selected_features_indices[np.argsort(p_values[selected_features_indices])]\n",
    "\n",
    "    x_train_expanded = x_train_expanded[:, sorted_indices]\n",
    "\n",
    "    return x_train_expanded, sorted_indices\n",
    "\n",
    "\n",
    "\n",
    "## funzione per rimozione di features specifiche\n",
    "def remove_features_from_patients(patients, features_to_remove):\n",
    "    feature_indices_to_remove = [int(feature.split('_')[1]) for feature in features_to_remove]\n",
    "    \n",
    "    final_patients = []\n",
    "    for patient in patients:\n",
    "        new_patients = []\n",
    "        for image_features in patient:\n",
    "            new_patient = np.delete(image_features, feature_indices_to_remove, axis=0)\n",
    "            new_patients.append(new_patient)\n",
    "        final_patients.append(np.array(new_patients))    \n",
    "\n",
    "    return final_patients\n",
    "\n",
    "\n",
    "## FEATURE SELECTION LASSO\n",
    "def select_features_with_lasso(X, y, alpha=0.001):\n",
    "    \n",
    "    lasso = Lasso(alpha=alpha)\n",
    "    lasso.fit(X, y)\n",
    "    coefficients = lasso.coef_\n",
    "    selected_features = np.where(coefficients != 0)[0]\n",
    "    X_selected = X[:, selected_features]\n",
    "\n",
    "    return X_selected, selected_features\n",
    "\n",
    "## FEATURE SELECTION LOGISTIC\n",
    "def logistic_regression_feature_selection(X, y, num_features):\n",
    "    lr = LogisticRegression(max_iter=2000, random_state=42)\n",
    "    lr.fit(X, y)\n",
    "    coef_abs = np.abs(lr.coef_)\n",
    "    feature_importances = np.mean(coef_abs, axis=0)\n",
    "    selected_features = feature_importances.argsort()[-num_features:][::-1]\n",
    "    X_selected = X[:, selected_features]\n",
    "    return X_selected, selected_features\n",
    "\n",
    "## FEATURE SELECTION MRMR\n",
    "def mrmr_feature_selection(X, y, num_features):\n",
    "    mi = mutual_info_classif(X, y, random_state=42)\n",
    "    scaler = StandardScaler()\n",
    "    X_scaled = scaler.fit_transform(X)\n",
    "    distances = squareform(pdist(X_scaled.T, 'euclidean'))\n",
    "    \n",
    "    selected_features = []\n",
    "    selected_indices = []\n",
    "\n",
    "    first_feature_index = np.argmax(mi)\n",
    "    selected_features.append(first_feature_index)\n",
    "    selected_indices.append(first_feature_index)\n",
    "    \n",
    "    for _ in range(num_features - 1):\n",
    "        max_relevance = -np.inf\n",
    "        selected_feature_index = -1\n",
    "        \n",
    "        for i in range(X.shape[1]):\n",
    "            if i in selected_indices:\n",
    "                continue\n",
    "            \n",
    "            relevance = mi[i]\n",
    "            redundancy = np.mean(distances[i, selected_indices])\n",
    "            \n",
    "            mrmr_score = relevance - redundancy\n",
    "            \n",
    "            if mrmr_score > max_relevance:\n",
    "                max_relevance = mrmr_score\n",
    "                selected_feature_index = i\n",
    "        \n",
    "        selected_features.append(selected_feature_index)\n",
    "        selected_indices.append(selected_feature_index)\n",
    "\n",
    "    X_selected = X[:, selected_indices]\n",
    "    return X_selected, selected_indices\n",
    "\n",
    "## FEATURE SELECTION RANDOM FOREST\n",
    "def rf_feature_selection(X, y, num_features):\n",
    "    rf = RandomForestClassifier(n_estimators=100, random_state=42)\n",
    "    rf.fit(X, y)\n",
    "    feature_importances = rf.feature_importances_\n",
    "    selected_features = np.argsort(feature_importances)[-num_features:][::-1]\n",
    "    X_selected = X[:, selected_features]\n",
    "    return X_selected, selected_features\n",
    "\n",
    "\n",
    "## FEATURE SELECTION P_VALUE\n",
    "# Seleziona e ordina le feature basate sui p-value con un test t di Student poi \n",
    "# ordina le feature in base al p-value in ordine crescente e seleziona le prime `num_features` caratteristiche.\n",
    "\n",
    "def p_value_feature_selection(x_train_expanded, y_train_expanded, num_features):\n",
    "    p_values = []\n",
    "    num_features_total = x_train_expanded.shape[1]\n",
    "\n",
    "    # Calcolo dei p-value per ciascuna feature\n",
    "    for i in range(num_features_total):\n",
    "        feature = x_train_expanded[:, i]\n",
    "        group_0 = feature[y_train_expanded == 0]\n",
    "        group_1 = feature[y_train_expanded == 1]\n",
    "        t_stat, p_val = ttest_ind(group_0, group_1, equal_var=False)\n",
    "        p_values.append(p_val)\n",
    "\n",
    "\n",
    "    p_values = np.array(p_values)\n",
    "\n",
    "    # Ordinare tutte le caratteristiche in base ai p-value (dal più piccolo al più grande)\n",
    "    sorted_indices = np.argsort(p_values)\n",
    "    sorted_indices = sorted_indices[:num_features]\n",
    "\n",
    "    x_train_selected = x_train_expanded[:, sorted_indices]\n",
    "\n",
    "    return x_train_selected, sorted_indices\n",
    "\n",
    "\n",
    "\n",
    "## funzione per lasciare solo le features indicate per array di array\n",
    "def keep_features_in_patients(patients, features_to_keep):\n",
    "\n",
    "    feature_indices_to_keep = [int(feature) for feature in features_to_keep]\n",
    "\n",
    "    final_patients = []\n",
    "    for patient in patients:\n",
    "        new_patients = []\n",
    "        for image_features in patient:\n",
    "            new_patient = np.take(image_features, feature_indices_to_keep, axis=0)\n",
    "            new_patients.append(new_patient)\n",
    "        final_patients.append(np.array(new_patients))\n",
    "\n",
    "    return final_patients\n",
    "\n",
    "\n",
    "## funzione per lasciare solo le features indicate per array\n",
    "def filter_patients_features(filtered_patients, selected_features):\n",
    "\n",
    "    filtered_patients_selected = []\n",
    "\n",
    "    for patient_features in filtered_patients:\n",
    "        # Select only the features specified in selected_features\n",
    "        patient_features_selected = patient_features[:, selected_features]\n",
    "        filtered_patients_selected.append(patient_features_selected)\n",
    "\n",
    "    return filtered_patients_selected\n",
    "\n",
    "\n"
   ]
  },
  {
   "cell_type": "code",
   "execution_count": 25,
   "metadata": {},
   "outputs": [],
   "source": [
    "\n",
    "## funzione per effettuarr majority voting o mean su tutte le slice di un paziente, per passare da una predizione sulla slice\n",
    "## alla predizione per il paziente\n",
    "def prob_to_binary(predictions_proba, patient_scores, threshold, mode):\n",
    "        final_predictionarray=[]          \n",
    "        if(mode=='MV'): ## majority voting\n",
    "            for p in predictions_proba:\n",
    "                test_patient_predictions=[]\n",
    "                for proba in p:               \n",
    "                    predictions_binary = 1 if proba[0][1] > threshold else 0\n",
    "                    test_patient_predictions.append(predictions_binary)\n",
    "                count_0 = np.sum(np.array(test_patient_predictions)==0) \n",
    "                count_1 = np.sum(np.array(test_patient_predictions)==1)                                   \n",
    "                final_prediction = 0 if count_0 > count_1 else 1\n",
    "                final_predictionarray.append(final_prediction)\n",
    "        \n",
    "        elif (mode=='Mean'): ## mean\n",
    "            for score in patient_scores:\n",
    "                predictions_binary = 1 if score > threshold else 0\n",
    "                final_predictionarray.append(predictions_binary)    \n",
    "    \n",
    "        return final_predictionarray\n",
    "\n",
    "\n",
    "def classification_method(selector, alpha, classifier, x_train_expanded, y_train_expanded, patients_test, y_test, features_test, num_features, modePrediction, thresholds=np.arange(0.001, 0.501, 0.001), mode = \"Val\", selected_features= [0]):\n",
    "\n",
    "    if(mode == \"Val\"):\n",
    "            selected_features = None \n",
    "            \n",
    "            if num_features != len(x_train_expanded[0]) or alpha != 0:\n",
    "                if selector == \"lasso\":\n",
    "                    X_selected, selected_features = select_features_with_lasso(x_train_expanded, y_train_expanded, alpha)\n",
    "                elif selector == \"logistic\": \n",
    "                    X_selected, selected_features = logistic_regression_feature_selection(x_train_expanded, y_train_expanded, num_features)\n",
    "                elif selector == \"mrmr\":\n",
    "                    X_selected, selected_features = mrmr_feature_selection(x_train_expanded, y_train_expanded, num_features)\n",
    "                elif selector == \"rf\":\n",
    "                    X_selected, selected_features = rf_feature_selection(x_train_expanded, y_train_expanded, num_features)\n",
    "                elif selector==\"p_value\":\n",
    "                    X_selected, selected_features= p_value_feature_selection(x_train_expanded,y_train_expanded, num_features)\n",
    "                else:\n",
    "                    print(\"Wrong selector. Choose between: mrmr, rf, logistic, p_value, lasso\")\n",
    "                    return\n",
    "                \n",
    "                features_test = filter_patients_features(features_test, selected_features)\n",
    "            else:\n",
    "                X_selected = x_train_expanded\n",
    "                selected_features = list(range(len(x_train_expanded[0])))  # Selezioniamo tutte le feature se non si fa feature selection\n",
    "            number_features = len(selected_features) \n",
    "        \n",
    "            smote = SMOTE(random_state=42)\n",
    "\n",
    "            X_resampled, y_resampled = smote.fit_resample(X_selected, y_train_expanded)\n",
    "            classifier.fit(X_resampled, y_resampled)\n",
    "\n",
    "    temp_array = []\n",
    "    patient_scores = []\n",
    "    \n",
    "    for x in range(len(patients_test)):\n",
    "        patient_predictions = []\n",
    "        patient_predictions1 = []\n",
    "        r=len(features_test[x])\n",
    "        for i in range(r):\n",
    "            dato = features_test[x][i].reshape(1, -1)\n",
    "            prediction = classifier.predict_proba(dato)\n",
    "            prediction1 = classifier.predict_proba(dato)[:,1]\n",
    "            patient_predictions.append(prediction)\n",
    "            patient_predictions1.append(prediction1)\n",
    "            mean=np.mean(patient_predictions1)\n",
    "\n",
    "        patient_scores.append(mean) ## contiene la media delle probabilità\n",
    "        temp_array.append(patient_predictions) ## contiene tutte le probabilità\n",
    "        \n",
    "    best_f1_score = 0\n",
    "    best_threshold = None\n",
    "    #best_precision=0\n",
    "    #best_recall=0\n",
    "    best_prediction=[]\n",
    "    \n",
    "    # Valuta le performance utilizzando diverse threshold\n",
    "    if isinstance(thresholds, (int, float, complex)):\n",
    "        thresholds=[thresholds]\n",
    "\n",
    "    ## se non viene specificato usi il parametro di default \n",
    "    ## viene calcolata la threshold che porta a un f1 migliore e effettuata la prediction con quella\n",
    "    if(len(thresholds)!=1):\n",
    "        for threshold in thresholds:\n",
    "            binary_predictions = prob_to_binary(temp_array, patient_scores, threshold, modePrediction)\n",
    "            f1 = f1_score(y_test, binary_predictions)\n",
    "            if f1 > best_f1_score:\n",
    "                best_f1_score = f1\n",
    "                best_threshold = threshold\n",
    "                #best_precision = precision_score(y_test, binary_predictions)\n",
    "                #best_recall = recall_score(y_test, binary_predictions)\n",
    "                best_prediction=binary_predictions\n",
    "\n",
    "    else: ## qui vuol dire che è il set di test che usa la threshold migliore che viene passata dal validation\n",
    "        best_threshold = thresholds\n",
    "        best_prediction=prob_to_binary(temp_array, patient_scores, best_threshold, modePrediction)\n",
    "        best_f1_score = f1_score(y_test, best_prediction)\n",
    "        #best_precision = precision_score(y_test, best_prediction)\n",
    "        #best_recall = recall_score(y_test, best_prediction)\n",
    "\n",
    "    #print(f\"La migliore threshold è {best_threshold} con f1score di {best_f1_score} e precision {best_precision} e recall {best_recall}.\")\n",
    "    y_test= np.array(y_test)\n",
    "    best_prediction=np.array(best_prediction)\n",
    "    test_accuracy = accuracy_score(y_test, best_prediction)\n",
    "\n",
    "    #precision, recall, _ = precision_recall_curve(y_test, patient_scores) ## utili per ricostruire grafici\n",
    "    pr_auc = average_precision_score(y_test, patient_scores)\n",
    "\n",
    "    #fpr, tpr, _ = roc_curve(y_test, best_prediction)\n",
    "    roc_auc= roc_auc_score(y_test, patient_scores)\n",
    "\n",
    "    # Calcola la balanced accuracy\n",
    "    bal_acc = balanced_accuracy_score(y_test, best_prediction)\n",
    "\n",
    "    conf= confusion_matrix(y_test, best_prediction)\n",
    "    return best_f1_score, conf, test_accuracy, pr_auc, roc_auc, best_threshold, number_features, selected_features, bal_acc\n",
    "\n",
    "###################################################################################################################################################################\n",
    "\n",
    "## questa funzione è da utilizzare quando si fa il training sul test e gli vengono già passate le features, quindi non viene effettuata feature selection\n",
    "## ma solo allenamento del classificatore\n",
    "\n",
    "def classification_method_test_intero(classifier, x_train_expanded, y_train_expanded, patients_test, y_test, features_test, thresholds, mode):\n",
    "       \n",
    "    smote = SMOTE(random_state=42)\n",
    "    #adasyn = ADASYN(random_state=42)\n",
    "\n",
    "\n",
    "    X_resampled, y_resampled = smote.fit_resample(x_train_expanded, y_train_expanded)\n",
    "    #X_resampled, y_resampled = adasyn.fit_resample(x_train_expanded, y_train_expanded)\n",
    "    classifier.fit(X_resampled, y_resampled)\n",
    "\n",
    "\n",
    "    temp_array = []\n",
    "    patient_scores = []\n",
    "    \n",
    "    for x in range(len(patients_test)):\n",
    "        patient_predictions = []\n",
    "        patient_predictions1 = []\n",
    "        r=len(features_test[x])\n",
    "        for i in range(r):\n",
    "            dato = features_test[x][i].reshape(1, -1)\n",
    "            prediction = classifier.predict_proba(dato)\n",
    "            prediction1 = classifier.predict_proba(dato)[:,1]\n",
    "            patient_predictions.append(prediction)\n",
    "            patient_predictions1.append(prediction1)\n",
    "            mean=np.mean(patient_predictions1)\n",
    "\n",
    "        patient_scores.append(mean) ## contiene la media delle probabilità\n",
    "        temp_array.append(patient_predictions) ## contiene tutte le probabilità\n",
    "\n",
    "\n",
    "    best_f1_score = 0\n",
    "    best_threshold = None\n",
    "    best_precision=0\n",
    "    best_recall=0\n",
    "    best_prediction=[]\n",
    " \n",
    "    if isinstance(thresholds, (int, float, complex)):\n",
    "        thresholds=[thresholds]\n",
    "\n",
    "    best_threshold = thresholds\n",
    "    best_prediction=prob_to_binary(temp_array, patient_scores, best_threshold, mode)\n",
    "    best_f1_score = f1_score(y_test, best_prediction)\n",
    "    best_precision = precision_score(y_test, best_prediction)\n",
    "    best_recall = recall_score(y_test, best_prediction)\n",
    "\n",
    "    y_test= np.array(y_test)\n",
    "    best_prediction=np.array(best_prediction)\n",
    "    test_accuracy = accuracy_score(y_test, best_prediction)\n",
    "\n",
    "\n",
    "    conf= confusion_matrix(y_test, best_prediction)\n",
    "    return best_f1_score, best_precision, best_recall, conf, test_accuracy\n",
    "\n",
    "\n",
    "def classifierinitialization(classifier):\n",
    "    if classifier == 'RandomForest':\n",
    "                            classi = RandomForestClassifier(n_estimators=100, random_state=42)\n",
    "    elif classifier == 'Logistic':\n",
    "                            classi = LogisticRegression(random_state=42, max_iter=2000)\n",
    "    elif classifier == 'SVM':\n",
    "                            classi = SVC(kernel='rbf', probability=True, random_state=42)\n",
    "    elif classifier == 'XgBoost':\n",
    "                            classi = XGBClassifier(random_state=42)\n",
    "    elif classifier == 'MLP':\n",
    "                            classi = MLPClassifier(hidden_layer_sizes=(128, 64, 32), max_iter=1000, random_state=42, early_stopping=True, learning_rate='adaptive', activation = 'logistic')\n",
    "    elif classifier == 'ensemble':\n",
    "                            rf_model = RandomForestClassifier(n_estimators=100, random_state=42)\n",
    "                            logistic_model = LogisticRegression(random_state=42, max_iter=2000)\n",
    "                            svc_model = SVC(kernel='rbf', probability=True, random_state=42)\n",
    "                            classi = VotingClassifier(\n",
    "                                estimators=[\n",
    "                                    ('random_forest', rf_model),\n",
    "                                    ('logistic', logistic_model),\n",
    "                                    ('svc', svc_model)\n",
    "                                ],\n",
    "                                voting='soft'\n",
    "                                )\n",
    "    return classi"
   ]
  },
  {
   "cell_type": "markdown",
   "metadata": {},
   "source": [
    "## split"
   ]
  },
  {
   "cell_type": "code",
   "execution_count": 26,
   "metadata": {},
   "outputs": [
    {
     "name": "stdout",
     "output_type": "stream",
     "text": [
      "Number of train patients:  63\n",
      "Number of test patients:  39\n",
      "Number of val patients:  27\n",
      "Number of features for every image:  2050\n"
     ]
    }
   ],
   "source": [
    "\n",
    "# patients_train contiene il nome dei pazienti (5,12 etc)\n",
    "# y_train contiene le labels\n",
    "# features_train contiene array di array dove ogni paziente ha varie immagini rappresentate da n features\n",
    "\n",
    "patients_train1, patients_test, y_train1, y_test, features_train1, features_test= train_test_split(loaded_patients, labels, patients, test_size=0.3, shuffle=False, random_state=1)\n",
    "patients_train, patients_val, y_train, y_val, features_train, features_val= train_test_split(patients_train1, y_train1, features_train1, test_size=0.3, shuffle=True, stratify=y_train1, random_state=3)\n",
    "#patients_train, patients_val, y_train, y_val, features_train, features_val= train_test_split(patients_train1, y_train1, features_train1, test_size=0.15, shuffle=False, random_state=1)\n",
    "\n",
    "print(\"Number of train patients: \", len(features_train))\n",
    "print(\"Number of test patients: \", len(features_test))\n",
    "print(\"Number of val patients: \", len(features_val))\n",
    "\n",
    "print(\"Number of features for every image: \", len(features_train[0][0]) )\n"
   ]
  },
  {
   "cell_type": "code",
   "execution_count": 46,
   "metadata": {},
   "outputs": [],
   "source": [
    "alpha_values = (np.linspace(0.25, 1, 30)).tolist() ## per vgg\n",
    "alpha_values = (np.linspace(0.01, 0.6, 30)).tolist()  ## per resnet\n",
    "alpha_values = (np.linspace(0.001, 0.2, 30)).tolist() ## per inception\n",
    "\n",
    "alpha_values = (np.linspace(0.001, 0.02, 20)).tolist() + (np.linspace(0.022, 0.2, 10)).tolist()## per inception\n",
    "#alpha_values= (np.linspace(0.001, 0.019, 19)).tolist() + (np.linspace(0.20, 1, 9)).tolist() ## range per radiomica wavelet\n",
    "\n",
    "alpha_values = [round(alpha, 4) for alpha in alpha_values]\n",
    "\n",
    "selectors=['mrmr','rf', 'logistic', 'lasso']\n",
    "#selectors=[ 'mrmr','rf', 'lasso', 'logistic']\n",
    "classifiers=['RandomForest', 'Logistic', 'XgBoost', 'MLP', 'SVM', 'ensemble']\n",
    "modes=['Mean', 'MV']\n"
   ]
  },
  {
   "cell_type": "code",
   "execution_count": 45,
   "metadata": {},
   "outputs": [
    {
     "name": "stdout",
     "output_type": "stream",
     "text": [
      "[0.001, 0.002, 0.003, 0.004, 0.005, 0.006, 0.007, 0.008, 0.009, 0.01, 0.011, 0.012, 0.013, 0.014, 0.015, 0.016, 0.017, 0.018, 0.019, 0.02, 0.022, 0.0418, 0.0616, 0.0813, 0.1011, 0.1209, 0.1407, 0.1604, 0.1802, 0.2]\n"
     ]
    }
   ],
   "source": [
    "print(alpha_values)"
   ]
  },
  {
   "cell_type": "code",
   "execution_count": 29,
   "metadata": {},
   "outputs": [
    {
     "name": "stdout",
     "output_type": "stream",
     "text": [
      "(41, 1994)\n",
      "x_train_expanded (2698, 935)\n",
      "final_patients_val (41, 935)\n",
      "final_patients_test (43, 935)\n",
      "final_patients_train1 (41, 935)\n",
      "Scelte 935 features\n",
      "\n",
      "x_train_expanded1 (3724, 935)\n"
     ]
    }
   ],
   "source": [
    "starting_features = len(features_train[0][0])\n",
    "features=perform_correlation(features_train, y_train, starting_features, 0.8)\n",
    "\n",
    "final_patients_train=remove_features_from_patients(features_train, features)\n",
    "final_patients_test=remove_features_from_patients(features_test, features)\n",
    "final_patients_val=remove_features_from_patients(features_val, features)\n",
    "final_patients_train1=remove_features_from_patients(features_train1, features)\n",
    "print(final_patients_train1[0].shape)\n",
    "x_train_expanded, y_train_expanded, _ = continue_array(final_patients_train, y_train)\n",
    "x_train_expanded, sf= select_features_by_p_value(x_train_expanded, y_train_expanded, 0.01)\n",
    "print(\"x_train_expanded\", x_train_expanded.shape)\n",
    "\n",
    "\n",
    "final_patients_test=keep_features_in_patients(final_patients_test, sf)\n",
    "final_patients_val=keep_features_in_patients(final_patients_val, sf)\n",
    "final_patients_train1=keep_features_in_patients(final_patients_train1, sf)\n",
    "print(\"final_patients_val\", final_patients_val[0].shape)\n",
    "print(\"final_patients_test\", final_patients_test[0].shape)\n",
    "print(\"final_patients_train1\", final_patients_train1[0].shape)\n",
    "print(f\"Scelte {len(sf)} features\\n\")\n",
    "\n",
    "\n",
    "x_train_expanded1, y_train_expanded1, _ = continue_array(final_patients_train1, y_train1)\n",
    "print(\"x_train_expanded1\", x_train_expanded1.shape)"
   ]
  },
  {
   "cell_type": "markdown",
   "metadata": {},
   "source": [
    "## Loop results_val e test"
   ]
  },
  {
   "cell_type": "code",
   "execution_count": 47,
   "metadata": {},
   "outputs": [
    {
     "name": "stdout",
     "output_type": "stream",
     "text": [
      "per 0.007 sceglie 306\n"
     ]
    },
    {
     "name": "stderr",
     "output_type": "stream",
     "text": [
      "/Library/Frameworks/Python.framework/Versions/3.11/lib/python3.11/site-packages/sklearn/linear_model/_coordinate_descent.py:697: ConvergenceWarning: Objective did not converge. You might want to increase the number of iterations, check the scale of the features or consider increasing regularisation. Duality gap: 4.060e+00, tolerance: 6.687e-02\n",
      "  model = cd_fast.enet_coordinate_descent(\n"
     ]
    },
    {
     "name": "stdout",
     "output_type": "stream",
     "text": [
      "sto facendo alpha: 0.008\n"
     ]
    },
    {
     "name": "stderr",
     "output_type": "stream",
     "text": [
      "/Library/Frameworks/Python.framework/Versions/3.11/lib/python3.11/site-packages/sklearn/linear_model/_coordinate_descent.py:697: ConvergenceWarning: Objective did not converge. You might want to increase the number of iterations, check the scale of the features or consider increasing regularisation. Duality gap: 1.663e+00, tolerance: 6.687e-02\n",
      "  model = cd_fast.enet_coordinate_descent(\n"
     ]
    },
    {
     "name": "stdout",
     "output_type": "stream",
     "text": [
      "per 0.008 sceglie 265\n"
     ]
    },
    {
     "name": "stderr",
     "output_type": "stream",
     "text": [
      "/Library/Frameworks/Python.framework/Versions/3.11/lib/python3.11/site-packages/sklearn/linear_model/_coordinate_descent.py:697: ConvergenceWarning: Objective did not converge. You might want to increase the number of iterations, check the scale of the features or consider increasing regularisation. Duality gap: 1.663e+00, tolerance: 6.687e-02\n",
      "  model = cd_fast.enet_coordinate_descent(\n"
     ]
    },
    {
     "name": "stdout",
     "output_type": "stream",
     "text": [
      "sto facendo alpha: 0.009\n"
     ]
    },
    {
     "name": "stderr",
     "output_type": "stream",
     "text": [
      "/Library/Frameworks/Python.framework/Versions/3.11/lib/python3.11/site-packages/sklearn/linear_model/_coordinate_descent.py:697: ConvergenceWarning: Objective did not converge. You might want to increase the number of iterations, check the scale of the features or consider increasing regularisation. Duality gap: 7.892e-01, tolerance: 6.687e-02\n",
      "  model = cd_fast.enet_coordinate_descent(\n"
     ]
    },
    {
     "name": "stdout",
     "output_type": "stream",
     "text": [
      "per 0.009 sceglie 247\n"
     ]
    },
    {
     "name": "stderr",
     "output_type": "stream",
     "text": [
      "/Library/Frameworks/Python.framework/Versions/3.11/lib/python3.11/site-packages/sklearn/linear_model/_coordinate_descent.py:697: ConvergenceWarning: Objective did not converge. You might want to increase the number of iterations, check the scale of the features or consider increasing regularisation. Duality gap: 7.892e-01, tolerance: 6.687e-02\n",
      "  model = cd_fast.enet_coordinate_descent(\n"
     ]
    },
    {
     "name": "stdout",
     "output_type": "stream",
     "text": [
      "sto facendo alpha: 0.01\n"
     ]
    },
    {
     "name": "stderr",
     "output_type": "stream",
     "text": [
      "/Library/Frameworks/Python.framework/Versions/3.11/lib/python3.11/site-packages/sklearn/linear_model/_coordinate_descent.py:697: ConvergenceWarning: Objective did not converge. You might want to increase the number of iterations, check the scale of the features or consider increasing regularisation. Duality gap: 2.608e-01, tolerance: 6.687e-02\n",
      "  model = cd_fast.enet_coordinate_descent(\n"
     ]
    },
    {
     "name": "stdout",
     "output_type": "stream",
     "text": [
      "per 0.01 sceglie 222\n"
     ]
    },
    {
     "name": "stderr",
     "output_type": "stream",
     "text": [
      "/Library/Frameworks/Python.framework/Versions/3.11/lib/python3.11/site-packages/sklearn/linear_model/_coordinate_descent.py:697: ConvergenceWarning: Objective did not converge. You might want to increase the number of iterations, check the scale of the features or consider increasing regularisation. Duality gap: 2.608e-01, tolerance: 6.687e-02\n",
      "  model = cd_fast.enet_coordinate_descent(\n"
     ]
    },
    {
     "name": "stdout",
     "output_type": "stream",
     "text": [
      "sto facendo alpha: 0.011\n"
     ]
    },
    {
     "name": "stderr",
     "output_type": "stream",
     "text": [
      "/Library/Frameworks/Python.framework/Versions/3.11/lib/python3.11/site-packages/sklearn/linear_model/_coordinate_descent.py:697: ConvergenceWarning: Objective did not converge. You might want to increase the number of iterations, check the scale of the features or consider increasing regularisation. Duality gap: 9.752e-02, tolerance: 6.687e-02\n",
      "  model = cd_fast.enet_coordinate_descent(\n"
     ]
    },
    {
     "name": "stdout",
     "output_type": "stream",
     "text": [
      "per 0.011 sceglie 202\n"
     ]
    },
    {
     "name": "stderr",
     "output_type": "stream",
     "text": [
      "/Library/Frameworks/Python.framework/Versions/3.11/lib/python3.11/site-packages/sklearn/linear_model/_coordinate_descent.py:697: ConvergenceWarning: Objective did not converge. You might want to increase the number of iterations, check the scale of the features or consider increasing regularisation. Duality gap: 9.752e-02, tolerance: 6.687e-02\n",
      "  model = cd_fast.enet_coordinate_descent(\n"
     ]
    },
    {
     "name": "stdout",
     "output_type": "stream",
     "text": [
      "sto facendo alpha: 0.012\n",
      "per 0.012 sceglie 190\n",
      "sto facendo alpha: 0.013\n",
      "per 0.013 sceglie 164\n",
      "sto facendo alpha: 0.014\n",
      "per 0.014 sceglie 152\n",
      "sto facendo alpha: 0.015\n",
      "per 0.015 sceglie 136\n",
      "sto facendo alpha: 0.016\n",
      "per 0.016 sceglie 128\n",
      "sto facendo alpha: 0.017\n",
      "per 0.017 sceglie 115\n",
      "sto facendo alpha: 0.018\n",
      "per 0.018 sceglie 107\n",
      "sto facendo alpha: 0.019\n",
      "per 0.019 sceglie 99\n",
      "sto facendo alpha: 0.02\n",
      "per 0.02 sceglie 95\n",
      "sto facendo alpha: 0.022\n",
      "per 0.022 sceglie 85\n",
      "sto facendo alpha: 0.0418\n",
      "per 0.0418 sceglie 39\n",
      "sto facendo alpha: 0.0616\n",
      "per 0.0616 sceglie 24\n",
      "sto facendo alpha: 0.0813\n",
      "per 0.0813 sceglie 15\n",
      "sto facendo alpha: 0.1011\n",
      "per 0.1011 sceglie 10\n",
      "sto facendo alpha: 0.1209\n",
      "per 0.1209 sceglie 5\n",
      "sto facendo alpha: 0.1407\n",
      "per 0.1407 sceglie 4\n",
      "sto facendo alpha: 0.1604\n",
      "per 0.1604 sceglie 3\n",
      "sto facendo alpha: 0.1802\n",
      "per 0.1802 sceglie 3\n",
      "sto facendo alpha: 0.2\n",
      "per 0.2 sceglie 2\n",
      "Starting with mode: MV\n",
      "Starting with classifier: RandomForest\n",
      "Doing with selector: mrmr\n",
      "sto facendo features: 2\n",
      "sto facendo features: 3\n",
      "sto facendo features: 4\n",
      "sto facendo features: 5\n",
      "sto facendo features: 6\n",
      "sto facendo features: 7\n",
      "sto facendo features: 8\n",
      "sto facendo features: 9\n",
      "sto facendo features: 10\n",
      "sto facendo features: 11\n",
      "sto facendo features: 12\n",
      "sto facendo features: 13\n",
      "sto facendo features: 14\n",
      "sto facendo features: 15\n",
      "sto facendo features: 16\n",
      "sto facendo features: 17\n",
      "sto facendo features: 18\n",
      "sto facendo features: 19\n",
      "sto facendo features: 20\n",
      "sto facendo features: 21\n",
      "sto facendo features: 22\n",
      "sto facendo features: 23\n",
      "sto facendo features: 24\n",
      "sto facendo features: 25\n",
      "sto facendo features: 26\n",
      "sto facendo features: 27\n",
      "sto facendo features: 28\n",
      "sto facendo features: 29\n",
      "Doing with selector: rf\n",
      "sto facendo features: 2\n",
      "sto facendo features: 3\n",
      "sto facendo features: 4\n",
      "sto facendo features: 5\n",
      "sto facendo features: 6\n",
      "sto facendo features: 7\n",
      "sto facendo features: 8\n",
      "sto facendo features: 9\n",
      "sto facendo features: 10\n",
      "sto facendo features: 11\n",
      "sto facendo features: 12\n",
      "sto facendo features: 13\n",
      "sto facendo features: 14\n",
      "sto facendo features: 15\n",
      "sto facendo features: 16\n",
      "sto facendo features: 17\n",
      "sto facendo features: 18\n",
      "sto facendo features: 19\n",
      "sto facendo features: 20\n",
      "sto facendo features: 21\n",
      "sto facendo features: 22\n",
      "sto facendo features: 23\n",
      "sto facendo features: 24\n",
      "sto facendo features: 25\n",
      "sto facendo features: 26\n",
      "sto facendo features: 27\n",
      "sto facendo features: 28\n",
      "sto facendo features: 29\n",
      "Doing with selector: logistic\n",
      "sto facendo features: 2\n",
      "sto facendo features: 3\n",
      "sto facendo features: 4\n",
      "sto facendo features: 5\n",
      "sto facendo features: 6\n",
      "sto facendo features: 7\n",
      "sto facendo features: 8\n",
      "sto facendo features: 9\n",
      "sto facendo features: 10\n",
      "sto facendo features: 11\n",
      "sto facendo features: 12\n",
      "sto facendo features: 13\n",
      "sto facendo features: 14\n",
      "sto facendo features: 15\n",
      "sto facendo features: 16\n",
      "sto facendo features: 17\n",
      "sto facendo features: 18\n",
      "sto facendo features: 19\n",
      "sto facendo features: 20\n",
      "sto facendo features: 21\n",
      "sto facendo features: 22\n",
      "sto facendo features: 23\n",
      "sto facendo features: 24\n",
      "sto facendo features: 25\n",
      "sto facendo features: 26\n",
      "sto facendo features: 27\n",
      "sto facendo features: 28\n",
      "sto facendo features: 29\n",
      "Doing with selector: lasso\n",
      "sto facendo alpha: 0.001\n"
     ]
    },
    {
     "name": "stderr",
     "output_type": "stream",
     "text": [
      "/Library/Frameworks/Python.framework/Versions/3.11/lib/python3.11/site-packages/sklearn/linear_model/_coordinate_descent.py:697: ConvergenceWarning: Objective did not converge. You might want to increase the number of iterations, check the scale of the features or consider increasing regularisation. Duality gap: 8.199e+01, tolerance: 6.687e-02\n",
      "  model = cd_fast.enet_coordinate_descent(\n"
     ]
    },
    {
     "name": "stdout",
     "output_type": "stream",
     "text": [
      "per 0.001 sceglie 748\n"
     ]
    },
    {
     "name": "stderr",
     "output_type": "stream",
     "text": [
      "/Library/Frameworks/Python.framework/Versions/3.11/lib/python3.11/site-packages/sklearn/linear_model/_coordinate_descent.py:697: ConvergenceWarning: Objective did not converge. You might want to increase the number of iterations, check the scale of the features or consider increasing regularisation. Duality gap: 8.199e+01, tolerance: 6.687e-02\n",
      "  model = cd_fast.enet_coordinate_descent(\n"
     ]
    },
    {
     "name": "stdout",
     "output_type": "stream",
     "text": [
      "sto facendo alpha: 0.002\n"
     ]
    },
    {
     "name": "stderr",
     "output_type": "stream",
     "text": [
      "/Library/Frameworks/Python.framework/Versions/3.11/lib/python3.11/site-packages/sklearn/linear_model/_coordinate_descent.py:697: ConvergenceWarning: Objective did not converge. You might want to increase the number of iterations, check the scale of the features or consider increasing regularisation. Duality gap: 6.470e+01, tolerance: 6.687e-02\n",
      "  model = cd_fast.enet_coordinate_descent(\n"
     ]
    },
    {
     "name": "stdout",
     "output_type": "stream",
     "text": [
      "per 0.002 sceglie 619\n"
     ]
    },
    {
     "name": "stderr",
     "output_type": "stream",
     "text": [
      "/Library/Frameworks/Python.framework/Versions/3.11/lib/python3.11/site-packages/sklearn/linear_model/_coordinate_descent.py:697: ConvergenceWarning: Objective did not converge. You might want to increase the number of iterations, check the scale of the features or consider increasing regularisation. Duality gap: 6.470e+01, tolerance: 6.687e-02\n",
      "  model = cd_fast.enet_coordinate_descent(\n"
     ]
    },
    {
     "name": "stdout",
     "output_type": "stream",
     "text": [
      "sto facendo alpha: 0.003\n"
     ]
    },
    {
     "name": "stderr",
     "output_type": "stream",
     "text": [
      "/Library/Frameworks/Python.framework/Versions/3.11/lib/python3.11/site-packages/sklearn/linear_model/_coordinate_descent.py:697: ConvergenceWarning: Objective did not converge. You might want to increase the number of iterations, check the scale of the features or consider increasing regularisation. Duality gap: 6.081e+01, tolerance: 6.687e-02\n",
      "  model = cd_fast.enet_coordinate_descent(\n"
     ]
    },
    {
     "name": "stdout",
     "output_type": "stream",
     "text": [
      "per 0.003 sceglie 531\n"
     ]
    },
    {
     "name": "stderr",
     "output_type": "stream",
     "text": [
      "/Library/Frameworks/Python.framework/Versions/3.11/lib/python3.11/site-packages/sklearn/linear_model/_coordinate_descent.py:697: ConvergenceWarning: Objective did not converge. You might want to increase the number of iterations, check the scale of the features or consider increasing regularisation. Duality gap: 6.081e+01, tolerance: 6.687e-02\n",
      "  model = cd_fast.enet_coordinate_descent(\n"
     ]
    },
    {
     "name": "stdout",
     "output_type": "stream",
     "text": [
      "sto facendo alpha: 0.004\n"
     ]
    },
    {
     "name": "stderr",
     "output_type": "stream",
     "text": [
      "/Library/Frameworks/Python.framework/Versions/3.11/lib/python3.11/site-packages/sklearn/linear_model/_coordinate_descent.py:697: ConvergenceWarning: Objective did not converge. You might want to increase the number of iterations, check the scale of the features or consider increasing regularisation. Duality gap: 2.769e+01, tolerance: 6.687e-02\n",
      "  model = cd_fast.enet_coordinate_descent(\n"
     ]
    },
    {
     "name": "stdout",
     "output_type": "stream",
     "text": [
      "per 0.004 sceglie 464\n"
     ]
    },
    {
     "name": "stderr",
     "output_type": "stream",
     "text": [
      "/Library/Frameworks/Python.framework/Versions/3.11/lib/python3.11/site-packages/sklearn/linear_model/_coordinate_descent.py:697: ConvergenceWarning: Objective did not converge. You might want to increase the number of iterations, check the scale of the features or consider increasing regularisation. Duality gap: 2.769e+01, tolerance: 6.687e-02\n",
      "  model = cd_fast.enet_coordinate_descent(\n"
     ]
    },
    {
     "name": "stdout",
     "output_type": "stream",
     "text": [
      "sto facendo alpha: 0.005\n"
     ]
    },
    {
     "name": "stderr",
     "output_type": "stream",
     "text": [
      "/Library/Frameworks/Python.framework/Versions/3.11/lib/python3.11/site-packages/sklearn/linear_model/_coordinate_descent.py:697: ConvergenceWarning: Objective did not converge. You might want to increase the number of iterations, check the scale of the features or consider increasing regularisation. Duality gap: 2.195e+01, tolerance: 6.687e-02\n",
      "  model = cd_fast.enet_coordinate_descent(\n"
     ]
    },
    {
     "name": "stdout",
     "output_type": "stream",
     "text": [
      "per 0.005 sceglie 398\n"
     ]
    },
    {
     "name": "stderr",
     "output_type": "stream",
     "text": [
      "/Library/Frameworks/Python.framework/Versions/3.11/lib/python3.11/site-packages/sklearn/linear_model/_coordinate_descent.py:697: ConvergenceWarning: Objective did not converge. You might want to increase the number of iterations, check the scale of the features or consider increasing regularisation. Duality gap: 2.195e+01, tolerance: 6.687e-02\n",
      "  model = cd_fast.enet_coordinate_descent(\n"
     ]
    },
    {
     "name": "stdout",
     "output_type": "stream",
     "text": [
      "sto facendo alpha: 0.006\n"
     ]
    },
    {
     "name": "stderr",
     "output_type": "stream",
     "text": [
      "/Library/Frameworks/Python.framework/Versions/3.11/lib/python3.11/site-packages/sklearn/linear_model/_coordinate_descent.py:697: ConvergenceWarning: Objective did not converge. You might want to increase the number of iterations, check the scale of the features or consider increasing regularisation. Duality gap: 1.006e+01, tolerance: 6.687e-02\n",
      "  model = cd_fast.enet_coordinate_descent(\n"
     ]
    },
    {
     "name": "stdout",
     "output_type": "stream",
     "text": [
      "per 0.006 sceglie 349\n"
     ]
    },
    {
     "name": "stderr",
     "output_type": "stream",
     "text": [
      "/Library/Frameworks/Python.framework/Versions/3.11/lib/python3.11/site-packages/sklearn/linear_model/_coordinate_descent.py:697: ConvergenceWarning: Objective did not converge. You might want to increase the number of iterations, check the scale of the features or consider increasing regularisation. Duality gap: 1.006e+01, tolerance: 6.687e-02\n",
      "  model = cd_fast.enet_coordinate_descent(\n"
     ]
    },
    {
     "name": "stdout",
     "output_type": "stream",
     "text": [
      "sto facendo alpha: 0.007\n"
     ]
    },
    {
     "name": "stderr",
     "output_type": "stream",
     "text": [
      "/Library/Frameworks/Python.framework/Versions/3.11/lib/python3.11/site-packages/sklearn/linear_model/_coordinate_descent.py:697: ConvergenceWarning: Objective did not converge. You might want to increase the number of iterations, check the scale of the features or consider increasing regularisation. Duality gap: 4.060e+00, tolerance: 6.687e-02\n",
      "  model = cd_fast.enet_coordinate_descent(\n"
     ]
    },
    {
     "name": "stdout",
     "output_type": "stream",
     "text": [
      "per 0.007 sceglie 306\n"
     ]
    },
    {
     "name": "stderr",
     "output_type": "stream",
     "text": [
      "/Library/Frameworks/Python.framework/Versions/3.11/lib/python3.11/site-packages/sklearn/linear_model/_coordinate_descent.py:697: ConvergenceWarning: Objective did not converge. You might want to increase the number of iterations, check the scale of the features or consider increasing regularisation. Duality gap: 4.060e+00, tolerance: 6.687e-02\n",
      "  model = cd_fast.enet_coordinate_descent(\n"
     ]
    },
    {
     "name": "stdout",
     "output_type": "stream",
     "text": [
      "sto facendo alpha: 0.008\n"
     ]
    },
    {
     "name": "stderr",
     "output_type": "stream",
     "text": [
      "/Library/Frameworks/Python.framework/Versions/3.11/lib/python3.11/site-packages/sklearn/linear_model/_coordinate_descent.py:697: ConvergenceWarning: Objective did not converge. You might want to increase the number of iterations, check the scale of the features or consider increasing regularisation. Duality gap: 1.663e+00, tolerance: 6.687e-02\n",
      "  model = cd_fast.enet_coordinate_descent(\n"
     ]
    },
    {
     "name": "stdout",
     "output_type": "stream",
     "text": [
      "per 0.008 sceglie 265\n"
     ]
    },
    {
     "name": "stderr",
     "output_type": "stream",
     "text": [
      "/Library/Frameworks/Python.framework/Versions/3.11/lib/python3.11/site-packages/sklearn/linear_model/_coordinate_descent.py:697: ConvergenceWarning: Objective did not converge. You might want to increase the number of iterations, check the scale of the features or consider increasing regularisation. Duality gap: 1.663e+00, tolerance: 6.687e-02\n",
      "  model = cd_fast.enet_coordinate_descent(\n"
     ]
    },
    {
     "name": "stdout",
     "output_type": "stream",
     "text": [
      "sto facendo alpha: 0.009\n"
     ]
    },
    {
     "name": "stderr",
     "output_type": "stream",
     "text": [
      "/Library/Frameworks/Python.framework/Versions/3.11/lib/python3.11/site-packages/sklearn/linear_model/_coordinate_descent.py:697: ConvergenceWarning: Objective did not converge. You might want to increase the number of iterations, check the scale of the features or consider increasing regularisation. Duality gap: 7.892e-01, tolerance: 6.687e-02\n",
      "  model = cd_fast.enet_coordinate_descent(\n"
     ]
    },
    {
     "name": "stdout",
     "output_type": "stream",
     "text": [
      "per 0.009 sceglie 247\n"
     ]
    },
    {
     "name": "stderr",
     "output_type": "stream",
     "text": [
      "/Library/Frameworks/Python.framework/Versions/3.11/lib/python3.11/site-packages/sklearn/linear_model/_coordinate_descent.py:697: ConvergenceWarning: Objective did not converge. You might want to increase the number of iterations, check the scale of the features or consider increasing regularisation. Duality gap: 7.892e-01, tolerance: 6.687e-02\n",
      "  model = cd_fast.enet_coordinate_descent(\n"
     ]
    },
    {
     "name": "stdout",
     "output_type": "stream",
     "text": [
      "sto facendo alpha: 0.01\n"
     ]
    },
    {
     "name": "stderr",
     "output_type": "stream",
     "text": [
      "/Library/Frameworks/Python.framework/Versions/3.11/lib/python3.11/site-packages/sklearn/linear_model/_coordinate_descent.py:697: ConvergenceWarning: Objective did not converge. You might want to increase the number of iterations, check the scale of the features or consider increasing regularisation. Duality gap: 2.608e-01, tolerance: 6.687e-02\n",
      "  model = cd_fast.enet_coordinate_descent(\n"
     ]
    },
    {
     "name": "stdout",
     "output_type": "stream",
     "text": [
      "per 0.01 sceglie 222\n"
     ]
    },
    {
     "name": "stderr",
     "output_type": "stream",
     "text": [
      "/Library/Frameworks/Python.framework/Versions/3.11/lib/python3.11/site-packages/sklearn/linear_model/_coordinate_descent.py:697: ConvergenceWarning: Objective did not converge. You might want to increase the number of iterations, check the scale of the features or consider increasing regularisation. Duality gap: 2.608e-01, tolerance: 6.687e-02\n",
      "  model = cd_fast.enet_coordinate_descent(\n"
     ]
    },
    {
     "name": "stdout",
     "output_type": "stream",
     "text": [
      "sto facendo alpha: 0.011\n"
     ]
    },
    {
     "name": "stderr",
     "output_type": "stream",
     "text": [
      "/Library/Frameworks/Python.framework/Versions/3.11/lib/python3.11/site-packages/sklearn/linear_model/_coordinate_descent.py:697: ConvergenceWarning: Objective did not converge. You might want to increase the number of iterations, check the scale of the features or consider increasing regularisation. Duality gap: 9.752e-02, tolerance: 6.687e-02\n",
      "  model = cd_fast.enet_coordinate_descent(\n"
     ]
    },
    {
     "name": "stdout",
     "output_type": "stream",
     "text": [
      "per 0.011 sceglie 202\n"
     ]
    },
    {
     "name": "stderr",
     "output_type": "stream",
     "text": [
      "/Library/Frameworks/Python.framework/Versions/3.11/lib/python3.11/site-packages/sklearn/linear_model/_coordinate_descent.py:697: ConvergenceWarning: Objective did not converge. You might want to increase the number of iterations, check the scale of the features or consider increasing regularisation. Duality gap: 9.752e-02, tolerance: 6.687e-02\n",
      "  model = cd_fast.enet_coordinate_descent(\n"
     ]
    },
    {
     "name": "stdout",
     "output_type": "stream",
     "text": [
      "sto facendo alpha: 0.012\n",
      "per 0.012 sceglie 190\n",
      "sto facendo alpha: 0.013\n",
      "per 0.013 sceglie 164\n",
      "sto facendo alpha: 0.014\n",
      "per 0.014 sceglie 152\n",
      "sto facendo alpha: 0.015\n",
      "per 0.015 sceglie 136\n",
      "sto facendo alpha: 0.016\n",
      "per 0.016 sceglie 128\n",
      "sto facendo alpha: 0.017\n",
      "per 0.017 sceglie 115\n",
      "sto facendo alpha: 0.018\n",
      "per 0.018 sceglie 107\n",
      "sto facendo alpha: 0.019\n",
      "per 0.019 sceglie 99\n",
      "sto facendo alpha: 0.02\n",
      "per 0.02 sceglie 95\n",
      "sto facendo alpha: 0.022\n",
      "per 0.022 sceglie 85\n",
      "sto facendo alpha: 0.0418\n",
      "per 0.0418 sceglie 39\n",
      "sto facendo alpha: 0.0616\n",
      "per 0.0616 sceglie 24\n",
      "sto facendo alpha: 0.0813\n",
      "per 0.0813 sceglie 15\n",
      "sto facendo alpha: 0.1011\n",
      "per 0.1011 sceglie 10\n",
      "sto facendo alpha: 0.1209\n",
      "per 0.1209 sceglie 5\n",
      "sto facendo alpha: 0.1407\n",
      "per 0.1407 sceglie 4\n",
      "sto facendo alpha: 0.1604\n",
      "per 0.1604 sceglie 3\n",
      "sto facendo alpha: 0.1802\n",
      "per 0.1802 sceglie 3\n",
      "sto facendo alpha: 0.2\n",
      "per 0.2 sceglie 2\n",
      "Starting with classifier: Logistic\n",
      "Doing with selector: mrmr\n",
      "sto facendo features: 2\n",
      "sto facendo features: 3\n",
      "sto facendo features: 4\n",
      "sto facendo features: 5\n",
      "sto facendo features: 6\n",
      "sto facendo features: 7\n",
      "sto facendo features: 8\n",
      "sto facendo features: 9\n",
      "sto facendo features: 10\n",
      "sto facendo features: 11\n",
      "sto facendo features: 12\n",
      "sto facendo features: 13\n",
      "sto facendo features: 14\n",
      "sto facendo features: 15\n",
      "sto facendo features: 16\n",
      "sto facendo features: 17\n",
      "sto facendo features: 18\n",
      "sto facendo features: 19\n",
      "sto facendo features: 20\n",
      "sto facendo features: 21\n",
      "sto facendo features: 22\n",
      "sto facendo features: 23\n",
      "sto facendo features: 24\n",
      "sto facendo features: 25\n",
      "sto facendo features: 26\n",
      "sto facendo features: 27\n",
      "sto facendo features: 28\n",
      "sto facendo features: 29\n",
      "Doing with selector: rf\n",
      "sto facendo features: 2\n",
      "sto facendo features: 3\n",
      "sto facendo features: 4\n",
      "sto facendo features: 5\n",
      "sto facendo features: 6\n",
      "sto facendo features: 7\n",
      "sto facendo features: 8\n",
      "sto facendo features: 9\n",
      "sto facendo features: 10\n",
      "sto facendo features: 11\n",
      "sto facendo features: 12\n",
      "sto facendo features: 13\n",
      "sto facendo features: 14\n",
      "sto facendo features: 15\n",
      "sto facendo features: 16\n",
      "sto facendo features: 17\n",
      "sto facendo features: 18\n",
      "sto facendo features: 19\n",
      "sto facendo features: 20\n",
      "sto facendo features: 21\n",
      "sto facendo features: 22\n",
      "sto facendo features: 23\n",
      "sto facendo features: 24\n",
      "sto facendo features: 25\n",
      "sto facendo features: 26\n",
      "sto facendo features: 27\n",
      "sto facendo features: 28\n",
      "sto facendo features: 29\n",
      "Doing with selector: logistic\n",
      "sto facendo features: 2\n",
      "sto facendo features: 3\n",
      "sto facendo features: 4\n",
      "sto facendo features: 5\n",
      "sto facendo features: 6\n",
      "sto facendo features: 7\n",
      "sto facendo features: 8\n",
      "sto facendo features: 9\n",
      "sto facendo features: 10\n",
      "sto facendo features: 11\n",
      "sto facendo features: 12\n",
      "sto facendo features: 13\n",
      "sto facendo features: 14\n",
      "sto facendo features: 15\n",
      "sto facendo features: 16\n",
      "sto facendo features: 17\n",
      "sto facendo features: 18\n",
      "sto facendo features: 19\n",
      "sto facendo features: 20\n",
      "sto facendo features: 21\n",
      "sto facendo features: 22\n",
      "sto facendo features: 23\n",
      "sto facendo features: 24\n",
      "sto facendo features: 25\n",
      "sto facendo features: 26\n",
      "sto facendo features: 27\n",
      "sto facendo features: 28\n",
      "sto facendo features: 29\n",
      "Doing with selector: lasso\n",
      "sto facendo alpha: 0.001\n"
     ]
    },
    {
     "name": "stderr",
     "output_type": "stream",
     "text": [
      "/Library/Frameworks/Python.framework/Versions/3.11/lib/python3.11/site-packages/sklearn/linear_model/_coordinate_descent.py:697: ConvergenceWarning: Objective did not converge. You might want to increase the number of iterations, check the scale of the features or consider increasing regularisation. Duality gap: 8.199e+01, tolerance: 6.687e-02\n",
      "  model = cd_fast.enet_coordinate_descent(\n"
     ]
    },
    {
     "name": "stdout",
     "output_type": "stream",
     "text": [
      "per 0.001 sceglie 748\n"
     ]
    },
    {
     "name": "stderr",
     "output_type": "stream",
     "text": [
      "/Library/Frameworks/Python.framework/Versions/3.11/lib/python3.11/site-packages/sklearn/linear_model/_coordinate_descent.py:697: ConvergenceWarning: Objective did not converge. You might want to increase the number of iterations, check the scale of the features or consider increasing regularisation. Duality gap: 8.199e+01, tolerance: 6.687e-02\n",
      "  model = cd_fast.enet_coordinate_descent(\n"
     ]
    },
    {
     "name": "stdout",
     "output_type": "stream",
     "text": [
      "sto facendo alpha: 0.002\n"
     ]
    },
    {
     "name": "stderr",
     "output_type": "stream",
     "text": [
      "/Library/Frameworks/Python.framework/Versions/3.11/lib/python3.11/site-packages/sklearn/linear_model/_coordinate_descent.py:697: ConvergenceWarning: Objective did not converge. You might want to increase the number of iterations, check the scale of the features or consider increasing regularisation. Duality gap: 6.470e+01, tolerance: 6.687e-02\n",
      "  model = cd_fast.enet_coordinate_descent(\n"
     ]
    },
    {
     "name": "stdout",
     "output_type": "stream",
     "text": [
      "per 0.002 sceglie 619\n"
     ]
    },
    {
     "name": "stderr",
     "output_type": "stream",
     "text": [
      "/Library/Frameworks/Python.framework/Versions/3.11/lib/python3.11/site-packages/sklearn/linear_model/_coordinate_descent.py:697: ConvergenceWarning: Objective did not converge. You might want to increase the number of iterations, check the scale of the features or consider increasing regularisation. Duality gap: 6.470e+01, tolerance: 6.687e-02\n",
      "  model = cd_fast.enet_coordinate_descent(\n"
     ]
    },
    {
     "name": "stdout",
     "output_type": "stream",
     "text": [
      "sto facendo alpha: 0.003\n"
     ]
    },
    {
     "name": "stderr",
     "output_type": "stream",
     "text": [
      "/Library/Frameworks/Python.framework/Versions/3.11/lib/python3.11/site-packages/sklearn/linear_model/_coordinate_descent.py:697: ConvergenceWarning: Objective did not converge. You might want to increase the number of iterations, check the scale of the features or consider increasing regularisation. Duality gap: 6.081e+01, tolerance: 6.687e-02\n",
      "  model = cd_fast.enet_coordinate_descent(\n"
     ]
    },
    {
     "name": "stdout",
     "output_type": "stream",
     "text": [
      "per 0.003 sceglie 531\n"
     ]
    },
    {
     "name": "stderr",
     "output_type": "stream",
     "text": [
      "/Library/Frameworks/Python.framework/Versions/3.11/lib/python3.11/site-packages/sklearn/linear_model/_coordinate_descent.py:697: ConvergenceWarning: Objective did not converge. You might want to increase the number of iterations, check the scale of the features or consider increasing regularisation. Duality gap: 6.081e+01, tolerance: 6.687e-02\n",
      "  model = cd_fast.enet_coordinate_descent(\n"
     ]
    },
    {
     "name": "stdout",
     "output_type": "stream",
     "text": [
      "sto facendo alpha: 0.004\n"
     ]
    },
    {
     "name": "stderr",
     "output_type": "stream",
     "text": [
      "/Library/Frameworks/Python.framework/Versions/3.11/lib/python3.11/site-packages/sklearn/linear_model/_coordinate_descent.py:697: ConvergenceWarning: Objective did not converge. You might want to increase the number of iterations, check the scale of the features or consider increasing regularisation. Duality gap: 2.769e+01, tolerance: 6.687e-02\n",
      "  model = cd_fast.enet_coordinate_descent(\n"
     ]
    },
    {
     "name": "stdout",
     "output_type": "stream",
     "text": [
      "per 0.004 sceglie 464\n"
     ]
    },
    {
     "name": "stderr",
     "output_type": "stream",
     "text": [
      "/Library/Frameworks/Python.framework/Versions/3.11/lib/python3.11/site-packages/sklearn/linear_model/_coordinate_descent.py:697: ConvergenceWarning: Objective did not converge. You might want to increase the number of iterations, check the scale of the features or consider increasing regularisation. Duality gap: 2.769e+01, tolerance: 6.687e-02\n",
      "  model = cd_fast.enet_coordinate_descent(\n"
     ]
    },
    {
     "name": "stdout",
     "output_type": "stream",
     "text": [
      "sto facendo alpha: 0.005\n"
     ]
    },
    {
     "name": "stderr",
     "output_type": "stream",
     "text": [
      "/Library/Frameworks/Python.framework/Versions/3.11/lib/python3.11/site-packages/sklearn/linear_model/_coordinate_descent.py:697: ConvergenceWarning: Objective did not converge. You might want to increase the number of iterations, check the scale of the features or consider increasing regularisation. Duality gap: 2.195e+01, tolerance: 6.687e-02\n",
      "  model = cd_fast.enet_coordinate_descent(\n"
     ]
    },
    {
     "name": "stdout",
     "output_type": "stream",
     "text": [
      "per 0.005 sceglie 398\n"
     ]
    },
    {
     "name": "stderr",
     "output_type": "stream",
     "text": [
      "/Library/Frameworks/Python.framework/Versions/3.11/lib/python3.11/site-packages/sklearn/linear_model/_coordinate_descent.py:697: ConvergenceWarning: Objective did not converge. You might want to increase the number of iterations, check the scale of the features or consider increasing regularisation. Duality gap: 2.195e+01, tolerance: 6.687e-02\n",
      "  model = cd_fast.enet_coordinate_descent(\n"
     ]
    },
    {
     "name": "stdout",
     "output_type": "stream",
     "text": [
      "sto facendo alpha: 0.006\n"
     ]
    },
    {
     "name": "stderr",
     "output_type": "stream",
     "text": [
      "/Library/Frameworks/Python.framework/Versions/3.11/lib/python3.11/site-packages/sklearn/linear_model/_coordinate_descent.py:697: ConvergenceWarning: Objective did not converge. You might want to increase the number of iterations, check the scale of the features or consider increasing regularisation. Duality gap: 1.006e+01, tolerance: 6.687e-02\n",
      "  model = cd_fast.enet_coordinate_descent(\n"
     ]
    },
    {
     "name": "stdout",
     "output_type": "stream",
     "text": [
      "per 0.006 sceglie 349\n"
     ]
    },
    {
     "name": "stderr",
     "output_type": "stream",
     "text": [
      "/Library/Frameworks/Python.framework/Versions/3.11/lib/python3.11/site-packages/sklearn/linear_model/_coordinate_descent.py:697: ConvergenceWarning: Objective did not converge. You might want to increase the number of iterations, check the scale of the features or consider increasing regularisation. Duality gap: 1.006e+01, tolerance: 6.687e-02\n",
      "  model = cd_fast.enet_coordinate_descent(\n"
     ]
    },
    {
     "name": "stdout",
     "output_type": "stream",
     "text": [
      "sto facendo alpha: 0.007\n"
     ]
    },
    {
     "name": "stderr",
     "output_type": "stream",
     "text": [
      "/Library/Frameworks/Python.framework/Versions/3.11/lib/python3.11/site-packages/sklearn/linear_model/_coordinate_descent.py:697: ConvergenceWarning: Objective did not converge. You might want to increase the number of iterations, check the scale of the features or consider increasing regularisation. Duality gap: 4.060e+00, tolerance: 6.687e-02\n",
      "  model = cd_fast.enet_coordinate_descent(\n"
     ]
    },
    {
     "name": "stdout",
     "output_type": "stream",
     "text": [
      "per 0.007 sceglie 306\n"
     ]
    },
    {
     "name": "stderr",
     "output_type": "stream",
     "text": [
      "/Library/Frameworks/Python.framework/Versions/3.11/lib/python3.11/site-packages/sklearn/linear_model/_coordinate_descent.py:697: ConvergenceWarning: Objective did not converge. You might want to increase the number of iterations, check the scale of the features or consider increasing regularisation. Duality gap: 4.060e+00, tolerance: 6.687e-02\n",
      "  model = cd_fast.enet_coordinate_descent(\n"
     ]
    },
    {
     "name": "stdout",
     "output_type": "stream",
     "text": [
      "sto facendo alpha: 0.008\n"
     ]
    },
    {
     "name": "stderr",
     "output_type": "stream",
     "text": [
      "/Library/Frameworks/Python.framework/Versions/3.11/lib/python3.11/site-packages/sklearn/linear_model/_coordinate_descent.py:697: ConvergenceWarning: Objective did not converge. You might want to increase the number of iterations, check the scale of the features or consider increasing regularisation. Duality gap: 1.663e+00, tolerance: 6.687e-02\n",
      "  model = cd_fast.enet_coordinate_descent(\n"
     ]
    },
    {
     "name": "stdout",
     "output_type": "stream",
     "text": [
      "per 0.008 sceglie 265\n"
     ]
    },
    {
     "name": "stderr",
     "output_type": "stream",
     "text": [
      "/Library/Frameworks/Python.framework/Versions/3.11/lib/python3.11/site-packages/sklearn/linear_model/_coordinate_descent.py:697: ConvergenceWarning: Objective did not converge. You might want to increase the number of iterations, check the scale of the features or consider increasing regularisation. Duality gap: 1.663e+00, tolerance: 6.687e-02\n",
      "  model = cd_fast.enet_coordinate_descent(\n"
     ]
    },
    {
     "name": "stdout",
     "output_type": "stream",
     "text": [
      "sto facendo alpha: 0.009\n"
     ]
    },
    {
     "name": "stderr",
     "output_type": "stream",
     "text": [
      "/Library/Frameworks/Python.framework/Versions/3.11/lib/python3.11/site-packages/sklearn/linear_model/_coordinate_descent.py:697: ConvergenceWarning: Objective did not converge. You might want to increase the number of iterations, check the scale of the features or consider increasing regularisation. Duality gap: 7.892e-01, tolerance: 6.687e-02\n",
      "  model = cd_fast.enet_coordinate_descent(\n"
     ]
    },
    {
     "name": "stdout",
     "output_type": "stream",
     "text": [
      "per 0.009 sceglie 247\n"
     ]
    },
    {
     "name": "stderr",
     "output_type": "stream",
     "text": [
      "/Library/Frameworks/Python.framework/Versions/3.11/lib/python3.11/site-packages/sklearn/linear_model/_coordinate_descent.py:697: ConvergenceWarning: Objective did not converge. You might want to increase the number of iterations, check the scale of the features or consider increasing regularisation. Duality gap: 7.892e-01, tolerance: 6.687e-02\n",
      "  model = cd_fast.enet_coordinate_descent(\n"
     ]
    },
    {
     "name": "stdout",
     "output_type": "stream",
     "text": [
      "sto facendo alpha: 0.01\n"
     ]
    },
    {
     "name": "stderr",
     "output_type": "stream",
     "text": [
      "/Library/Frameworks/Python.framework/Versions/3.11/lib/python3.11/site-packages/sklearn/linear_model/_coordinate_descent.py:697: ConvergenceWarning: Objective did not converge. You might want to increase the number of iterations, check the scale of the features or consider increasing regularisation. Duality gap: 2.608e-01, tolerance: 6.687e-02\n",
      "  model = cd_fast.enet_coordinate_descent(\n"
     ]
    },
    {
     "name": "stdout",
     "output_type": "stream",
     "text": [
      "per 0.01 sceglie 222\n"
     ]
    },
    {
     "name": "stderr",
     "output_type": "stream",
     "text": [
      "/Library/Frameworks/Python.framework/Versions/3.11/lib/python3.11/site-packages/sklearn/linear_model/_coordinate_descent.py:697: ConvergenceWarning: Objective did not converge. You might want to increase the number of iterations, check the scale of the features or consider increasing regularisation. Duality gap: 2.608e-01, tolerance: 6.687e-02\n",
      "  model = cd_fast.enet_coordinate_descent(\n"
     ]
    },
    {
     "name": "stdout",
     "output_type": "stream",
     "text": [
      "sto facendo alpha: 0.011\n"
     ]
    },
    {
     "name": "stderr",
     "output_type": "stream",
     "text": [
      "/Library/Frameworks/Python.framework/Versions/3.11/lib/python3.11/site-packages/sklearn/linear_model/_coordinate_descent.py:697: ConvergenceWarning: Objective did not converge. You might want to increase the number of iterations, check the scale of the features or consider increasing regularisation. Duality gap: 9.752e-02, tolerance: 6.687e-02\n",
      "  model = cd_fast.enet_coordinate_descent(\n"
     ]
    },
    {
     "name": "stdout",
     "output_type": "stream",
     "text": [
      "per 0.011 sceglie 202\n"
     ]
    },
    {
     "name": "stderr",
     "output_type": "stream",
     "text": [
      "/Library/Frameworks/Python.framework/Versions/3.11/lib/python3.11/site-packages/sklearn/linear_model/_coordinate_descent.py:697: ConvergenceWarning: Objective did not converge. You might want to increase the number of iterations, check the scale of the features or consider increasing regularisation. Duality gap: 9.752e-02, tolerance: 6.687e-02\n",
      "  model = cd_fast.enet_coordinate_descent(\n"
     ]
    },
    {
     "name": "stdout",
     "output_type": "stream",
     "text": [
      "sto facendo alpha: 0.012\n",
      "per 0.012 sceglie 190\n",
      "sto facendo alpha: 0.013\n",
      "per 0.013 sceglie 164\n",
      "sto facendo alpha: 0.014\n",
      "per 0.014 sceglie 152\n",
      "sto facendo alpha: 0.015\n",
      "per 0.015 sceglie 136\n",
      "sto facendo alpha: 0.016\n",
      "per 0.016 sceglie 128\n",
      "sto facendo alpha: 0.017\n",
      "per 0.017 sceglie 115\n",
      "sto facendo alpha: 0.018\n",
      "per 0.018 sceglie 107\n",
      "sto facendo alpha: 0.019\n",
      "per 0.019 sceglie 99\n",
      "sto facendo alpha: 0.02\n",
      "per 0.02 sceglie 95\n",
      "sto facendo alpha: 0.022\n",
      "per 0.022 sceglie 85\n",
      "sto facendo alpha: 0.0418\n",
      "per 0.0418 sceglie 39\n",
      "sto facendo alpha: 0.0616\n",
      "per 0.0616 sceglie 24\n",
      "sto facendo alpha: 0.0813\n",
      "per 0.0813 sceglie 15\n",
      "sto facendo alpha: 0.1011\n",
      "per 0.1011 sceglie 10\n",
      "sto facendo alpha: 0.1209\n",
      "per 0.1209 sceglie 5\n",
      "sto facendo alpha: 0.1407\n",
      "per 0.1407 sceglie 4\n",
      "sto facendo alpha: 0.1604\n",
      "per 0.1604 sceglie 3\n",
      "sto facendo alpha: 0.1802\n",
      "per 0.1802 sceglie 3\n",
      "sto facendo alpha: 0.2\n",
      "per 0.2 sceglie 2\n",
      "Starting with classifier: XgBoost\n",
      "Doing with selector: mrmr\n",
      "sto facendo features: 2\n",
      "sto facendo features: 3\n",
      "sto facendo features: 4\n",
      "sto facendo features: 5\n",
      "sto facendo features: 6\n",
      "sto facendo features: 7\n",
      "sto facendo features: 8\n",
      "sto facendo features: 9\n",
      "sto facendo features: 10\n",
      "sto facendo features: 11\n",
      "sto facendo features: 12\n",
      "sto facendo features: 13\n",
      "sto facendo features: 14\n",
      "sto facendo features: 15\n",
      "sto facendo features: 16\n",
      "sto facendo features: 17\n",
      "sto facendo features: 18\n",
      "sto facendo features: 19\n",
      "sto facendo features: 20\n",
      "sto facendo features: 21\n",
      "sto facendo features: 22\n",
      "sto facendo features: 23\n",
      "sto facendo features: 24\n",
      "sto facendo features: 25\n",
      "sto facendo features: 26\n",
      "sto facendo features: 27\n",
      "sto facendo features: 28\n",
      "sto facendo features: 29\n",
      "Doing with selector: rf\n",
      "sto facendo features: 2\n",
      "sto facendo features: 3\n",
      "sto facendo features: 4\n",
      "sto facendo features: 5\n",
      "sto facendo features: 6\n",
      "sto facendo features: 7\n",
      "sto facendo features: 8\n",
      "sto facendo features: 9\n",
      "sto facendo features: 10\n",
      "sto facendo features: 11\n",
      "sto facendo features: 12\n",
      "sto facendo features: 13\n",
      "sto facendo features: 14\n",
      "sto facendo features: 15\n",
      "sto facendo features: 16\n",
      "sto facendo features: 17\n",
      "sto facendo features: 18\n",
      "sto facendo features: 19\n",
      "sto facendo features: 20\n",
      "sto facendo features: 21\n",
      "sto facendo features: 22\n",
      "sto facendo features: 23\n",
      "sto facendo features: 24\n",
      "sto facendo features: 25\n",
      "sto facendo features: 26\n",
      "sto facendo features: 27\n",
      "sto facendo features: 28\n",
      "sto facendo features: 29\n",
      "Doing with selector: logistic\n",
      "sto facendo features: 2\n",
      "sto facendo features: 3\n",
      "sto facendo features: 4\n",
      "sto facendo features: 5\n",
      "sto facendo features: 6\n",
      "sto facendo features: 7\n",
      "sto facendo features: 8\n",
      "sto facendo features: 9\n",
      "sto facendo features: 10\n",
      "sto facendo features: 11\n",
      "sto facendo features: 12\n",
      "sto facendo features: 13\n",
      "sto facendo features: 14\n",
      "sto facendo features: 15\n",
      "sto facendo features: 16\n",
      "sto facendo features: 17\n",
      "sto facendo features: 18\n",
      "sto facendo features: 19\n",
      "sto facendo features: 20\n",
      "sto facendo features: 21\n",
      "sto facendo features: 22\n",
      "sto facendo features: 23\n",
      "sto facendo features: 24\n",
      "sto facendo features: 25\n",
      "sto facendo features: 26\n",
      "sto facendo features: 27\n",
      "sto facendo features: 28\n",
      "sto facendo features: 29\n",
      "Doing with selector: lasso\n",
      "sto facendo alpha: 0.001\n"
     ]
    },
    {
     "name": "stderr",
     "output_type": "stream",
     "text": [
      "/Library/Frameworks/Python.framework/Versions/3.11/lib/python3.11/site-packages/sklearn/linear_model/_coordinate_descent.py:697: ConvergenceWarning: Objective did not converge. You might want to increase the number of iterations, check the scale of the features or consider increasing regularisation. Duality gap: 8.199e+01, tolerance: 6.687e-02\n",
      "  model = cd_fast.enet_coordinate_descent(\n"
     ]
    },
    {
     "name": "stdout",
     "output_type": "stream",
     "text": [
      "per 0.001 sceglie 748\n"
     ]
    },
    {
     "name": "stderr",
     "output_type": "stream",
     "text": [
      "/Library/Frameworks/Python.framework/Versions/3.11/lib/python3.11/site-packages/sklearn/linear_model/_coordinate_descent.py:697: ConvergenceWarning: Objective did not converge. You might want to increase the number of iterations, check the scale of the features or consider increasing regularisation. Duality gap: 8.199e+01, tolerance: 6.687e-02\n",
      "  model = cd_fast.enet_coordinate_descent(\n"
     ]
    },
    {
     "name": "stdout",
     "output_type": "stream",
     "text": [
      "sto facendo alpha: 0.002\n"
     ]
    },
    {
     "name": "stderr",
     "output_type": "stream",
     "text": [
      "/Library/Frameworks/Python.framework/Versions/3.11/lib/python3.11/site-packages/sklearn/linear_model/_coordinate_descent.py:697: ConvergenceWarning: Objective did not converge. You might want to increase the number of iterations, check the scale of the features or consider increasing regularisation. Duality gap: 6.470e+01, tolerance: 6.687e-02\n",
      "  model = cd_fast.enet_coordinate_descent(\n"
     ]
    },
    {
     "name": "stdout",
     "output_type": "stream",
     "text": [
      "per 0.002 sceglie 619\n"
     ]
    },
    {
     "name": "stderr",
     "output_type": "stream",
     "text": [
      "/Library/Frameworks/Python.framework/Versions/3.11/lib/python3.11/site-packages/sklearn/linear_model/_coordinate_descent.py:697: ConvergenceWarning: Objective did not converge. You might want to increase the number of iterations, check the scale of the features or consider increasing regularisation. Duality gap: 6.470e+01, tolerance: 6.687e-02\n",
      "  model = cd_fast.enet_coordinate_descent(\n"
     ]
    },
    {
     "name": "stdout",
     "output_type": "stream",
     "text": [
      "sto facendo alpha: 0.003\n"
     ]
    },
    {
     "name": "stderr",
     "output_type": "stream",
     "text": [
      "/Library/Frameworks/Python.framework/Versions/3.11/lib/python3.11/site-packages/sklearn/linear_model/_coordinate_descent.py:697: ConvergenceWarning: Objective did not converge. You might want to increase the number of iterations, check the scale of the features or consider increasing regularisation. Duality gap: 6.081e+01, tolerance: 6.687e-02\n",
      "  model = cd_fast.enet_coordinate_descent(\n"
     ]
    },
    {
     "name": "stdout",
     "output_type": "stream",
     "text": [
      "per 0.003 sceglie 531\n"
     ]
    },
    {
     "name": "stderr",
     "output_type": "stream",
     "text": [
      "/Library/Frameworks/Python.framework/Versions/3.11/lib/python3.11/site-packages/sklearn/linear_model/_coordinate_descent.py:697: ConvergenceWarning: Objective did not converge. You might want to increase the number of iterations, check the scale of the features or consider increasing regularisation. Duality gap: 6.081e+01, tolerance: 6.687e-02\n",
      "  model = cd_fast.enet_coordinate_descent(\n"
     ]
    },
    {
     "name": "stdout",
     "output_type": "stream",
     "text": [
      "sto facendo alpha: 0.004\n"
     ]
    },
    {
     "name": "stderr",
     "output_type": "stream",
     "text": [
      "/Library/Frameworks/Python.framework/Versions/3.11/lib/python3.11/site-packages/sklearn/linear_model/_coordinate_descent.py:697: ConvergenceWarning: Objective did not converge. You might want to increase the number of iterations, check the scale of the features or consider increasing regularisation. Duality gap: 2.769e+01, tolerance: 6.687e-02\n",
      "  model = cd_fast.enet_coordinate_descent(\n"
     ]
    },
    {
     "name": "stdout",
     "output_type": "stream",
     "text": [
      "per 0.004 sceglie 464\n"
     ]
    },
    {
     "name": "stderr",
     "output_type": "stream",
     "text": [
      "/Library/Frameworks/Python.framework/Versions/3.11/lib/python3.11/site-packages/sklearn/linear_model/_coordinate_descent.py:697: ConvergenceWarning: Objective did not converge. You might want to increase the number of iterations, check the scale of the features or consider increasing regularisation. Duality gap: 2.769e+01, tolerance: 6.687e-02\n",
      "  model = cd_fast.enet_coordinate_descent(\n"
     ]
    },
    {
     "name": "stdout",
     "output_type": "stream",
     "text": [
      "sto facendo alpha: 0.005\n"
     ]
    },
    {
     "name": "stderr",
     "output_type": "stream",
     "text": [
      "/Library/Frameworks/Python.framework/Versions/3.11/lib/python3.11/site-packages/sklearn/linear_model/_coordinate_descent.py:697: ConvergenceWarning: Objective did not converge. You might want to increase the number of iterations, check the scale of the features or consider increasing regularisation. Duality gap: 2.195e+01, tolerance: 6.687e-02\n",
      "  model = cd_fast.enet_coordinate_descent(\n"
     ]
    },
    {
     "name": "stdout",
     "output_type": "stream",
     "text": [
      "per 0.005 sceglie 398\n"
     ]
    },
    {
     "name": "stderr",
     "output_type": "stream",
     "text": [
      "/Library/Frameworks/Python.framework/Versions/3.11/lib/python3.11/site-packages/sklearn/linear_model/_coordinate_descent.py:697: ConvergenceWarning: Objective did not converge. You might want to increase the number of iterations, check the scale of the features or consider increasing regularisation. Duality gap: 2.195e+01, tolerance: 6.687e-02\n",
      "  model = cd_fast.enet_coordinate_descent(\n"
     ]
    },
    {
     "name": "stdout",
     "output_type": "stream",
     "text": [
      "sto facendo alpha: 0.006\n"
     ]
    },
    {
     "name": "stderr",
     "output_type": "stream",
     "text": [
      "/Library/Frameworks/Python.framework/Versions/3.11/lib/python3.11/site-packages/sklearn/linear_model/_coordinate_descent.py:697: ConvergenceWarning: Objective did not converge. You might want to increase the number of iterations, check the scale of the features or consider increasing regularisation. Duality gap: 1.006e+01, tolerance: 6.687e-02\n",
      "  model = cd_fast.enet_coordinate_descent(\n"
     ]
    },
    {
     "name": "stdout",
     "output_type": "stream",
     "text": [
      "per 0.006 sceglie 349\n"
     ]
    },
    {
     "name": "stderr",
     "output_type": "stream",
     "text": [
      "/Library/Frameworks/Python.framework/Versions/3.11/lib/python3.11/site-packages/sklearn/linear_model/_coordinate_descent.py:697: ConvergenceWarning: Objective did not converge. You might want to increase the number of iterations, check the scale of the features or consider increasing regularisation. Duality gap: 1.006e+01, tolerance: 6.687e-02\n",
      "  model = cd_fast.enet_coordinate_descent(\n"
     ]
    },
    {
     "name": "stdout",
     "output_type": "stream",
     "text": [
      "sto facendo alpha: 0.007\n"
     ]
    },
    {
     "name": "stderr",
     "output_type": "stream",
     "text": [
      "/Library/Frameworks/Python.framework/Versions/3.11/lib/python3.11/site-packages/sklearn/linear_model/_coordinate_descent.py:697: ConvergenceWarning: Objective did not converge. You might want to increase the number of iterations, check the scale of the features or consider increasing regularisation. Duality gap: 4.060e+00, tolerance: 6.687e-02\n",
      "  model = cd_fast.enet_coordinate_descent(\n"
     ]
    },
    {
     "name": "stdout",
     "output_type": "stream",
     "text": [
      "per 0.007 sceglie 306\n"
     ]
    },
    {
     "name": "stderr",
     "output_type": "stream",
     "text": [
      "/Library/Frameworks/Python.framework/Versions/3.11/lib/python3.11/site-packages/sklearn/linear_model/_coordinate_descent.py:697: ConvergenceWarning: Objective did not converge. You might want to increase the number of iterations, check the scale of the features or consider increasing regularisation. Duality gap: 4.060e+00, tolerance: 6.687e-02\n",
      "  model = cd_fast.enet_coordinate_descent(\n"
     ]
    },
    {
     "name": "stdout",
     "output_type": "stream",
     "text": [
      "sto facendo alpha: 0.008\n"
     ]
    },
    {
     "name": "stderr",
     "output_type": "stream",
     "text": [
      "/Library/Frameworks/Python.framework/Versions/3.11/lib/python3.11/site-packages/sklearn/linear_model/_coordinate_descent.py:697: ConvergenceWarning: Objective did not converge. You might want to increase the number of iterations, check the scale of the features or consider increasing regularisation. Duality gap: 1.663e+00, tolerance: 6.687e-02\n",
      "  model = cd_fast.enet_coordinate_descent(\n"
     ]
    },
    {
     "name": "stdout",
     "output_type": "stream",
     "text": [
      "per 0.008 sceglie 265\n"
     ]
    },
    {
     "name": "stderr",
     "output_type": "stream",
     "text": [
      "/Library/Frameworks/Python.framework/Versions/3.11/lib/python3.11/site-packages/sklearn/linear_model/_coordinate_descent.py:697: ConvergenceWarning: Objective did not converge. You might want to increase the number of iterations, check the scale of the features or consider increasing regularisation. Duality gap: 1.663e+00, tolerance: 6.687e-02\n",
      "  model = cd_fast.enet_coordinate_descent(\n"
     ]
    },
    {
     "name": "stdout",
     "output_type": "stream",
     "text": [
      "sto facendo alpha: 0.009\n"
     ]
    },
    {
     "name": "stderr",
     "output_type": "stream",
     "text": [
      "/Library/Frameworks/Python.framework/Versions/3.11/lib/python3.11/site-packages/sklearn/linear_model/_coordinate_descent.py:697: ConvergenceWarning: Objective did not converge. You might want to increase the number of iterations, check the scale of the features or consider increasing regularisation. Duality gap: 7.892e-01, tolerance: 6.687e-02\n",
      "  model = cd_fast.enet_coordinate_descent(\n"
     ]
    },
    {
     "name": "stdout",
     "output_type": "stream",
     "text": [
      "per 0.009 sceglie 247\n"
     ]
    },
    {
     "name": "stderr",
     "output_type": "stream",
     "text": [
      "/Library/Frameworks/Python.framework/Versions/3.11/lib/python3.11/site-packages/sklearn/linear_model/_coordinate_descent.py:697: ConvergenceWarning: Objective did not converge. You might want to increase the number of iterations, check the scale of the features or consider increasing regularisation. Duality gap: 7.892e-01, tolerance: 6.687e-02\n",
      "  model = cd_fast.enet_coordinate_descent(\n"
     ]
    },
    {
     "name": "stdout",
     "output_type": "stream",
     "text": [
      "sto facendo alpha: 0.01\n"
     ]
    },
    {
     "name": "stderr",
     "output_type": "stream",
     "text": [
      "/Library/Frameworks/Python.framework/Versions/3.11/lib/python3.11/site-packages/sklearn/linear_model/_coordinate_descent.py:697: ConvergenceWarning: Objective did not converge. You might want to increase the number of iterations, check the scale of the features or consider increasing regularisation. Duality gap: 2.608e-01, tolerance: 6.687e-02\n",
      "  model = cd_fast.enet_coordinate_descent(\n"
     ]
    },
    {
     "name": "stdout",
     "output_type": "stream",
     "text": [
      "per 0.01 sceglie 222\n"
     ]
    },
    {
     "name": "stderr",
     "output_type": "stream",
     "text": [
      "/Library/Frameworks/Python.framework/Versions/3.11/lib/python3.11/site-packages/sklearn/linear_model/_coordinate_descent.py:697: ConvergenceWarning: Objective did not converge. You might want to increase the number of iterations, check the scale of the features or consider increasing regularisation. Duality gap: 2.608e-01, tolerance: 6.687e-02\n",
      "  model = cd_fast.enet_coordinate_descent(\n"
     ]
    },
    {
     "name": "stdout",
     "output_type": "stream",
     "text": [
      "sto facendo alpha: 0.011\n"
     ]
    },
    {
     "name": "stderr",
     "output_type": "stream",
     "text": [
      "/Library/Frameworks/Python.framework/Versions/3.11/lib/python3.11/site-packages/sklearn/linear_model/_coordinate_descent.py:697: ConvergenceWarning: Objective did not converge. You might want to increase the number of iterations, check the scale of the features or consider increasing regularisation. Duality gap: 9.752e-02, tolerance: 6.687e-02\n",
      "  model = cd_fast.enet_coordinate_descent(\n"
     ]
    },
    {
     "name": "stdout",
     "output_type": "stream",
     "text": [
      "per 0.011 sceglie 202\n"
     ]
    },
    {
     "name": "stderr",
     "output_type": "stream",
     "text": [
      "/Library/Frameworks/Python.framework/Versions/3.11/lib/python3.11/site-packages/sklearn/linear_model/_coordinate_descent.py:697: ConvergenceWarning: Objective did not converge. You might want to increase the number of iterations, check the scale of the features or consider increasing regularisation. Duality gap: 9.752e-02, tolerance: 6.687e-02\n",
      "  model = cd_fast.enet_coordinate_descent(\n"
     ]
    },
    {
     "name": "stdout",
     "output_type": "stream",
     "text": [
      "sto facendo alpha: 0.012\n",
      "per 0.012 sceglie 190\n",
      "sto facendo alpha: 0.013\n",
      "per 0.013 sceglie 164\n",
      "sto facendo alpha: 0.014\n",
      "per 0.014 sceglie 152\n",
      "sto facendo alpha: 0.015\n",
      "per 0.015 sceglie 136\n",
      "sto facendo alpha: 0.016\n",
      "per 0.016 sceglie 128\n",
      "sto facendo alpha: 0.017\n",
      "per 0.017 sceglie 115\n",
      "sto facendo alpha: 0.018\n",
      "per 0.018 sceglie 107\n",
      "sto facendo alpha: 0.019\n",
      "per 0.019 sceglie 99\n",
      "sto facendo alpha: 0.02\n",
      "per 0.02 sceglie 95\n",
      "sto facendo alpha: 0.022\n",
      "per 0.022 sceglie 85\n",
      "sto facendo alpha: 0.0418\n",
      "per 0.0418 sceglie 39\n",
      "sto facendo alpha: 0.0616\n",
      "per 0.0616 sceglie 24\n",
      "sto facendo alpha: 0.0813\n",
      "per 0.0813 sceglie 15\n",
      "sto facendo alpha: 0.1011\n",
      "per 0.1011 sceglie 10\n",
      "sto facendo alpha: 0.1209\n",
      "per 0.1209 sceglie 5\n",
      "sto facendo alpha: 0.1407\n",
      "per 0.1407 sceglie 4\n",
      "sto facendo alpha: 0.1604\n",
      "per 0.1604 sceglie 3\n",
      "sto facendo alpha: 0.1802\n",
      "per 0.1802 sceglie 3\n",
      "sto facendo alpha: 0.2\n",
      "per 0.2 sceglie 2\n",
      "Starting with classifier: MLP\n",
      "Doing with selector: mrmr\n",
      "sto facendo features: 2\n",
      "sto facendo features: 3\n",
      "sto facendo features: 4\n",
      "sto facendo features: 5\n",
      "sto facendo features: 6\n",
      "sto facendo features: 7\n",
      "sto facendo features: 8\n",
      "sto facendo features: 9\n",
      "sto facendo features: 10\n",
      "sto facendo features: 11\n",
      "sto facendo features: 12\n",
      "sto facendo features: 13\n",
      "sto facendo features: 14\n",
      "sto facendo features: 15\n",
      "sto facendo features: 16\n",
      "sto facendo features: 17\n",
      "sto facendo features: 18\n",
      "sto facendo features: 19\n",
      "sto facendo features: 20\n",
      "sto facendo features: 21\n",
      "sto facendo features: 22\n",
      "sto facendo features: 23\n",
      "sto facendo features: 24\n",
      "sto facendo features: 25\n",
      "sto facendo features: 26\n",
      "sto facendo features: 27\n",
      "sto facendo features: 28\n",
      "sto facendo features: 29\n",
      "Doing with selector: rf\n",
      "sto facendo features: 2\n",
      "sto facendo features: 3\n",
      "sto facendo features: 4\n",
      "sto facendo features: 5\n",
      "sto facendo features: 6\n",
      "sto facendo features: 7\n",
      "sto facendo features: 8\n",
      "sto facendo features: 9\n",
      "sto facendo features: 10\n",
      "sto facendo features: 11\n",
      "sto facendo features: 12\n",
      "sto facendo features: 13\n",
      "sto facendo features: 14\n",
      "sto facendo features: 15\n",
      "sto facendo features: 16\n",
      "sto facendo features: 17\n",
      "sto facendo features: 18\n",
      "sto facendo features: 19\n",
      "sto facendo features: 20\n",
      "sto facendo features: 21\n",
      "sto facendo features: 22\n",
      "sto facendo features: 23\n",
      "sto facendo features: 24\n",
      "sto facendo features: 25\n",
      "sto facendo features: 26\n",
      "sto facendo features: 27\n",
      "sto facendo features: 28\n",
      "sto facendo features: 29\n",
      "Doing with selector: logistic\n",
      "sto facendo features: 2\n",
      "sto facendo features: 3\n",
      "sto facendo features: 4\n",
      "sto facendo features: 5\n",
      "sto facendo features: 6\n",
      "sto facendo features: 7\n",
      "sto facendo features: 8\n",
      "sto facendo features: 9\n",
      "sto facendo features: 10\n",
      "sto facendo features: 11\n",
      "sto facendo features: 12\n",
      "sto facendo features: 13\n",
      "sto facendo features: 14\n",
      "sto facendo features: 15\n",
      "sto facendo features: 16\n",
      "sto facendo features: 17\n",
      "sto facendo features: 18\n",
      "sto facendo features: 19\n",
      "sto facendo features: 20\n",
      "sto facendo features: 21\n",
      "sto facendo features: 22\n",
      "sto facendo features: 23\n",
      "sto facendo features: 24\n",
      "sto facendo features: 25\n",
      "sto facendo features: 26\n",
      "sto facendo features: 27\n",
      "sto facendo features: 28\n",
      "sto facendo features: 29\n",
      "Doing with selector: lasso\n",
      "sto facendo alpha: 0.001\n"
     ]
    },
    {
     "name": "stderr",
     "output_type": "stream",
     "text": [
      "/Library/Frameworks/Python.framework/Versions/3.11/lib/python3.11/site-packages/sklearn/linear_model/_coordinate_descent.py:697: ConvergenceWarning: Objective did not converge. You might want to increase the number of iterations, check the scale of the features or consider increasing regularisation. Duality gap: 8.199e+01, tolerance: 6.687e-02\n",
      "  model = cd_fast.enet_coordinate_descent(\n"
     ]
    },
    {
     "name": "stdout",
     "output_type": "stream",
     "text": [
      "per 0.001 sceglie 748\n"
     ]
    },
    {
     "name": "stderr",
     "output_type": "stream",
     "text": [
      "/Library/Frameworks/Python.framework/Versions/3.11/lib/python3.11/site-packages/sklearn/linear_model/_coordinate_descent.py:697: ConvergenceWarning: Objective did not converge. You might want to increase the number of iterations, check the scale of the features or consider increasing regularisation. Duality gap: 8.199e+01, tolerance: 6.687e-02\n",
      "  model = cd_fast.enet_coordinate_descent(\n"
     ]
    },
    {
     "name": "stdout",
     "output_type": "stream",
     "text": [
      "sto facendo alpha: 0.002\n"
     ]
    },
    {
     "name": "stderr",
     "output_type": "stream",
     "text": [
      "/Library/Frameworks/Python.framework/Versions/3.11/lib/python3.11/site-packages/sklearn/linear_model/_coordinate_descent.py:697: ConvergenceWarning: Objective did not converge. You might want to increase the number of iterations, check the scale of the features or consider increasing regularisation. Duality gap: 6.470e+01, tolerance: 6.687e-02\n",
      "  model = cd_fast.enet_coordinate_descent(\n"
     ]
    },
    {
     "name": "stdout",
     "output_type": "stream",
     "text": [
      "per 0.002 sceglie 619\n"
     ]
    },
    {
     "name": "stderr",
     "output_type": "stream",
     "text": [
      "/Library/Frameworks/Python.framework/Versions/3.11/lib/python3.11/site-packages/sklearn/linear_model/_coordinate_descent.py:697: ConvergenceWarning: Objective did not converge. You might want to increase the number of iterations, check the scale of the features or consider increasing regularisation. Duality gap: 6.470e+01, tolerance: 6.687e-02\n",
      "  model = cd_fast.enet_coordinate_descent(\n"
     ]
    },
    {
     "name": "stdout",
     "output_type": "stream",
     "text": [
      "sto facendo alpha: 0.003\n"
     ]
    },
    {
     "name": "stderr",
     "output_type": "stream",
     "text": [
      "/Library/Frameworks/Python.framework/Versions/3.11/lib/python3.11/site-packages/sklearn/linear_model/_coordinate_descent.py:697: ConvergenceWarning: Objective did not converge. You might want to increase the number of iterations, check the scale of the features or consider increasing regularisation. Duality gap: 6.081e+01, tolerance: 6.687e-02\n",
      "  model = cd_fast.enet_coordinate_descent(\n"
     ]
    },
    {
     "name": "stdout",
     "output_type": "stream",
     "text": [
      "per 0.003 sceglie 531\n"
     ]
    },
    {
     "name": "stderr",
     "output_type": "stream",
     "text": [
      "/Library/Frameworks/Python.framework/Versions/3.11/lib/python3.11/site-packages/sklearn/linear_model/_coordinate_descent.py:697: ConvergenceWarning: Objective did not converge. You might want to increase the number of iterations, check the scale of the features or consider increasing regularisation. Duality gap: 6.081e+01, tolerance: 6.687e-02\n",
      "  model = cd_fast.enet_coordinate_descent(\n"
     ]
    },
    {
     "name": "stdout",
     "output_type": "stream",
     "text": [
      "sto facendo alpha: 0.004\n"
     ]
    },
    {
     "name": "stderr",
     "output_type": "stream",
     "text": [
      "/Library/Frameworks/Python.framework/Versions/3.11/lib/python3.11/site-packages/sklearn/linear_model/_coordinate_descent.py:697: ConvergenceWarning: Objective did not converge. You might want to increase the number of iterations, check the scale of the features or consider increasing regularisation. Duality gap: 2.769e+01, tolerance: 6.687e-02\n",
      "  model = cd_fast.enet_coordinate_descent(\n"
     ]
    },
    {
     "name": "stdout",
     "output_type": "stream",
     "text": [
      "per 0.004 sceglie 464\n"
     ]
    },
    {
     "name": "stderr",
     "output_type": "stream",
     "text": [
      "/Library/Frameworks/Python.framework/Versions/3.11/lib/python3.11/site-packages/sklearn/linear_model/_coordinate_descent.py:697: ConvergenceWarning: Objective did not converge. You might want to increase the number of iterations, check the scale of the features or consider increasing regularisation. Duality gap: 2.769e+01, tolerance: 6.687e-02\n",
      "  model = cd_fast.enet_coordinate_descent(\n"
     ]
    },
    {
     "name": "stdout",
     "output_type": "stream",
     "text": [
      "sto facendo alpha: 0.005\n"
     ]
    },
    {
     "name": "stderr",
     "output_type": "stream",
     "text": [
      "/Library/Frameworks/Python.framework/Versions/3.11/lib/python3.11/site-packages/sklearn/linear_model/_coordinate_descent.py:697: ConvergenceWarning: Objective did not converge. You might want to increase the number of iterations, check the scale of the features or consider increasing regularisation. Duality gap: 2.195e+01, tolerance: 6.687e-02\n",
      "  model = cd_fast.enet_coordinate_descent(\n"
     ]
    },
    {
     "name": "stdout",
     "output_type": "stream",
     "text": [
      "per 0.005 sceglie 398\n"
     ]
    },
    {
     "name": "stderr",
     "output_type": "stream",
     "text": [
      "/Library/Frameworks/Python.framework/Versions/3.11/lib/python3.11/site-packages/sklearn/linear_model/_coordinate_descent.py:697: ConvergenceWarning: Objective did not converge. You might want to increase the number of iterations, check the scale of the features or consider increasing regularisation. Duality gap: 2.195e+01, tolerance: 6.687e-02\n",
      "  model = cd_fast.enet_coordinate_descent(\n"
     ]
    },
    {
     "name": "stdout",
     "output_type": "stream",
     "text": [
      "sto facendo alpha: 0.006\n"
     ]
    },
    {
     "name": "stderr",
     "output_type": "stream",
     "text": [
      "/Library/Frameworks/Python.framework/Versions/3.11/lib/python3.11/site-packages/sklearn/linear_model/_coordinate_descent.py:697: ConvergenceWarning: Objective did not converge. You might want to increase the number of iterations, check the scale of the features or consider increasing regularisation. Duality gap: 1.006e+01, tolerance: 6.687e-02\n",
      "  model = cd_fast.enet_coordinate_descent(\n"
     ]
    },
    {
     "name": "stdout",
     "output_type": "stream",
     "text": [
      "per 0.006 sceglie 349\n"
     ]
    },
    {
     "name": "stderr",
     "output_type": "stream",
     "text": [
      "/Library/Frameworks/Python.framework/Versions/3.11/lib/python3.11/site-packages/sklearn/linear_model/_coordinate_descent.py:697: ConvergenceWarning: Objective did not converge. You might want to increase the number of iterations, check the scale of the features or consider increasing regularisation. Duality gap: 1.006e+01, tolerance: 6.687e-02\n",
      "  model = cd_fast.enet_coordinate_descent(\n"
     ]
    },
    {
     "name": "stdout",
     "output_type": "stream",
     "text": [
      "sto facendo alpha: 0.007\n"
     ]
    },
    {
     "name": "stderr",
     "output_type": "stream",
     "text": [
      "/Library/Frameworks/Python.framework/Versions/3.11/lib/python3.11/site-packages/sklearn/linear_model/_coordinate_descent.py:697: ConvergenceWarning: Objective did not converge. You might want to increase the number of iterations, check the scale of the features or consider increasing regularisation. Duality gap: 4.060e+00, tolerance: 6.687e-02\n",
      "  model = cd_fast.enet_coordinate_descent(\n"
     ]
    },
    {
     "name": "stdout",
     "output_type": "stream",
     "text": [
      "per 0.007 sceglie 306\n"
     ]
    },
    {
     "name": "stderr",
     "output_type": "stream",
     "text": [
      "/Library/Frameworks/Python.framework/Versions/3.11/lib/python3.11/site-packages/sklearn/linear_model/_coordinate_descent.py:697: ConvergenceWarning: Objective did not converge. You might want to increase the number of iterations, check the scale of the features or consider increasing regularisation. Duality gap: 4.060e+00, tolerance: 6.687e-02\n",
      "  model = cd_fast.enet_coordinate_descent(\n"
     ]
    },
    {
     "name": "stdout",
     "output_type": "stream",
     "text": [
      "sto facendo alpha: 0.008\n"
     ]
    },
    {
     "name": "stderr",
     "output_type": "stream",
     "text": [
      "/Library/Frameworks/Python.framework/Versions/3.11/lib/python3.11/site-packages/sklearn/linear_model/_coordinate_descent.py:697: ConvergenceWarning: Objective did not converge. You might want to increase the number of iterations, check the scale of the features or consider increasing regularisation. Duality gap: 1.663e+00, tolerance: 6.687e-02\n",
      "  model = cd_fast.enet_coordinate_descent(\n"
     ]
    },
    {
     "name": "stdout",
     "output_type": "stream",
     "text": [
      "per 0.008 sceglie 265\n"
     ]
    },
    {
     "name": "stderr",
     "output_type": "stream",
     "text": [
      "/Library/Frameworks/Python.framework/Versions/3.11/lib/python3.11/site-packages/sklearn/linear_model/_coordinate_descent.py:697: ConvergenceWarning: Objective did not converge. You might want to increase the number of iterations, check the scale of the features or consider increasing regularisation. Duality gap: 1.663e+00, tolerance: 6.687e-02\n",
      "  model = cd_fast.enet_coordinate_descent(\n"
     ]
    },
    {
     "name": "stdout",
     "output_type": "stream",
     "text": [
      "sto facendo alpha: 0.009\n"
     ]
    },
    {
     "name": "stderr",
     "output_type": "stream",
     "text": [
      "/Library/Frameworks/Python.framework/Versions/3.11/lib/python3.11/site-packages/sklearn/linear_model/_coordinate_descent.py:697: ConvergenceWarning: Objective did not converge. You might want to increase the number of iterations, check the scale of the features or consider increasing regularisation. Duality gap: 7.892e-01, tolerance: 6.687e-02\n",
      "  model = cd_fast.enet_coordinate_descent(\n"
     ]
    },
    {
     "name": "stdout",
     "output_type": "stream",
     "text": [
      "per 0.009 sceglie 247\n"
     ]
    },
    {
     "name": "stderr",
     "output_type": "stream",
     "text": [
      "/Library/Frameworks/Python.framework/Versions/3.11/lib/python3.11/site-packages/sklearn/linear_model/_coordinate_descent.py:697: ConvergenceWarning: Objective did not converge. You might want to increase the number of iterations, check the scale of the features or consider increasing regularisation. Duality gap: 7.892e-01, tolerance: 6.687e-02\n",
      "  model = cd_fast.enet_coordinate_descent(\n"
     ]
    },
    {
     "name": "stdout",
     "output_type": "stream",
     "text": [
      "sto facendo alpha: 0.01\n"
     ]
    },
    {
     "name": "stderr",
     "output_type": "stream",
     "text": [
      "/Library/Frameworks/Python.framework/Versions/3.11/lib/python3.11/site-packages/sklearn/linear_model/_coordinate_descent.py:697: ConvergenceWarning: Objective did not converge. You might want to increase the number of iterations, check the scale of the features or consider increasing regularisation. Duality gap: 2.608e-01, tolerance: 6.687e-02\n",
      "  model = cd_fast.enet_coordinate_descent(\n"
     ]
    },
    {
     "name": "stdout",
     "output_type": "stream",
     "text": [
      "per 0.01 sceglie 222\n"
     ]
    },
    {
     "name": "stderr",
     "output_type": "stream",
     "text": [
      "/Library/Frameworks/Python.framework/Versions/3.11/lib/python3.11/site-packages/sklearn/linear_model/_coordinate_descent.py:697: ConvergenceWarning: Objective did not converge. You might want to increase the number of iterations, check the scale of the features or consider increasing regularisation. Duality gap: 2.608e-01, tolerance: 6.687e-02\n",
      "  model = cd_fast.enet_coordinate_descent(\n"
     ]
    },
    {
     "name": "stdout",
     "output_type": "stream",
     "text": [
      "sto facendo alpha: 0.011\n"
     ]
    },
    {
     "name": "stderr",
     "output_type": "stream",
     "text": [
      "/Library/Frameworks/Python.framework/Versions/3.11/lib/python3.11/site-packages/sklearn/linear_model/_coordinate_descent.py:697: ConvergenceWarning: Objective did not converge. You might want to increase the number of iterations, check the scale of the features or consider increasing regularisation. Duality gap: 9.752e-02, tolerance: 6.687e-02\n",
      "  model = cd_fast.enet_coordinate_descent(\n"
     ]
    },
    {
     "name": "stdout",
     "output_type": "stream",
     "text": [
      "per 0.011 sceglie 202\n"
     ]
    },
    {
     "name": "stderr",
     "output_type": "stream",
     "text": [
      "/Library/Frameworks/Python.framework/Versions/3.11/lib/python3.11/site-packages/sklearn/linear_model/_coordinate_descent.py:697: ConvergenceWarning: Objective did not converge. You might want to increase the number of iterations, check the scale of the features or consider increasing regularisation. Duality gap: 9.752e-02, tolerance: 6.687e-02\n",
      "  model = cd_fast.enet_coordinate_descent(\n"
     ]
    },
    {
     "name": "stdout",
     "output_type": "stream",
     "text": [
      "sto facendo alpha: 0.012\n",
      "per 0.012 sceglie 190\n",
      "sto facendo alpha: 0.013\n",
      "per 0.013 sceglie 164\n",
      "sto facendo alpha: 0.014\n",
      "per 0.014 sceglie 152\n",
      "sto facendo alpha: 0.015\n",
      "per 0.015 sceglie 136\n",
      "sto facendo alpha: 0.016\n",
      "per 0.016 sceglie 128\n",
      "sto facendo alpha: 0.017\n",
      "per 0.017 sceglie 115\n",
      "sto facendo alpha: 0.018\n",
      "per 0.018 sceglie 107\n",
      "sto facendo alpha: 0.019\n",
      "per 0.019 sceglie 99\n",
      "sto facendo alpha: 0.02\n",
      "per 0.02 sceglie 95\n",
      "sto facendo alpha: 0.022\n",
      "per 0.022 sceglie 85\n",
      "sto facendo alpha: 0.0418\n",
      "per 0.0418 sceglie 39\n",
      "sto facendo alpha: 0.0616\n",
      "per 0.0616 sceglie 24\n",
      "sto facendo alpha: 0.0813\n",
      "per 0.0813 sceglie 15\n",
      "sto facendo alpha: 0.1011\n",
      "per 0.1011 sceglie 10\n",
      "sto facendo alpha: 0.1209\n",
      "per 0.1209 sceglie 5\n",
      "sto facendo alpha: 0.1407\n",
      "per 0.1407 sceglie 4\n",
      "sto facendo alpha: 0.1604\n",
      "per 0.1604 sceglie 3\n",
      "sto facendo alpha: 0.1802\n",
      "per 0.1802 sceglie 3\n",
      "sto facendo alpha: 0.2\n",
      "per 0.2 sceglie 2\n",
      "Starting with classifier: SVM\n",
      "Doing with selector: mrmr\n",
      "sto facendo features: 2\n",
      "sto facendo features: 3\n",
      "sto facendo features: 4\n",
      "sto facendo features: 5\n",
      "sto facendo features: 6\n",
      "sto facendo features: 7\n",
      "sto facendo features: 8\n",
      "sto facendo features: 9\n",
      "sto facendo features: 10\n",
      "sto facendo features: 11\n",
      "sto facendo features: 12\n",
      "sto facendo features: 13\n",
      "sto facendo features: 14\n",
      "sto facendo features: 15\n",
      "sto facendo features: 16\n",
      "sto facendo features: 17\n",
      "sto facendo features: 18\n",
      "sto facendo features: 19\n",
      "sto facendo features: 20\n",
      "sto facendo features: 21\n",
      "sto facendo features: 22\n",
      "sto facendo features: 23\n",
      "sto facendo features: 24\n",
      "sto facendo features: 25\n",
      "sto facendo features: 26\n",
      "sto facendo features: 27\n",
      "sto facendo features: 28\n",
      "sto facendo features: 29\n",
      "Doing with selector: rf\n",
      "sto facendo features: 2\n",
      "sto facendo features: 3\n",
      "sto facendo features: 4\n",
      "sto facendo features: 5\n",
      "sto facendo features: 6\n",
      "sto facendo features: 7\n",
      "sto facendo features: 8\n",
      "sto facendo features: 9\n",
      "sto facendo features: 10\n",
      "sto facendo features: 11\n",
      "sto facendo features: 12\n",
      "sto facendo features: 13\n",
      "sto facendo features: 14\n",
      "sto facendo features: 15\n",
      "sto facendo features: 16\n",
      "sto facendo features: 17\n",
      "sto facendo features: 18\n",
      "sto facendo features: 19\n",
      "sto facendo features: 20\n",
      "sto facendo features: 21\n",
      "sto facendo features: 22\n",
      "sto facendo features: 23\n",
      "sto facendo features: 24\n",
      "sto facendo features: 25\n",
      "sto facendo features: 26\n",
      "sto facendo features: 27\n",
      "sto facendo features: 28\n",
      "sto facendo features: 29\n",
      "Doing with selector: logistic\n",
      "sto facendo features: 2\n",
      "sto facendo features: 3\n",
      "sto facendo features: 4\n",
      "sto facendo features: 5\n",
      "sto facendo features: 6\n",
      "sto facendo features: 7\n",
      "sto facendo features: 8\n",
      "sto facendo features: 9\n",
      "sto facendo features: 10\n",
      "sto facendo features: 11\n",
      "sto facendo features: 12\n",
      "sto facendo features: 13\n",
      "sto facendo features: 14\n",
      "sto facendo features: 15\n",
      "sto facendo features: 16\n",
      "sto facendo features: 17\n",
      "sto facendo features: 18\n",
      "sto facendo features: 19\n",
      "sto facendo features: 20\n",
      "sto facendo features: 21\n",
      "sto facendo features: 22\n",
      "sto facendo features: 23\n",
      "sto facendo features: 24\n",
      "sto facendo features: 25\n",
      "sto facendo features: 26\n",
      "sto facendo features: 27\n",
      "sto facendo features: 28\n",
      "sto facendo features: 29\n",
      "Doing with selector: lasso\n",
      "sto facendo alpha: 0.001\n"
     ]
    },
    {
     "name": "stderr",
     "output_type": "stream",
     "text": [
      "/Library/Frameworks/Python.framework/Versions/3.11/lib/python3.11/site-packages/sklearn/linear_model/_coordinate_descent.py:697: ConvergenceWarning: Objective did not converge. You might want to increase the number of iterations, check the scale of the features or consider increasing regularisation. Duality gap: 8.199e+01, tolerance: 6.687e-02\n",
      "  model = cd_fast.enet_coordinate_descent(\n"
     ]
    },
    {
     "name": "stdout",
     "output_type": "stream",
     "text": [
      "per 0.001 sceglie 748\n"
     ]
    },
    {
     "name": "stderr",
     "output_type": "stream",
     "text": [
      "/Library/Frameworks/Python.framework/Versions/3.11/lib/python3.11/site-packages/sklearn/linear_model/_coordinate_descent.py:697: ConvergenceWarning: Objective did not converge. You might want to increase the number of iterations, check the scale of the features or consider increasing regularisation. Duality gap: 8.199e+01, tolerance: 6.687e-02\n",
      "  model = cd_fast.enet_coordinate_descent(\n"
     ]
    },
    {
     "name": "stdout",
     "output_type": "stream",
     "text": [
      "sto facendo alpha: 0.002\n"
     ]
    },
    {
     "name": "stderr",
     "output_type": "stream",
     "text": [
      "/Library/Frameworks/Python.framework/Versions/3.11/lib/python3.11/site-packages/sklearn/linear_model/_coordinate_descent.py:697: ConvergenceWarning: Objective did not converge. You might want to increase the number of iterations, check the scale of the features or consider increasing regularisation. Duality gap: 6.470e+01, tolerance: 6.687e-02\n",
      "  model = cd_fast.enet_coordinate_descent(\n"
     ]
    },
    {
     "name": "stdout",
     "output_type": "stream",
     "text": [
      "per 0.002 sceglie 619\n"
     ]
    },
    {
     "name": "stderr",
     "output_type": "stream",
     "text": [
      "/Library/Frameworks/Python.framework/Versions/3.11/lib/python3.11/site-packages/sklearn/linear_model/_coordinate_descent.py:697: ConvergenceWarning: Objective did not converge. You might want to increase the number of iterations, check the scale of the features or consider increasing regularisation. Duality gap: 6.470e+01, tolerance: 6.687e-02\n",
      "  model = cd_fast.enet_coordinate_descent(\n"
     ]
    },
    {
     "name": "stdout",
     "output_type": "stream",
     "text": [
      "sto facendo alpha: 0.003\n"
     ]
    },
    {
     "name": "stderr",
     "output_type": "stream",
     "text": [
      "/Library/Frameworks/Python.framework/Versions/3.11/lib/python3.11/site-packages/sklearn/linear_model/_coordinate_descent.py:697: ConvergenceWarning: Objective did not converge. You might want to increase the number of iterations, check the scale of the features or consider increasing regularisation. Duality gap: 6.081e+01, tolerance: 6.687e-02\n",
      "  model = cd_fast.enet_coordinate_descent(\n"
     ]
    },
    {
     "name": "stdout",
     "output_type": "stream",
     "text": [
      "per 0.003 sceglie 531\n"
     ]
    },
    {
     "name": "stderr",
     "output_type": "stream",
     "text": [
      "/Library/Frameworks/Python.framework/Versions/3.11/lib/python3.11/site-packages/sklearn/linear_model/_coordinate_descent.py:697: ConvergenceWarning: Objective did not converge. You might want to increase the number of iterations, check the scale of the features or consider increasing regularisation. Duality gap: 6.081e+01, tolerance: 6.687e-02\n",
      "  model = cd_fast.enet_coordinate_descent(\n"
     ]
    },
    {
     "name": "stdout",
     "output_type": "stream",
     "text": [
      "sto facendo alpha: 0.004\n"
     ]
    },
    {
     "name": "stderr",
     "output_type": "stream",
     "text": [
      "/Library/Frameworks/Python.framework/Versions/3.11/lib/python3.11/site-packages/sklearn/linear_model/_coordinate_descent.py:697: ConvergenceWarning: Objective did not converge. You might want to increase the number of iterations, check the scale of the features or consider increasing regularisation. Duality gap: 2.769e+01, tolerance: 6.687e-02\n",
      "  model = cd_fast.enet_coordinate_descent(\n"
     ]
    },
    {
     "name": "stdout",
     "output_type": "stream",
     "text": [
      "per 0.004 sceglie 464\n"
     ]
    },
    {
     "name": "stderr",
     "output_type": "stream",
     "text": [
      "/Library/Frameworks/Python.framework/Versions/3.11/lib/python3.11/site-packages/sklearn/linear_model/_coordinate_descent.py:697: ConvergenceWarning: Objective did not converge. You might want to increase the number of iterations, check the scale of the features or consider increasing regularisation. Duality gap: 2.769e+01, tolerance: 6.687e-02\n",
      "  model = cd_fast.enet_coordinate_descent(\n"
     ]
    },
    {
     "name": "stdout",
     "output_type": "stream",
     "text": [
      "sto facendo alpha: 0.005\n"
     ]
    },
    {
     "name": "stderr",
     "output_type": "stream",
     "text": [
      "/Library/Frameworks/Python.framework/Versions/3.11/lib/python3.11/site-packages/sklearn/linear_model/_coordinate_descent.py:697: ConvergenceWarning: Objective did not converge. You might want to increase the number of iterations, check the scale of the features or consider increasing regularisation. Duality gap: 2.195e+01, tolerance: 6.687e-02\n",
      "  model = cd_fast.enet_coordinate_descent(\n"
     ]
    },
    {
     "name": "stdout",
     "output_type": "stream",
     "text": [
      "per 0.005 sceglie 398\n"
     ]
    },
    {
     "name": "stderr",
     "output_type": "stream",
     "text": [
      "/Library/Frameworks/Python.framework/Versions/3.11/lib/python3.11/site-packages/sklearn/linear_model/_coordinate_descent.py:697: ConvergenceWarning: Objective did not converge. You might want to increase the number of iterations, check the scale of the features or consider increasing regularisation. Duality gap: 2.195e+01, tolerance: 6.687e-02\n",
      "  model = cd_fast.enet_coordinate_descent(\n"
     ]
    },
    {
     "name": "stdout",
     "output_type": "stream",
     "text": [
      "sto facendo alpha: 0.006\n"
     ]
    },
    {
     "name": "stderr",
     "output_type": "stream",
     "text": [
      "/Library/Frameworks/Python.framework/Versions/3.11/lib/python3.11/site-packages/sklearn/linear_model/_coordinate_descent.py:697: ConvergenceWarning: Objective did not converge. You might want to increase the number of iterations, check the scale of the features or consider increasing regularisation. Duality gap: 1.006e+01, tolerance: 6.687e-02\n",
      "  model = cd_fast.enet_coordinate_descent(\n"
     ]
    },
    {
     "name": "stdout",
     "output_type": "stream",
     "text": [
      "per 0.006 sceglie 349\n"
     ]
    },
    {
     "name": "stderr",
     "output_type": "stream",
     "text": [
      "/Library/Frameworks/Python.framework/Versions/3.11/lib/python3.11/site-packages/sklearn/linear_model/_coordinate_descent.py:697: ConvergenceWarning: Objective did not converge. You might want to increase the number of iterations, check the scale of the features or consider increasing regularisation. Duality gap: 1.006e+01, tolerance: 6.687e-02\n",
      "  model = cd_fast.enet_coordinate_descent(\n"
     ]
    },
    {
     "name": "stdout",
     "output_type": "stream",
     "text": [
      "sto facendo alpha: 0.007\n"
     ]
    },
    {
     "name": "stderr",
     "output_type": "stream",
     "text": [
      "/Library/Frameworks/Python.framework/Versions/3.11/lib/python3.11/site-packages/sklearn/linear_model/_coordinate_descent.py:697: ConvergenceWarning: Objective did not converge. You might want to increase the number of iterations, check the scale of the features or consider increasing regularisation. Duality gap: 4.060e+00, tolerance: 6.687e-02\n",
      "  model = cd_fast.enet_coordinate_descent(\n"
     ]
    },
    {
     "name": "stdout",
     "output_type": "stream",
     "text": [
      "per 0.007 sceglie 306\n"
     ]
    },
    {
     "name": "stderr",
     "output_type": "stream",
     "text": [
      "/Library/Frameworks/Python.framework/Versions/3.11/lib/python3.11/site-packages/sklearn/linear_model/_coordinate_descent.py:697: ConvergenceWarning: Objective did not converge. You might want to increase the number of iterations, check the scale of the features or consider increasing regularisation. Duality gap: 4.060e+00, tolerance: 6.687e-02\n",
      "  model = cd_fast.enet_coordinate_descent(\n"
     ]
    },
    {
     "name": "stdout",
     "output_type": "stream",
     "text": [
      "sto facendo alpha: 0.008\n"
     ]
    },
    {
     "name": "stderr",
     "output_type": "stream",
     "text": [
      "/Library/Frameworks/Python.framework/Versions/3.11/lib/python3.11/site-packages/sklearn/linear_model/_coordinate_descent.py:697: ConvergenceWarning: Objective did not converge. You might want to increase the number of iterations, check the scale of the features or consider increasing regularisation. Duality gap: 1.663e+00, tolerance: 6.687e-02\n",
      "  model = cd_fast.enet_coordinate_descent(\n"
     ]
    },
    {
     "name": "stdout",
     "output_type": "stream",
     "text": [
      "per 0.008 sceglie 265\n"
     ]
    },
    {
     "name": "stderr",
     "output_type": "stream",
     "text": [
      "/Library/Frameworks/Python.framework/Versions/3.11/lib/python3.11/site-packages/sklearn/linear_model/_coordinate_descent.py:697: ConvergenceWarning: Objective did not converge. You might want to increase the number of iterations, check the scale of the features or consider increasing regularisation. Duality gap: 1.663e+00, tolerance: 6.687e-02\n",
      "  model = cd_fast.enet_coordinate_descent(\n"
     ]
    },
    {
     "name": "stdout",
     "output_type": "stream",
     "text": [
      "sto facendo alpha: 0.009\n"
     ]
    },
    {
     "name": "stderr",
     "output_type": "stream",
     "text": [
      "/Library/Frameworks/Python.framework/Versions/3.11/lib/python3.11/site-packages/sklearn/linear_model/_coordinate_descent.py:697: ConvergenceWarning: Objective did not converge. You might want to increase the number of iterations, check the scale of the features or consider increasing regularisation. Duality gap: 7.892e-01, tolerance: 6.687e-02\n",
      "  model = cd_fast.enet_coordinate_descent(\n"
     ]
    },
    {
     "name": "stdout",
     "output_type": "stream",
     "text": [
      "per 0.009 sceglie 247\n"
     ]
    },
    {
     "name": "stderr",
     "output_type": "stream",
     "text": [
      "/Library/Frameworks/Python.framework/Versions/3.11/lib/python3.11/site-packages/sklearn/linear_model/_coordinate_descent.py:697: ConvergenceWarning: Objective did not converge. You might want to increase the number of iterations, check the scale of the features or consider increasing regularisation. Duality gap: 7.892e-01, tolerance: 6.687e-02\n",
      "  model = cd_fast.enet_coordinate_descent(\n"
     ]
    },
    {
     "name": "stdout",
     "output_type": "stream",
     "text": [
      "sto facendo alpha: 0.01\n"
     ]
    },
    {
     "name": "stderr",
     "output_type": "stream",
     "text": [
      "/Library/Frameworks/Python.framework/Versions/3.11/lib/python3.11/site-packages/sklearn/linear_model/_coordinate_descent.py:697: ConvergenceWarning: Objective did not converge. You might want to increase the number of iterations, check the scale of the features or consider increasing regularisation. Duality gap: 2.608e-01, tolerance: 6.687e-02\n",
      "  model = cd_fast.enet_coordinate_descent(\n"
     ]
    },
    {
     "name": "stdout",
     "output_type": "stream",
     "text": [
      "per 0.01 sceglie 222\n"
     ]
    },
    {
     "name": "stderr",
     "output_type": "stream",
     "text": [
      "/Library/Frameworks/Python.framework/Versions/3.11/lib/python3.11/site-packages/sklearn/linear_model/_coordinate_descent.py:697: ConvergenceWarning: Objective did not converge. You might want to increase the number of iterations, check the scale of the features or consider increasing regularisation. Duality gap: 2.608e-01, tolerance: 6.687e-02\n",
      "  model = cd_fast.enet_coordinate_descent(\n"
     ]
    },
    {
     "name": "stdout",
     "output_type": "stream",
     "text": [
      "sto facendo alpha: 0.011\n"
     ]
    },
    {
     "name": "stderr",
     "output_type": "stream",
     "text": [
      "/Library/Frameworks/Python.framework/Versions/3.11/lib/python3.11/site-packages/sklearn/linear_model/_coordinate_descent.py:697: ConvergenceWarning: Objective did not converge. You might want to increase the number of iterations, check the scale of the features or consider increasing regularisation. Duality gap: 9.752e-02, tolerance: 6.687e-02\n",
      "  model = cd_fast.enet_coordinate_descent(\n"
     ]
    },
    {
     "name": "stdout",
     "output_type": "stream",
     "text": [
      "per 0.011 sceglie 202\n"
     ]
    },
    {
     "name": "stderr",
     "output_type": "stream",
     "text": [
      "/Library/Frameworks/Python.framework/Versions/3.11/lib/python3.11/site-packages/sklearn/linear_model/_coordinate_descent.py:697: ConvergenceWarning: Objective did not converge. You might want to increase the number of iterations, check the scale of the features or consider increasing regularisation. Duality gap: 9.752e-02, tolerance: 6.687e-02\n",
      "  model = cd_fast.enet_coordinate_descent(\n"
     ]
    },
    {
     "name": "stdout",
     "output_type": "stream",
     "text": [
      "sto facendo alpha: 0.012\n",
      "per 0.012 sceglie 190\n",
      "sto facendo alpha: 0.013\n",
      "per 0.013 sceglie 164\n",
      "sto facendo alpha: 0.014\n",
      "per 0.014 sceglie 152\n",
      "sto facendo alpha: 0.015\n",
      "per 0.015 sceglie 136\n",
      "sto facendo alpha: 0.016\n",
      "per 0.016 sceglie 128\n",
      "sto facendo alpha: 0.017\n",
      "per 0.017 sceglie 115\n",
      "sto facendo alpha: 0.018\n",
      "per 0.018 sceglie 107\n",
      "sto facendo alpha: 0.019\n",
      "per 0.019 sceglie 99\n",
      "sto facendo alpha: 0.02\n",
      "per 0.02 sceglie 95\n",
      "sto facendo alpha: 0.022\n",
      "per 0.022 sceglie 85\n",
      "sto facendo alpha: 0.0418\n",
      "per 0.0418 sceglie 39\n",
      "sto facendo alpha: 0.0616\n",
      "per 0.0616 sceglie 24\n",
      "sto facendo alpha: 0.0813\n",
      "per 0.0813 sceglie 15\n",
      "sto facendo alpha: 0.1011\n",
      "per 0.1011 sceglie 10\n",
      "sto facendo alpha: 0.1209\n",
      "per 0.1209 sceglie 5\n",
      "sto facendo alpha: 0.1407\n",
      "per 0.1407 sceglie 4\n",
      "sto facendo alpha: 0.1604\n",
      "per 0.1604 sceglie 3\n",
      "sto facendo alpha: 0.1802\n",
      "per 0.1802 sceglie 3\n",
      "sto facendo alpha: 0.2\n",
      "per 0.2 sceglie 2\n",
      "Starting with classifier: ensemble\n",
      "Doing with selector: mrmr\n",
      "sto facendo features: 2\n",
      "sto facendo features: 3\n",
      "sto facendo features: 4\n",
      "sto facendo features: 5\n",
      "sto facendo features: 6\n",
      "sto facendo features: 7\n",
      "sto facendo features: 8\n",
      "sto facendo features: 9\n",
      "sto facendo features: 10\n",
      "sto facendo features: 11\n",
      "sto facendo features: 12\n",
      "sto facendo features: 13\n",
      "sto facendo features: 14\n",
      "sto facendo features: 15\n",
      "sto facendo features: 16\n",
      "sto facendo features: 17\n",
      "sto facendo features: 18\n",
      "sto facendo features: 19\n",
      "sto facendo features: 20\n",
      "sto facendo features: 21\n",
      "sto facendo features: 22\n",
      "sto facendo features: 23\n",
      "sto facendo features: 24\n",
      "sto facendo features: 25\n",
      "sto facendo features: 26\n",
      "sto facendo features: 27\n",
      "sto facendo features: 28\n",
      "sto facendo features: 29\n",
      "Doing with selector: rf\n",
      "sto facendo features: 2\n",
      "sto facendo features: 3\n",
      "sto facendo features: 4\n",
      "sto facendo features: 5\n",
      "sto facendo features: 6\n",
      "sto facendo features: 7\n",
      "sto facendo features: 8\n",
      "sto facendo features: 9\n",
      "sto facendo features: 10\n",
      "sto facendo features: 11\n",
      "sto facendo features: 12\n",
      "sto facendo features: 13\n",
      "sto facendo features: 14\n",
      "sto facendo features: 15\n",
      "sto facendo features: 16\n",
      "sto facendo features: 17\n",
      "sto facendo features: 18\n",
      "sto facendo features: 19\n",
      "sto facendo features: 20\n",
      "sto facendo features: 21\n",
      "sto facendo features: 22\n",
      "sto facendo features: 23\n",
      "sto facendo features: 24\n",
      "sto facendo features: 25\n",
      "sto facendo features: 26\n",
      "sto facendo features: 27\n",
      "sto facendo features: 28\n",
      "sto facendo features: 29\n",
      "Doing with selector: logistic\n",
      "sto facendo features: 2\n",
      "sto facendo features: 3\n",
      "sto facendo features: 4\n",
      "sto facendo features: 5\n",
      "sto facendo features: 6\n",
      "sto facendo features: 7\n",
      "sto facendo features: 8\n",
      "sto facendo features: 9\n",
      "sto facendo features: 10\n",
      "sto facendo features: 11\n",
      "sto facendo features: 12\n",
      "sto facendo features: 13\n",
      "sto facendo features: 14\n",
      "sto facendo features: 15\n",
      "sto facendo features: 16\n",
      "sto facendo features: 17\n",
      "sto facendo features: 18\n",
      "sto facendo features: 19\n",
      "sto facendo features: 20\n",
      "sto facendo features: 21\n",
      "sto facendo features: 22\n",
      "sto facendo features: 23\n",
      "sto facendo features: 24\n",
      "sto facendo features: 25\n",
      "sto facendo features: 26\n",
      "sto facendo features: 27\n",
      "sto facendo features: 28\n",
      "sto facendo features: 29\n",
      "Doing with selector: lasso\n",
      "sto facendo alpha: 0.001\n"
     ]
    },
    {
     "name": "stderr",
     "output_type": "stream",
     "text": [
      "/Library/Frameworks/Python.framework/Versions/3.11/lib/python3.11/site-packages/sklearn/linear_model/_coordinate_descent.py:697: ConvergenceWarning: Objective did not converge. You might want to increase the number of iterations, check the scale of the features or consider increasing regularisation. Duality gap: 8.199e+01, tolerance: 6.687e-02\n",
      "  model = cd_fast.enet_coordinate_descent(\n"
     ]
    },
    {
     "name": "stdout",
     "output_type": "stream",
     "text": [
      "per 0.001 sceglie 748\n"
     ]
    },
    {
     "name": "stderr",
     "output_type": "stream",
     "text": [
      "/Library/Frameworks/Python.framework/Versions/3.11/lib/python3.11/site-packages/sklearn/linear_model/_coordinate_descent.py:697: ConvergenceWarning: Objective did not converge. You might want to increase the number of iterations, check the scale of the features or consider increasing regularisation. Duality gap: 8.199e+01, tolerance: 6.687e-02\n",
      "  model = cd_fast.enet_coordinate_descent(\n"
     ]
    },
    {
     "name": "stdout",
     "output_type": "stream",
     "text": [
      "sto facendo alpha: 0.002\n"
     ]
    },
    {
     "name": "stderr",
     "output_type": "stream",
     "text": [
      "/Library/Frameworks/Python.framework/Versions/3.11/lib/python3.11/site-packages/sklearn/linear_model/_coordinate_descent.py:697: ConvergenceWarning: Objective did not converge. You might want to increase the number of iterations, check the scale of the features or consider increasing regularisation. Duality gap: 6.470e+01, tolerance: 6.687e-02\n",
      "  model = cd_fast.enet_coordinate_descent(\n"
     ]
    },
    {
     "name": "stdout",
     "output_type": "stream",
     "text": [
      "per 0.002 sceglie 619\n"
     ]
    },
    {
     "name": "stderr",
     "output_type": "stream",
     "text": [
      "/Library/Frameworks/Python.framework/Versions/3.11/lib/python3.11/site-packages/sklearn/linear_model/_coordinate_descent.py:697: ConvergenceWarning: Objective did not converge. You might want to increase the number of iterations, check the scale of the features or consider increasing regularisation. Duality gap: 6.470e+01, tolerance: 6.687e-02\n",
      "  model = cd_fast.enet_coordinate_descent(\n"
     ]
    },
    {
     "name": "stdout",
     "output_type": "stream",
     "text": [
      "sto facendo alpha: 0.003\n"
     ]
    },
    {
     "name": "stderr",
     "output_type": "stream",
     "text": [
      "/Library/Frameworks/Python.framework/Versions/3.11/lib/python3.11/site-packages/sklearn/linear_model/_coordinate_descent.py:697: ConvergenceWarning: Objective did not converge. You might want to increase the number of iterations, check the scale of the features or consider increasing regularisation. Duality gap: 6.081e+01, tolerance: 6.687e-02\n",
      "  model = cd_fast.enet_coordinate_descent(\n"
     ]
    },
    {
     "name": "stdout",
     "output_type": "stream",
     "text": [
      "per 0.003 sceglie 531\n"
     ]
    },
    {
     "name": "stderr",
     "output_type": "stream",
     "text": [
      "/Library/Frameworks/Python.framework/Versions/3.11/lib/python3.11/site-packages/sklearn/linear_model/_coordinate_descent.py:697: ConvergenceWarning: Objective did not converge. You might want to increase the number of iterations, check the scale of the features or consider increasing regularisation. Duality gap: 6.081e+01, tolerance: 6.687e-02\n",
      "  model = cd_fast.enet_coordinate_descent(\n"
     ]
    },
    {
     "name": "stdout",
     "output_type": "stream",
     "text": [
      "sto facendo alpha: 0.004\n"
     ]
    },
    {
     "name": "stderr",
     "output_type": "stream",
     "text": [
      "/Library/Frameworks/Python.framework/Versions/3.11/lib/python3.11/site-packages/sklearn/linear_model/_coordinate_descent.py:697: ConvergenceWarning: Objective did not converge. You might want to increase the number of iterations, check the scale of the features or consider increasing regularisation. Duality gap: 2.769e+01, tolerance: 6.687e-02\n",
      "  model = cd_fast.enet_coordinate_descent(\n"
     ]
    },
    {
     "name": "stdout",
     "output_type": "stream",
     "text": [
      "per 0.004 sceglie 464\n"
     ]
    },
    {
     "name": "stderr",
     "output_type": "stream",
     "text": [
      "/Library/Frameworks/Python.framework/Versions/3.11/lib/python3.11/site-packages/sklearn/linear_model/_coordinate_descent.py:697: ConvergenceWarning: Objective did not converge. You might want to increase the number of iterations, check the scale of the features or consider increasing regularisation. Duality gap: 2.769e+01, tolerance: 6.687e-02\n",
      "  model = cd_fast.enet_coordinate_descent(\n"
     ]
    },
    {
     "name": "stdout",
     "output_type": "stream",
     "text": [
      "sto facendo alpha: 0.005\n"
     ]
    },
    {
     "name": "stderr",
     "output_type": "stream",
     "text": [
      "/Library/Frameworks/Python.framework/Versions/3.11/lib/python3.11/site-packages/sklearn/linear_model/_coordinate_descent.py:697: ConvergenceWarning: Objective did not converge. You might want to increase the number of iterations, check the scale of the features or consider increasing regularisation. Duality gap: 2.195e+01, tolerance: 6.687e-02\n",
      "  model = cd_fast.enet_coordinate_descent(\n"
     ]
    },
    {
     "name": "stdout",
     "output_type": "stream",
     "text": [
      "per 0.005 sceglie 398\n"
     ]
    },
    {
     "name": "stderr",
     "output_type": "stream",
     "text": [
      "/Library/Frameworks/Python.framework/Versions/3.11/lib/python3.11/site-packages/sklearn/linear_model/_coordinate_descent.py:697: ConvergenceWarning: Objective did not converge. You might want to increase the number of iterations, check the scale of the features or consider increasing regularisation. Duality gap: 2.195e+01, tolerance: 6.687e-02\n",
      "  model = cd_fast.enet_coordinate_descent(\n"
     ]
    },
    {
     "name": "stdout",
     "output_type": "stream",
     "text": [
      "sto facendo alpha: 0.006\n"
     ]
    },
    {
     "name": "stderr",
     "output_type": "stream",
     "text": [
      "/Library/Frameworks/Python.framework/Versions/3.11/lib/python3.11/site-packages/sklearn/linear_model/_coordinate_descent.py:697: ConvergenceWarning: Objective did not converge. You might want to increase the number of iterations, check the scale of the features or consider increasing regularisation. Duality gap: 1.006e+01, tolerance: 6.687e-02\n",
      "  model = cd_fast.enet_coordinate_descent(\n"
     ]
    },
    {
     "name": "stdout",
     "output_type": "stream",
     "text": [
      "per 0.006 sceglie 349\n"
     ]
    },
    {
     "name": "stderr",
     "output_type": "stream",
     "text": [
      "/Library/Frameworks/Python.framework/Versions/3.11/lib/python3.11/site-packages/sklearn/linear_model/_coordinate_descent.py:697: ConvergenceWarning: Objective did not converge. You might want to increase the number of iterations, check the scale of the features or consider increasing regularisation. Duality gap: 1.006e+01, tolerance: 6.687e-02\n",
      "  model = cd_fast.enet_coordinate_descent(\n"
     ]
    },
    {
     "name": "stdout",
     "output_type": "stream",
     "text": [
      "sto facendo alpha: 0.007\n"
     ]
    },
    {
     "name": "stderr",
     "output_type": "stream",
     "text": [
      "/Library/Frameworks/Python.framework/Versions/3.11/lib/python3.11/site-packages/sklearn/linear_model/_coordinate_descent.py:697: ConvergenceWarning: Objective did not converge. You might want to increase the number of iterations, check the scale of the features or consider increasing regularisation. Duality gap: 4.060e+00, tolerance: 6.687e-02\n",
      "  model = cd_fast.enet_coordinate_descent(\n"
     ]
    },
    {
     "name": "stdout",
     "output_type": "stream",
     "text": [
      "per 0.007 sceglie 306\n"
     ]
    },
    {
     "name": "stderr",
     "output_type": "stream",
     "text": [
      "/Library/Frameworks/Python.framework/Versions/3.11/lib/python3.11/site-packages/sklearn/linear_model/_coordinate_descent.py:697: ConvergenceWarning: Objective did not converge. You might want to increase the number of iterations, check the scale of the features or consider increasing regularisation. Duality gap: 4.060e+00, tolerance: 6.687e-02\n",
      "  model = cd_fast.enet_coordinate_descent(\n"
     ]
    },
    {
     "name": "stdout",
     "output_type": "stream",
     "text": [
      "sto facendo alpha: 0.008\n"
     ]
    },
    {
     "name": "stderr",
     "output_type": "stream",
     "text": [
      "/Library/Frameworks/Python.framework/Versions/3.11/lib/python3.11/site-packages/sklearn/linear_model/_coordinate_descent.py:697: ConvergenceWarning: Objective did not converge. You might want to increase the number of iterations, check the scale of the features or consider increasing regularisation. Duality gap: 1.663e+00, tolerance: 6.687e-02\n",
      "  model = cd_fast.enet_coordinate_descent(\n"
     ]
    },
    {
     "name": "stdout",
     "output_type": "stream",
     "text": [
      "per 0.008 sceglie 265\n"
     ]
    },
    {
     "name": "stderr",
     "output_type": "stream",
     "text": [
      "/Library/Frameworks/Python.framework/Versions/3.11/lib/python3.11/site-packages/sklearn/linear_model/_coordinate_descent.py:697: ConvergenceWarning: Objective did not converge. You might want to increase the number of iterations, check the scale of the features or consider increasing regularisation. Duality gap: 1.663e+00, tolerance: 6.687e-02\n",
      "  model = cd_fast.enet_coordinate_descent(\n"
     ]
    },
    {
     "name": "stdout",
     "output_type": "stream",
     "text": [
      "sto facendo alpha: 0.009\n"
     ]
    },
    {
     "name": "stderr",
     "output_type": "stream",
     "text": [
      "/Library/Frameworks/Python.framework/Versions/3.11/lib/python3.11/site-packages/sklearn/linear_model/_coordinate_descent.py:697: ConvergenceWarning: Objective did not converge. You might want to increase the number of iterations, check the scale of the features or consider increasing regularisation. Duality gap: 7.892e-01, tolerance: 6.687e-02\n",
      "  model = cd_fast.enet_coordinate_descent(\n"
     ]
    },
    {
     "name": "stdout",
     "output_type": "stream",
     "text": [
      "per 0.009 sceglie 247\n"
     ]
    },
    {
     "name": "stderr",
     "output_type": "stream",
     "text": [
      "/Library/Frameworks/Python.framework/Versions/3.11/lib/python3.11/site-packages/sklearn/linear_model/_coordinate_descent.py:697: ConvergenceWarning: Objective did not converge. You might want to increase the number of iterations, check the scale of the features or consider increasing regularisation. Duality gap: 7.892e-01, tolerance: 6.687e-02\n",
      "  model = cd_fast.enet_coordinate_descent(\n"
     ]
    },
    {
     "name": "stdout",
     "output_type": "stream",
     "text": [
      "sto facendo alpha: 0.01\n"
     ]
    },
    {
     "name": "stderr",
     "output_type": "stream",
     "text": [
      "/Library/Frameworks/Python.framework/Versions/3.11/lib/python3.11/site-packages/sklearn/linear_model/_coordinate_descent.py:697: ConvergenceWarning: Objective did not converge. You might want to increase the number of iterations, check the scale of the features or consider increasing regularisation. Duality gap: 2.608e-01, tolerance: 6.687e-02\n",
      "  model = cd_fast.enet_coordinate_descent(\n"
     ]
    },
    {
     "name": "stdout",
     "output_type": "stream",
     "text": [
      "per 0.01 sceglie 222\n"
     ]
    },
    {
     "name": "stderr",
     "output_type": "stream",
     "text": [
      "/Library/Frameworks/Python.framework/Versions/3.11/lib/python3.11/site-packages/sklearn/linear_model/_coordinate_descent.py:697: ConvergenceWarning: Objective did not converge. You might want to increase the number of iterations, check the scale of the features or consider increasing regularisation. Duality gap: 2.608e-01, tolerance: 6.687e-02\n",
      "  model = cd_fast.enet_coordinate_descent(\n"
     ]
    },
    {
     "name": "stdout",
     "output_type": "stream",
     "text": [
      "sto facendo alpha: 0.011\n"
     ]
    },
    {
     "name": "stderr",
     "output_type": "stream",
     "text": [
      "/Library/Frameworks/Python.framework/Versions/3.11/lib/python3.11/site-packages/sklearn/linear_model/_coordinate_descent.py:697: ConvergenceWarning: Objective did not converge. You might want to increase the number of iterations, check the scale of the features or consider increasing regularisation. Duality gap: 9.752e-02, tolerance: 6.687e-02\n",
      "  model = cd_fast.enet_coordinate_descent(\n"
     ]
    },
    {
     "name": "stdout",
     "output_type": "stream",
     "text": [
      "per 0.011 sceglie 202\n"
     ]
    },
    {
     "name": "stderr",
     "output_type": "stream",
     "text": [
      "/Library/Frameworks/Python.framework/Versions/3.11/lib/python3.11/site-packages/sklearn/linear_model/_coordinate_descent.py:697: ConvergenceWarning: Objective did not converge. You might want to increase the number of iterations, check the scale of the features or consider increasing regularisation. Duality gap: 9.752e-02, tolerance: 6.687e-02\n",
      "  model = cd_fast.enet_coordinate_descent(\n"
     ]
    },
    {
     "name": "stdout",
     "output_type": "stream",
     "text": [
      "sto facendo alpha: 0.012\n",
      "per 0.012 sceglie 190\n",
      "sto facendo alpha: 0.013\n",
      "per 0.013 sceglie 164\n",
      "sto facendo alpha: 0.014\n",
      "per 0.014 sceglie 152\n",
      "sto facendo alpha: 0.015\n",
      "per 0.015 sceglie 136\n",
      "sto facendo alpha: 0.016\n",
      "per 0.016 sceglie 128\n",
      "sto facendo alpha: 0.017\n",
      "per 0.017 sceglie 115\n",
      "sto facendo alpha: 0.018\n",
      "per 0.018 sceglie 107\n",
      "sto facendo alpha: 0.019\n",
      "per 0.019 sceglie 99\n",
      "sto facendo alpha: 0.02\n",
      "per 0.02 sceglie 95\n",
      "sto facendo alpha: 0.022\n",
      "per 0.022 sceglie 85\n",
      "sto facendo alpha: 0.0418\n",
      "per 0.0418 sceglie 39\n",
      "sto facendo alpha: 0.0616\n",
      "per 0.0616 sceglie 24\n",
      "sto facendo alpha: 0.0813\n",
      "per 0.0813 sceglie 15\n",
      "sto facendo alpha: 0.1011\n",
      "per 0.1011 sceglie 10\n",
      "sto facendo alpha: 0.1209\n",
      "per 0.1209 sceglie 5\n",
      "sto facendo alpha: 0.1407\n",
      "per 0.1407 sceglie 4\n",
      "sto facendo alpha: 0.1604\n",
      "per 0.1604 sceglie 3\n",
      "sto facendo alpha: 0.1802\n",
      "per 0.1802 sceglie 3\n",
      "sto facendo alpha: 0.2\n",
      "per 0.2 sceglie 2\n"
     ]
    }
   ],
   "source": [
    "template_dict = {\n",
    "                'classifier': None,\n",
    "                'selector': None,\n",
    "                'alpha': None,\n",
    "                'num_features': None,\n",
    "                'pr_auc': None,\n",
    "                'best_precision': None,\n",
    "                'best_recall': None,\n",
    "                'roc_auc': None,\n",
    "                'f1': None,\n",
    "                'accuracy': None,\n",
    "                'confusion_matrix': [],\n",
    "                'selected_features': [],\n",
    "                'mode': None,\n",
    "                'balanced accuracy': None\n",
    "            }\n",
    "\n",
    "## creazione di dizionari vuoti (range con numero elevato casuale)\n",
    "results_val = [template_dict.copy() for _ in range(900000)]\n",
    "results_val.append(template_dict.copy())\n",
    "\n",
    "results_test = [template_dict.copy() for _ in range(900000)]\n",
    "results_test.append(template_dict.copy())\n",
    "\n",
    "k=0\n",
    "for mode in modes:\n",
    "     print(\"Starting with mode:\", mode)\n",
    "     for classifier in classifiers:\n",
    "          print(\"Starting with classifier:\", classifier)\n",
    "          for selector in selectors: \n",
    "               print(\"Doing with selector:\", selector)\n",
    "               if selector == 'lasso':\n",
    "                         for alpha in alpha_values:\n",
    "                              print(\"sto facendo alpha:\",alpha)\n",
    "\n",
    "                              classi=classifierinitialization(classifier)\n",
    "                                   \n",
    "                              best_f1_score, conf, test_accuracy, pr_auc, roc_auc, bt, number_features, selected_features, bal_acc= classification_method(\n",
    "                                   selector, alpha, classi, x_train_expanded, y_train_expanded, \n",
    "                                   patients_val, y_val, final_patients_val, 0, mode, thresholds=0.5\n",
    "                              )\n",
    "\n",
    "                              if(best_f1_score==0 and bal_acc==0):\n",
    "                                   continue\n",
    "                              \n",
    "                              print(f\"per {alpha} sceglie {number_features}\")\n",
    "                              results_val[k]['classifier']=classifier\n",
    "                              results_val[k]['selector']=selector\n",
    "                              results_val[k]['alpha']= alpha\n",
    "                              results_val[k]['num_features']= number_features\n",
    "                              results_val[k]['selected_features']=selected_features\n",
    "                              results_val[k]['pr_auc']=pr_auc\n",
    "                              results_val[k]['roc_auc']=roc_auc\n",
    "                              results_val[k]['f1']=best_f1_score\n",
    "                              results_val[k]['accuracy']= test_accuracy\n",
    "                              results_val[k]['confusion_matrix']= conf\n",
    "                              results_val[k]['mode']= mode\n",
    "                              results_val[k]['balanced accuracy']= bal_acc\n",
    "\n",
    "                              classi=classifierinitialization(classifier)\n",
    "\n",
    "                              best_f1_score, conf, test_accuracy, pr_auc, roc_auc, bt, number_features, selected_features, bal_acc= classification_method(\n",
    "                                   selector, alpha, classi, x_train_expanded, y_train_expanded, \n",
    "                                   patients_test, y_test, final_patients_test, 0, mode, thresholds=0.5\n",
    "                              )\n",
    "\n",
    "                              if(best_f1_score==0 and bal_acc==0):\n",
    "                                   continue\n",
    "                              \n",
    "                              results_test[k]['classifier']=classifier\n",
    "                              results_test[k]['selector']=selector\n",
    "                              results_test[k]['alpha']= alpha\n",
    "                              results_test[k]['num_features']= number_features\n",
    "                              results_test[k]['selected_features']=selected_features\n",
    "                              results_test[k]['pr_auc']=pr_auc\n",
    "                              results_test[k]['roc_auc']=roc_auc\n",
    "                              results_test[k]['f1']=best_f1_score\n",
    "                              results_test[k]['accuracy']= test_accuracy\n",
    "                              results_test[k]['confusion_matrix']= conf\n",
    "                              results_test[k]['mode']= mode\n",
    "                              results_test[k]['balanced accuracy']= bal_acc\n",
    "\n",
    "\n",
    "                              k=k+1\n",
    "                              \n",
    "\n",
    "               else:\n",
    "                              #limit=len(x_train_expanded[0])+1\n",
    "                              limit=30\n",
    "                              for t in range(2, limit):\n",
    "                                   print(\"sto facendo features:\",t)\n",
    "                                        \n",
    "                                   classi=classifierinitialization(classifier)\n",
    "                                        \n",
    "                                   best_f1_score,conf, test_accuracy,pr_auc, roc_auc, bt, _, selected_features, bal_acc= classification_method(\n",
    "                                        selector, 0, classi, x_train_expanded, y_train_expanded, \n",
    "                                        patients_val, y_val, final_patients_val, t, mode, thresholds=0.5\n",
    "                                   )\n",
    "                                   if(best_f1_score==0 and bal_acc==0):\n",
    "                                        continue\n",
    "                                   results_val[k]['classifier']=classifier\n",
    "                                   results_val[k]['selector']=selector\n",
    "                                   results_val[k]['alpha']= 0\n",
    "                                   results_val[k]['num_features']= t\n",
    "                                   results_val[k]['selected_features']=selected_features\n",
    "                                   results_val[k]['pr_auc']=pr_auc\n",
    "                                   results_val[k]['roc_auc']=roc_auc\n",
    "                                   results_val[k]['f1']=best_f1_score\n",
    "                                   results_val[k]['accuracy']= test_accuracy\n",
    "                                   results_val[k]['confusion_matrix']= conf\n",
    "                                   results_val[k]['mode']= mode\n",
    "                                   results_val[k]['balanced accuracy']= bal_acc\n",
    "\n",
    "                                   \n",
    "                                   classi=classifierinitialization(classifier)\n",
    "\n",
    "                                   best_f1_score,conf, test_accuracy, pr_auc, roc_auc, bt, number_features, selected_features, bal_acc= classification_method(\n",
    "                                        selector, 0, classi, x_train_expanded, y_train_expanded, \n",
    "                                        patients_test, y_test, final_patients_test, t, mode, thresholds=0.5\n",
    "                                   )\n",
    "\n",
    "                                   if(best_f1_score==0 and bal_acc==0):\n",
    "                                        continue\n",
    "                                   \n",
    "                                   results_test[k]['classifier']= classifier\n",
    "                                   results_test[k]['selector']=selector\n",
    "                                   results_test[k]['alpha']= 0\n",
    "                                   results_test[k]['num_features']= t\n",
    "                                   results_test[k]['selected_features']=selected_features\n",
    "                                   results_test[k]['pr_auc']=pr_auc\n",
    "                                   results_test[k]['roc_auc']=roc_auc\n",
    "                                   results_test[k]['f1']=best_f1_score\n",
    "                                   results_test[k]['accuracy']= test_accuracy\n",
    "                                   results_test[k]['confusion_matrix']= conf\n",
    "                                   results_test[k]['mode']= mode\n",
    "                                   results_test[k]['balanced accuracy']= bal_acc\n",
    "\n",
    "                                   k=k+1\n",
    "\n",
    "          \n",
    "                    "
   ]
  },
  {
   "cell_type": "markdown",
   "metadata": {},
   "source": [
    "## dizionari"
   ]
  },
  {
   "cell_type": "markdown",
   "metadata": {},
   "source": [
    "### salvo"
   ]
  },
  {
   "cell_type": "code",
   "execution_count": 48,
   "metadata": {},
   "outputs": [],
   "source": [
    "import pickle\n",
    "\n",
    "with open('/Users/alessiamenozzi/Desktop/results 2.5 DEFINITIVI/Inception/results_test_Inception_2.5', 'wb') as pickle_file:\n",
    "    pickle.dump(results_test, pickle_file)\n",
    "\n",
    "with open('/Users/alessiamenozzi/Desktop/results 2.5 DEFINITIVI/Inception/results_val_Inception_2.5', 'wb') as pickle_file:\n",
    "    pickle.dump(results_val, pickle_file)"
   ]
  },
  {
   "cell_type": "markdown",
   "metadata": {},
   "source": [
    "### apro"
   ]
  },
  {
   "cell_type": "code",
   "execution_count": 92,
   "metadata": {},
   "outputs": [],
   "source": [
    "import pickle\n",
    "\n",
    "with open(\"/Users/alessiamenozzi/Desktop/results_test_VGG_2.5\", 'rb') as file:\n",
    "    results_test = pickle.load(file)\n",
    "\n",
    "with open(\"/Users/alessiamenozzi/Desktop/results_val_VGG_2.5\", 'rb') as file:\n",
    "    results_val = pickle.load(file)"
   ]
  },
  {
   "cell_type": "markdown",
   "metadata": {},
   "source": [
    "## printa i risultati di una configurazipne specifica"
   ]
  },
  {
   "cell_type": "code",
   "execution_count": 134,
   "metadata": {},
   "outputs": [
    {
     "name": "stdout",
     "output_type": "stream",
     "text": [
      "Validation Metrics:\n",
      "Classifier: XgBoost\n",
      "Selector: logistic\n",
      "Num Features: 17.0\n",
      "Mode: Mean\n",
      "ROC AUC (Validation): 0.5889\n",
      "PR AUC (Validation): 0.5338\n",
      "F1 Score (Validation): 0.6400\n",
      "Accuracy (Validation): 0.6667\n",
      "Confusion Matrix (Validation): \n",
      "[[10  5]\n",
      " [ 4  8]]\n",
      "==================================================\n",
      "Test Metrics:\n",
      "Classifier: XgBoost\n",
      "Selector: logistic\n",
      "Num Features: 17.0\n",
      "Mode: Mean\n",
      "ROC AUC (Test): 0.7160\n",
      "PR AUC (Test): 0.5833\n",
      "F1 Score (Test): 0.6364\n",
      "Accuracy (Test): 0.7949\n",
      "Confusion Matrix (Test): \n",
      "[[24  3]\n",
      " [ 5  7]]\n",
      "==================================================\n"
     ]
    }
   ],
   "source": [
    "import pandas as pd\n",
    "\n",
    "def print_results_for_val_and_test(mode, classifier, selector, num_features=None, alpha=None):\n",
    "    # Convert the lists of dictionaries to DataFrames\n",
    "    df_results_val = pd.DataFrame(results_val)\n",
    "    df_results_test = pd.DataFrame(results_test)\n",
    "\n",
    "    # Search for the matching validation result\n",
    "    if selector == 'lasso' and alpha is not None:\n",
    "        val_match = df_results_val[\n",
    "            (df_results_val['classifier'] == classifier) &\n",
    "            (df_results_val['selector'] == selector) &\n",
    "            (df_results_val['alpha'] == alpha) &\n",
    "            (df_results_val['mode'] == mode)\n",
    "        ]\n",
    "    else:\n",
    "        val_match = df_results_val[\n",
    "            (df_results_val['classifier'] == classifier) &\n",
    "            (df_results_val['selector'] == selector) &\n",
    "            (df_results_val['num_features'] == num_features) &\n",
    "            (df_results_val['mode'] == mode)\n",
    "        ]\n",
    "\n",
    "    # Search for the matching test result\n",
    "    if selector == 'lasso' and alpha is not None:\n",
    "        test_match = df_results_test[\n",
    "            (df_results_test['classifier'] == classifier) &\n",
    "            (df_results_test['selector'] == selector) &\n",
    "            (df_results_test['alpha'] == alpha) &\n",
    "            (df_results_test['mode'] == mode)\n",
    "        ]\n",
    "    else:\n",
    "        test_match = df_results_test[\n",
    "            (df_results_test['classifier'] == classifier) &\n",
    "            (df_results_test['selector'] == selector) &\n",
    "            (df_results_test['num_features'] == num_features) &\n",
    "            (df_results_test['mode'] == mode)\n",
    "        ]\n",
    "\n",
    "    # Print Validation Results\n",
    "    if not val_match.empty:\n",
    "        val_row = val_match.iloc[0]  # Get the first match if there are multiple\n",
    "        print(\"Validation Metrics:\")\n",
    "        print(f\"Classifier: {val_row['classifier']}\")\n",
    "        print(f\"Selector: {val_row['selector']}\")\n",
    "        if selector == 'lasso':\n",
    "            print(f\"Alpha: {val_row['alpha']}\")\n",
    "        else:\n",
    "            print(f\"Num Features: {val_row['num_features']}\")\n",
    "        print(f\"Mode: {val_row['mode']}\")\n",
    "        print(f\"ROC AUC (Validation): {val_row['roc_auc']:.4f}\")\n",
    "        print(f\"PR AUC (Validation): {val_row['pr_auc']:.4f}\")\n",
    "        print(f\"F1 Score (Validation): {val_row['f1']:.4f}\")\n",
    "        print(f\"Accuracy (Validation): {val_row['accuracy']:.4f}\")\n",
    "        print(f\"Confusion Matrix (Validation): \\n{val_row['confusion_matrix']}\")\n",
    "        print(\"=\"*50)\n",
    "    else:\n",
    "        print(\"No matching validation result found.\")\n",
    "\n",
    "    # Print Test Results\n",
    "    if not test_match.empty:\n",
    "        test_row = test_match.iloc[0]  # Get the first match if there are multiple\n",
    "        print(\"Test Metrics:\")\n",
    "        print(f\"Classifier: {test_row['classifier']}\")\n",
    "        print(f\"Selector: {test_row['selector']}\")\n",
    "        if selector == 'lasso':\n",
    "            print(f\"Alpha: {test_row['alpha']}\")\n",
    "        else:\n",
    "            print(f\"Num Features: {test_row['num_features']}\")\n",
    "        print(f\"Mode: {test_row['mode']}\")\n",
    "        print(f\"ROC AUC (Test): {test_row['roc_auc']:.4f}\")\n",
    "        print(f\"PR AUC (Test): {test_row['pr_auc']:.4f}\")\n",
    "        print(f\"F1 Score (Test): {test_row['f1']:.4f}\")\n",
    "        print(f\"Accuracy (Test): {test_row['accuracy']:.4f}\")\n",
    "        print(f\"Confusion Matrix (Test): \\n{test_row['confusion_matrix']}\")\n",
    "        print(\"=\"*50)\n",
    "    else:\n",
    "        print(\"No matching test result found.\")\n",
    "\n",
    "# Example usage:\n",
    "print_results_for_val_and_test(\n",
    "    mode='Mean', \n",
    "    classifier='XgBoost', \n",
    "    selector='logistic',\n",
    "    num_features=17\n",
    ")\n"
   ]
  },
  {
   "cell_type": "markdown",
   "metadata": {},
   "source": [
    "## Plot roc / f1 di val e test per una configurazione specifica"
   ]
  },
  {
   "cell_type": "code",
   "execution_count": 133,
   "metadata": {},
   "outputs": [
    {
     "data": {
      "image/png": "[encoded data removed]",
      "text/plain": [
       "<Figure size 1000x600 with 1 Axes>"
      ]
     },
     "metadata": {},
     "output_type": "display_data"
    }
   ],
   "source": [
    "METRICA='f1'\n",
    "def plot_f1_vs_num_features(classifier, selector, mode, metrica):\n",
    "    \"\"\"\n",
    "    Plot F1 score vs num_features for both validation and test sets.\n",
    "    \"\"\"\n",
    "    # Extract num_features and F1 score from validation results\n",
    "    val_num_features = []\n",
    "    val_f1_scores = []\n",
    "    \n",
    "    for result in results_val:\n",
    "        if (result['classifier'] == classifier and\n",
    "            result['selector'] == selector and\n",
    "            result['mode']== mode):\n",
    "            if result['num_features'] is not None:\n",
    "                val_num_features.append(result['num_features'])\n",
    "                val_f1_scores.append(result[metrica])\n",
    "\n",
    "    # Extract num_features and F1 score from test results\n",
    "    test_num_features = []\n",
    "    test_f1_scores = []\n",
    "    \n",
    "    for result in results_test:\n",
    "        if (result['classifier'] == classifier and\n",
    "            result['selector'] == selector and \n",
    "            result['mode']== mode):\n",
    "            if result['num_features'] is not None:\n",
    "                test_num_features.append(result['num_features'])\n",
    "                test_f1_scores.append(result[metrica])\n",
    "\n",
    "    # Plot the F1 score vs num_features for both validation and test\n",
    "    plt.figure(figsize=(10, 6))\n",
    "    \n",
    "    plt.plot(val_num_features, val_f1_scores, label=f'Validation {metrica}', marker='o', linestyle='-', color='b')\n",
    "    plt.plot(test_num_features, test_f1_scores, label=f'Test {metrica}', marker='o', linestyle='--', color='r')\n",
    "    \n",
    "    plt.title(f\"{metrica} vs Num Features ({classifier}, {selector})\")\n",
    "    plt.xlabel('Number of Features')\n",
    "    plt.ylabel(f'{metrica}')\n",
    "    plt.legend()\n",
    "    \n",
    "    plt.grid(True)\n",
    "    plt.show()\n",
    "\n",
    "# Example usage:\n",
    "plot_f1_vs_num_features(\n",
    "    mode='Mean', \n",
    "    classifier='XgBoost', \n",
    "    selector='logistic',\n",
    "    metrica=METRICA\n",
    ")\n"
   ]
  },
  {
   "cell_type": "markdown",
   "metadata": {},
   "source": [
    "## sorting results per validation"
   ]
  },
  {
   "cell_type": "code",
   "execution_count": 54,
   "metadata": {},
   "outputs": [],
   "source": [
    "import statistics\n",
    "\n",
    "# Definizione delle possibili configurazioni di classificatori, selettori e numero di feature\n",
    "classifiers = ['SVM', 'RandomForest', 'ensemble', 'XgBoost', 'Logistic', 'MLP']\n",
    "selectors = ['mrmr', 'rf', 'logistic', 'p_value', 'lasso']\n",
    "modes=['Mean', 'MV']\n",
    "#num_features_range = list(range(2, len(X_train_reduced[0]) + 1))\n",
    "num_features_range=list(range(2,30))\n",
    "\n",
    "grid_results = {}\n",
    "\n",
    "# Itera su tutte le combinazioni di parametri (classifier, selector, num_features)\n",
    "for mode in modes:\n",
    "    for classifier in classifiers:\n",
    "        print(f\"sto iniziando classifier {classifier}\")\n",
    "        for selector in selectors:\n",
    "            print(f\"sto iniziando selector {selector}\")\n",
    "\n",
    "            if (selector)=='lasso':\n",
    "                for alpha in alpha_values:\n",
    "                    filtered_results = [res for res in results_val if res['classifier'] == classifier and res['selector'] == selector and res['alpha'] == alpha and res['mode']=='mode']\n",
    "\n",
    "                    if filtered_results:\n",
    "                        pr_auc_values = [res['pr_auc'] for res in filtered_results]\n",
    "                        f1_values = [res['f1'] for res in filtered_results]\n",
    "                        accuracy_values = [res['accuracy'] for res in filtered_results]\n",
    "                        roc_values = [res['roc_auc'] for res in filtered_results]\n",
    "                        \n",
    "                        # Calcola le medie delle metriche\n",
    "                        avg_pr_auc = sum(pr_auc_values) / len(pr_auc_values)\n",
    "                        avg_f1 = sum(f1_values) / len(f1_values)\n",
    "                        avg_accuracy = sum(accuracy_values) / len(accuracy_values)\n",
    "                        avg_roc = sum(roc_values) / len(roc_values)\n",
    "                        \n",
    "                        # Calcola la deviazione standard delle metriche\n",
    "                        std_pr_auc = statistics.stdev(pr_auc_values) if len(pr_auc_values) > 1 else 0\n",
    "                        std_f1 = statistics.stdev(f1_values) if len(f1_values) > 1 else 0\n",
    "                        std_accuracy = statistics.stdev(accuracy_values) if len(accuracy_values) > 1 else 0\n",
    "                        std_roc = statistics.stdev(roc_values) if len(roc_values) > 1 else 0\n",
    "                        \n",
    "                        # Memorizza i risultati medi e la deviazione standard di questa combinazione\n",
    "                        grid_results[(classifier, selector, alpha)] = {\n",
    "                            'avg_pr_auc': avg_pr_auc,\n",
    "                            'std_pr_auc': std_pr_auc,\n",
    "                            'avg_f1': avg_f1,\n",
    "                            'std_f1': std_f1,\n",
    "                            'avg_accuracy': avg_accuracy,\n",
    "                            'std_accuracy': std_accuracy,\n",
    "                            'std_roc_auc':std_roc,\n",
    "                            'avg_roc_auc': avg_roc,\n",
    "\n",
    "                        }\n",
    "            \n",
    "            else:\n",
    "                for num_features in num_features_range:\n",
    "                    # Filtra i risultati che corrispondono a questa combinazione di parametri\n",
    "                    filtered_results = [res for res in results_val if res['classifier'] == classifier and res['selector'] == selector and res['num_features'] == num_features and res['mode']==mode]\n",
    "                    \n",
    "                    if filtered_results:\n",
    "                        print(\"found\")\n",
    "                        pr_auc_values = [res['pr_auc'] for res in filtered_results]\n",
    "                        f1_values = [res['f1'] for res in filtered_results]\n",
    "                        accuracy_values = [res['accuracy'] for res in filtered_results]\n",
    "                        roc_values = [res['roc_auc'] for res in filtered_results]\n",
    "                        \n",
    "                        # Calcola le medie delle metriche\n",
    "                        avg_pr_auc = sum(pr_auc_values) / len(pr_auc_values)\n",
    "                        avg_f1 = sum(f1_values) / len(f1_values)\n",
    "                        avg_accuracy = sum(accuracy_values) / len(accuracy_values)\n",
    "                        avg_roc = sum(roc_values) / len(roc_values)\n",
    "                        \n",
    "                        # Calcola la deviazione standard delle metriche\n",
    "                        std_pr_auc = statistics.stdev(pr_auc_values) if len(pr_auc_values) > 1 else 0\n",
    "                        std_f1 = statistics.stdev(f1_values) if len(f1_values) > 1 else 0\n",
    "                        std_accuracy = statistics.stdev(accuracy_values) if len(accuracy_values) > 1 else 0\n",
    "                        std_roc = statistics.stdev(roc_values) if len(roc_values) > 1 else 0\n",
    "                        \n",
    "                        # Memorizza i risultati medi e la deviazione standard di questa combinazione\n",
    "                        grid_results[(classifier, selector, num_features, mode)] = {\n",
    "                            'avg_pr_auc': avg_pr_auc,\n",
    "                            'std_pr_auc': std_pr_auc,\n",
    "                            'avg_f1': avg_f1,\n",
    "                            'std_f1': std_f1,\n",
    "                            'avg_accuracy': avg_accuracy,\n",
    "                            'std_accuracy': std_accuracy,\n",
    "                            'std_roc_auc':std_roc,\n",
    "                            'avg_roc_auc': avg_roc\n",
    "                        }\n",
    "\n",
    "\n",
    "    # Ordina le combinazioni per 'avg_f1', e in caso di parità, per 'avg_pr_auc'\n",
    "    sorted_results_val = sorted(grid_results.items(), key=lambda x: (x[1]['avg_roc_auc'], x[1]['avg_pr_auc']), reverse=True)"
   ]
  },
  {
   "cell_type": "code",
   "execution_count": null,
   "metadata": {},
   "outputs": [],
   "source": [
    "import pickle\n",
    "\n",
    "with open('/Users/alessiamenozzi/Desktop/sorted_results_test_VGG_max30_0.3', 'wb') as pickle_file:\n",
    "    pickle.dump(sorted_results_test, pickle_file)"
   ]
  },
  {
   "cell_type": "code",
   "execution_count": 45,
   "metadata": {},
   "outputs": [
    {
     "ename": "FileNotFoundError",
     "evalue": "[Errno 2] No such file or directory: '/Users/alessiamenozzi/Desktop/sorted_results_test_VGG_max30_0.3'",
     "output_type": "error",
     "traceback": [
      "\u001b[0;31m---------------------------------------------------------------------------\u001b[0m",
      "\u001b[0;31mFileNotFoundError\u001b[0m                         Traceback (most recent call last)",
      "Cell \u001b[0;32mIn[45], line 1\u001b[0m\n\u001b[0;32m----> 1\u001b[0m \u001b[38;5;28;01mwith\u001b[39;00m \u001b[38;5;28;43mopen\u001b[39;49m\u001b[43m(\u001b[49m\u001b[38;5;124;43m\"\u001b[39;49m\u001b[38;5;124;43m/Users/alessiamenozzi/Desktop/sorted_results_test_VGG_max30_0.3\u001b[39;49m\u001b[38;5;124;43m\"\u001b[39;49m\u001b[43m,\u001b[49m\u001b[43m \u001b[49m\u001b[38;5;124;43m'\u001b[39;49m\u001b[38;5;124;43mrb\u001b[39;49m\u001b[38;5;124;43m'\u001b[39;49m\u001b[43m)\u001b[49m \u001b[38;5;28;01mas\u001b[39;00m file:\n\u001b[1;32m      2\u001b[0m     sorted_results_test \u001b[38;5;241m=\u001b[39m pickle\u001b[38;5;241m.\u001b[39mload(file)\n",
      "File \u001b[0;32m~/Library/Python/3.11/lib/python/site-packages/IPython/core/interactiveshell.py:286\u001b[0m, in \u001b[0;36m_modified_open\u001b[0;34m(file, *args, **kwargs)\u001b[0m\n\u001b[1;32m    279\u001b[0m \u001b[38;5;28;01mif\u001b[39;00m file \u001b[38;5;129;01min\u001b[39;00m {\u001b[38;5;241m0\u001b[39m, \u001b[38;5;241m1\u001b[39m, \u001b[38;5;241m2\u001b[39m}:\n\u001b[1;32m    280\u001b[0m     \u001b[38;5;28;01mraise\u001b[39;00m \u001b[38;5;167;01mValueError\u001b[39;00m(\n\u001b[1;32m    281\u001b[0m         \u001b[38;5;124mf\u001b[39m\u001b[38;5;124m\"\u001b[39m\u001b[38;5;124mIPython won\u001b[39m\u001b[38;5;124m'\u001b[39m\u001b[38;5;124mt let you open fd=\u001b[39m\u001b[38;5;132;01m{\u001b[39;00mfile\u001b[38;5;132;01m}\u001b[39;00m\u001b[38;5;124m by default \u001b[39m\u001b[38;5;124m\"\u001b[39m\n\u001b[1;32m    282\u001b[0m         \u001b[38;5;124m\"\u001b[39m\u001b[38;5;124mas it is likely to crash IPython. If you know what you are doing, \u001b[39m\u001b[38;5;124m\"\u001b[39m\n\u001b[1;32m    283\u001b[0m         \u001b[38;5;124m\"\u001b[39m\u001b[38;5;124myou can use builtins\u001b[39m\u001b[38;5;124m'\u001b[39m\u001b[38;5;124m open.\u001b[39m\u001b[38;5;124m\"\u001b[39m\n\u001b[1;32m    284\u001b[0m     )\n\u001b[0;32m--> 286\u001b[0m \u001b[38;5;28;01mreturn\u001b[39;00m \u001b[43mio_open\u001b[49m\u001b[43m(\u001b[49m\u001b[43mfile\u001b[49m\u001b[43m,\u001b[49m\u001b[43m \u001b[49m\u001b[38;5;241;43m*\u001b[39;49m\u001b[43margs\u001b[49m\u001b[43m,\u001b[49m\u001b[43m \u001b[49m\u001b[38;5;241;43m*\u001b[39;49m\u001b[38;5;241;43m*\u001b[39;49m\u001b[43mkwargs\u001b[49m\u001b[43m)\u001b[49m\n",
      "\u001b[0;31mFileNotFoundError\u001b[0m: [Errno 2] No such file or directory: '/Users/alessiamenozzi/Desktop/sorted_results_test_VGG_max30_0.3'"
     ]
    }
   ],
   "source": [
    "with open(\"/Users/alessiamenozzi/Desktop/sorted_results_test_VGG_max30_0.3\", 'rb') as file:\n",
    "    sorted_results_test = pickle.load(file)"
   ]
  },
  {
   "cell_type": "code",
   "execution_count": 49,
   "metadata": {},
   "outputs": [
    {
     "name": "stdout",
     "output_type": "stream",
     "text": [
      "[]\n",
      "Migliori 20 combinazioni di parametri:\n"
     ]
    }
   ],
   "source": [
    "n=20\n",
    "best_3_combinations = sorted_results_val[:n] ## mostrando le n migliori configurazioni\n",
    "print(best_3_combinations)\n",
    "print(f\"Migliori {n} combinazioni di parametri:\")\n",
    "for i, (params, metrics) in enumerate(best_3_combinations, start=1):\n",
    "    print(f\"\\n#{i}:\")\n",
    "    print(f\"Classifier: {params[0]}\")\n",
    "    print(f\"Selector: {params[1]}\")\n",
    "    if (params[1]=='lasso'):\n",
    "        print(f\"Alpha: {params[2]}\")\n",
    "    else:\n",
    "        print(f\"Num_features: {params[2]}\")\n",
    "    print(f\"Mode : {params[3]}\")\n",
    "\n",
    "    print(f\"Performance medie: F1 = {metrics['avg_f1']} (std = {metrics['std_f1']}), \"\n",
    "          f\"PR AUC = {metrics['avg_pr_auc']} (std = {metrics['std_pr_auc']}), \"\n",
    "          f\"Accuracy = {metrics['avg_accuracy']} (std = {metrics['std_accuracy']})\"\n",
    "          f\"ROC AUC = {metrics['avg_roc_auc']} (std = {metrics['std_roc_auc']})\")\n",
    "\n",
    "\n",
    "    if params[0] == 'RandomForest':\n",
    "                            classi = RandomForestClassifier(n_estimators=100, random_state=42)\n",
    "    elif params[0] == 'Logistic':\n",
    "                            classi = LogisticRegression(random_state=42)\n",
    "    elif params[0] == 'SVM':\n",
    "                            classi = SVC(kernel='rbf', probability=True, random_state=42)\n",
    "    elif params[0] == 'XgBoost':\n",
    "                            classi = XGBClassifier(random_state=42)\n",
    "    elif params[0] == 'MLP':\n",
    "                            classi = MLPClassifier(hidden_layer_sizes=(128, 64, 32), max_iter=1000, random_state=42, early_stopping=True, learning_rate='adaptive', activation='logistic')\n",
    "    elif params[0] == 'ensemble':\n",
    "                            rf_model = RandomForestClassifier(n_estimators=100, random_state=42)\n",
    "                            logistic_model = LogisticRegression(random_state=42)\n",
    "                            svc_model = SVC(kernel='rbf', probability=True, random_state=42)\n",
    "\n",
    "                            # Crea l'ensemble con VotingClassifier\n",
    "                            classi = VotingClassifier(\n",
    "                                estimators=[\n",
    "                                    ('random_forest', rf_model),\n",
    "                                    ('logistic', logistic_model),\n",
    "                                    ('svc', svc_model)\n",
    "                                ],\n",
    "                                voting='soft'  # 'soft' usa le probabilità di classe, 'hard' usa le predizioni di classe\n",
    "                                )\n",
    "\n",
    "    best_case=None\n",
    "\n",
    "    for res in results_test:\n",
    "        if(params[1]=='lasso'):\n",
    "            if(res['classifier']==params[0] and res['selector']==params[1] and res['mode']==params[3] and res['alpha']==params[2]):\n",
    "                best_case=res\n",
    "\n",
    "        else:\n",
    "            if(res['classifier']==params[0] and res['selector']==params[1] and res['mode']==params[3] and res['num_features']==params[2]):\n",
    "                best_case=res\n",
    "\n",
    "    if (best_case!=None):\n",
    "        print(\"Metrics from best_case ON THE TEST SET:\")\n",
    "        if (params[1]=='lasso'):\n",
    "                print(f\"Alpha: {best_case['alpha']}\")\n",
    "        print(f\"Number of Features: {best_case['num_features']}\")\n",
    "        print(f\"Selected Features: {best_case['selected_features']}\")\n",
    "        print(f\"Precision-Recall AUC: {best_case['pr_auc']}\")\n",
    "        print(f\"Best Precision: {best_case['best_precision']}\")\n",
    "        print(f\"Best Recall: {best_case['best_recall']}\")\n",
    "        print(f\"ROC AUC: {best_case['roc_auc']}\")\n",
    "        print(f\"F1 Score: {best_case['f1']}\")\n",
    "        print(f\"Accuracy: {best_case['accuracy']}\")\n",
    "        print(f\"Confusion Matrix: \\n{np.array(best_case['confusion_matrix'])}\")\n",
    "        print(f\"Best Threshold: {best_case['best_threshold']}\")"
   ]
  },
  {
   "cell_type": "markdown",
   "metadata": {},
   "source": [
    "## grafici"
   ]
  },
  {
   "cell_type": "markdown",
   "metadata": {},
   "source": [
    "### grafico che mostra per ogni classifier e selector e per i due mean, il risultato che ottiene la roc_auc migliore"
   ]
  },
  {
   "cell_type": "code",
   "execution_count": 21,
   "metadata": {},
   "outputs": [
    {
     "data": {
      "image/png": "[encoded data removed]",
      "text/plain": [
       "<Figure size 1000x600 with 1 Axes>"
      ]
     },
     "metadata": {},
     "output_type": "display_data"
    },
    {
     "data": {
      "image/png": "[encoded data removed]",
      "text/plain": [
       "<Figure size 1000x600 with 1 Axes>"
      ]
     },
     "metadata": {},
     "output_type": "display_data"
    }
   ],
   "source": [
    "\n",
    "# Convert to DataFrame\n",
    "df = pd.DataFrame(results_test)\n",
    "\n",
    "# Assuming df is already loaded with your results\n",
    "\n",
    "# Filter by mode and selector 'mrmr', and select the best f1 for each classifier and selector\n",
    "def get_best_results_by_mode(mode, df):\n",
    "    # Filter by mode and selector = 'mrmr'\n",
    "    #mode_df = df[(df['mode'] == mode) & (df['selector'] == 'mrmr')]\n",
    "    mode_df = df[(df['mode'] == mode)]\n",
    "    best_results = mode_df.loc[mode_df.groupby(['classifier', 'selector'])['f1'].idxmax()]\n",
    "    return best_results\n",
    "\n",
    "# Get the best results for both modes 'MV' and 'Mean', and only where selector='mrmr'\n",
    "best_results_mv = get_best_results_by_mode('MV', df)\n",
    "best_results_mean = get_best_results_by_mode('Mean', df)\n",
    "\n",
    "# Create a plot for each mode\n",
    "def plot_best_results(best_results, mode):\n",
    "    fig, ax = plt.subplots(figsize=(10, 6))\n",
    "    labels = []\n",
    "    f1_values = []\n",
    "    features_or_alpha_values = []\n",
    "    \n",
    "    for index, row in best_results.iterrows():\n",
    "        label = f\"{row['classifier']} - {row['selector']}\"\n",
    "        features_or_alpha = row['alpha'] if row['selector'] == 'lasso' else row['num_features']\n",
    "        labels.append(label)\n",
    "        f1_values.append(row['f1'])\n",
    "        features_or_alpha_values.append(features_or_alpha)\n",
    "    \n",
    "    ax.bar(labels, f1_values)\n",
    "    ax.set_title(f\"Best F1 ON TEST by Classifier and Selector - Mode: {mode}\")\n",
    "    ax.set_xlabel(\"Classifier and Selector\")\n",
    "    ax.set_ylabel(\"roc_auc\")\n",
    "    \n",
    "    # Annotate the bars with the number of features/alpha\n",
    "    #for i, val in enumerate(f1_values):\n",
    "        #ax.text(i, val + 0.01, f\"features/alpha: {features_or_alpha_values[i]}\", ha='center', va='bottom')\n",
    "\n",
    "    plt.xticks(rotation=45, ha=\"right\")\n",
    "    plt.tight_layout()\n",
    "    plt.show()\n",
    "\n",
    "# Plot for MV mode with selector 'mrmr'\n",
    "plot_best_results(best_results_mv, 'MV')\n",
    "\n",
    "# Plot for Mean mode with selector 'mrmr'\n",
    "plot_best_results(best_results_mean, 'Mean')\n",
    "\n"
   ]
  },
  {
   "cell_type": "code",
   "execution_count": 22,
   "metadata": {},
   "outputs": [
    {
     "data": {
      "image/png": "[encoded data removed]",
      "text/plain": [
       "<Figure size 1000x600 with 1 Axes>"
      ]
     },
     "metadata": {},
     "output_type": "display_data"
    },
    {
     "data": {
      "image/png": "[encoded data removed]",
      "text/plain": [
       "<Figure size 1000x600 with 1 Axes>"
      ]
     },
     "metadata": {},
     "output_type": "display_data"
    }
   ],
   "source": [
    "\n",
    "# Convert to DataFrame\n",
    "df = pd.DataFrame(results_val)\n",
    "\n",
    "# Assuming df is already loaded with your results\n",
    "\n",
    "# Filter by mode and selector 'mrmr', and select the best f1 for each classifier and selector\n",
    "def get_best_results_by_mode(mode, df):\n",
    "    # Filter by mode and selector = 'mrmr'\n",
    "    #mode_df = df[(df['mode'] == mode) & (df['selector'] == 'mrmr')]\n",
    "    mode_df = df[(df['mode'] == mode)]\n",
    "    best_results = mode_df.loc[mode_df.groupby(['classifier', 'selector'])['f1'].idxmax()]\n",
    "    return best_results\n",
    "\n",
    "# Get the best results for both modes 'MV' and 'Mean', and only where selector='mrmr'\n",
    "best_results_mv = get_best_results_by_mode('MV', df)\n",
    "best_results_mean = get_best_results_by_mode('Mean', df)\n",
    "\n",
    "# Create a plot for each mode\n",
    "def plot_best_results(best_results, mode):\n",
    "    fig, ax = plt.subplots(figsize=(10, 6))\n",
    "    labels = []\n",
    "    f1_values = []\n",
    "    features_or_alpha_values = []\n",
    "    \n",
    "    for index, row in best_results.iterrows():\n",
    "        label = f\"{row['classifier']} - {row['selector']}\"\n",
    "        features_or_alpha = row['alpha'] if row['selector'] == 'lasso' else row['num_features']\n",
    "        labels.append(label)\n",
    "        f1_values.append(row['f1'])\n",
    "        features_or_alpha_values.append(features_or_alpha)\n",
    "    \n",
    "    ax.bar(labels, f1_values)\n",
    "    ax.set_title(f\"Best F1 ON VAL by Classifier and Selector - Mode: {mode}\")\n",
    "    ax.set_xlabel(\"Classifier and Selector\")\n",
    "    ax.set_ylabel(\"roc_auc\")\n",
    "    \n",
    "    # Annotate the bars with the number of features/alpha\n",
    "    #for i, val in enumerate(f1_values):\n",
    "        #ax.text(i, val + 0.01, f\"features/alpha: {features_or_alpha_values[i]}\", ha='center', va='bottom')\n",
    "\n",
    "    plt.xticks(rotation=45, ha=\"right\")\n",
    "    plt.tight_layout()\n",
    "    plt.show()\n",
    "\n",
    "# Plot for MV mode with selector 'mrmr'\n",
    "plot_best_results(best_results_mv, 'MV')\n",
    "\n",
    "# Plot for Mean mode with selector 'mrmr'\n",
    "plot_best_results(best_results_mean, 'Mean')\n",
    "\n"
   ]
  },
  {
   "cell_type": "code",
   "execution_count": 107,
   "metadata": {},
   "outputs": [
    {
     "name": "stdout",
     "output_type": "stream",
     "text": [
      "Selector: mrmr\n",
      "Classifier: RandomForest\n",
      "Num Features: 6\n",
      "Mode: Mean\n",
      "\n",
      "Validation Metrics:\n",
      " - F1 Score: 0.6956521739130435\n",
      " - ROC AUC: 0.7055555555555556\n",
      " - PR AUC: 0.700436312564459\n",
      " - accuracy: 0.7407407407407407\n",
      " - Confusion Matrix:\n",
      "[[12  3]\n",
      " [ 4  8]]\n",
      "\n",
      "Test Metrics:\n",
      " - F1 Score: 0.42857142857142855\n",
      " - ROC AUC: 0.6728395061728395\n",
      " - PR AUC: 0.4361239272423483\n",
      " - accuracy: 0.5897435897435898\n",
      " - Confusion Matrix:\n",
      "[[17 10]\n",
      " [ 6  6]]\n",
      "\n",
      "==================================================\n",
      "\n",
      "Selector: mrmr\n",
      "Classifier: Logistic\n",
      "Num Features: 2\n",
      "Mode: Mean\n",
      "\n",
      "Validation Metrics:\n",
      " - F1 Score: 0.7407407407407407\n",
      " - ROC AUC: 0.8\n",
      " - PR AUC: 0.7596416254310991\n",
      " - accuracy: 0.7407407407407407\n",
      " - Confusion Matrix:\n",
      "[[10  5]\n",
      " [ 2 10]]\n",
      "\n",
      "Test Metrics:\n",
      " - F1 Score: 0.4444444444444444\n",
      " - ROC AUC: 0.5493827160493827\n",
      " - PR AUC: 0.37071069317784455\n",
      " - accuracy: 0.48717948717948717\n",
      " - Confusion Matrix:\n",
      "[[11 16]\n",
      " [ 4  8]]\n",
      "\n",
      "==================================================\n",
      "\n",
      "Selector: mrmr\n",
      "Classifier: XgBoost\n",
      "Num Features: 24\n",
      "Mode: Mean\n",
      "\n",
      "Validation Metrics:\n",
      " - F1 Score: 0.6666666666666666\n",
      " - ROC AUC: 0.6333333333333333\n",
      " - PR AUC: 0.6183452755821177\n",
      " - accuracy: 0.7407407407407407\n",
      " - Confusion Matrix:\n",
      "[[13  2]\n",
      " [ 5  7]]\n",
      "\n",
      "Test Metrics:\n",
      " - F1 Score: 0.6086956521739131\n",
      " - ROC AUC: 0.7222222222222222\n",
      " - PR AUC: 0.5028391237108764\n",
      " - accuracy: 0.7692307692307693\n",
      " - Confusion Matrix:\n",
      "[[23  4]\n",
      " [ 5  7]]\n",
      "\n",
      "==================================================\n",
      "\n",
      "Selector: mrmr\n",
      "Classifier: MLP\n",
      "Num Features: 3\n",
      "Mode: Mean\n",
      "\n",
      "Validation Metrics:\n",
      " - F1 Score: 0.6666666666666666\n",
      " - ROC AUC: 0.7\n",
      " - PR AUC: 0.7154703483028293\n",
      " - accuracy: 0.6296296296296297\n",
      " - Confusion Matrix:\n",
      "[[ 7  8]\n",
      " [ 2 10]]\n",
      "\n",
      "Test Metrics:\n",
      " - F1 Score: 0.46153846153846156\n",
      " - ROC AUC: 0.5555555555555556\n",
      " - PR AUC: 0.4013787268350087\n",
      " - accuracy: 0.46153846153846156\n",
      " - Confusion Matrix:\n",
      "[[ 9 18]\n",
      " [ 3  9]]\n",
      "\n",
      "==================================================\n",
      "\n",
      "Selector: mrmr\n",
      "Classifier: SVM\n",
      "Num Features: 11\n",
      "Mode: Mean\n",
      "\n",
      "Validation Metrics:\n",
      " - F1 Score: 0.6\n",
      " - ROC AUC: 0.6\n",
      " - PR AUC: 0.714080083616697\n",
      " - accuracy: 0.7037037037037037\n",
      " - Confusion Matrix:\n",
      "[[13  2]\n",
      " [ 6  6]]\n",
      "\n",
      "Test Metrics:\n",
      " - F1 Score: 0.5\n",
      " - ROC AUC: 0.7098765432098766\n",
      " - PR AUC: 0.5451701679962548\n",
      " - accuracy: 0.5897435897435898\n",
      " - Confusion Matrix:\n",
      "[[15 12]\n",
      " [ 4  8]]\n",
      "\n",
      "==================================================\n",
      "\n",
      "Selector: mrmr\n",
      "Classifier: ensemble\n",
      "Num Features: 3\n",
      "Mode: Mean\n",
      "\n",
      "Validation Metrics:\n",
      " - F1 Score: 0.64\n",
      " - ROC AUC: 0.7\n",
      " - PR AUC: 0.7216886914255336\n",
      " - accuracy: 0.6666666666666666\n",
      " - Confusion Matrix:\n",
      "[[10  5]\n",
      " [ 4  8]]\n",
      "\n",
      "Test Metrics:\n",
      " - F1 Score: 0.37037037037037035\n",
      " - ROC AUC: 0.5709876543209876\n",
      " - PR AUC: 0.375351379685745\n",
      " - accuracy: 0.5641025641025641\n",
      " - Confusion Matrix:\n",
      "[[17 10]\n",
      " [ 7  5]]\n",
      "\n",
      "==================================================\n",
      "\n",
      "Selector: mrmr\n",
      "Classifier: RandomForest\n",
      "Num Features: 4\n",
      "Mode: MV\n",
      "\n",
      "Validation Metrics:\n",
      " - F1 Score: 0.6086956521739131\n",
      " - ROC AUC: 0.6\n",
      " - PR AUC: 0.6245985294898339\n",
      " - accuracy: 0.6666666666666666\n",
      " - Confusion Matrix:\n",
      "[[11  4]\n",
      " [ 5  7]]\n",
      "\n",
      "Test Metrics:\n",
      " - F1 Score: 0.3333333333333333\n",
      " - ROC AUC: 0.5833333333333334\n",
      " - PR AUC: 0.35401224740409887\n",
      " - accuracy: 0.5897435897435898\n",
      " - Confusion Matrix:\n",
      "[[19  8]\n",
      " [ 8  4]]\n",
      "\n",
      "==================================================\n",
      "\n",
      "Selector: mrmr\n",
      "Classifier: Logistic\n",
      "Num Features: 3\n",
      "Mode: MV\n",
      "\n",
      "Validation Metrics:\n",
      " - F1 Score: 0.7142857142857143\n",
      " - ROC AUC: 0.8055555555555556\n",
      " - PR AUC: 0.803746363285837\n",
      " - accuracy: 0.7037037037037037\n",
      " - Confusion Matrix:\n",
      "[[ 9  6]\n",
      " [ 2 10]]\n",
      "\n",
      "Test Metrics:\n",
      " - F1 Score: 0.5\n",
      " - ROC AUC: 0.6049382716049383\n",
      " - PR AUC: 0.4138247294497295\n",
      " - accuracy: 0.48717948717948717\n",
      " - Confusion Matrix:\n",
      "[[ 9 18]\n",
      " [ 2 10]]\n",
      "\n",
      "==================================================\n",
      "\n",
      "Selector: mrmr\n",
      "Classifier: XgBoost\n",
      "Num Features: 23\n",
      "Mode: MV\n",
      "\n",
      "Validation Metrics:\n",
      " - F1 Score: 0.6363636363636364\n",
      " - ROC AUC: 0.638888888888889\n",
      " - PR AUC: 0.6732660900617558\n",
      " - accuracy: 0.7037037037037037\n",
      " - Confusion Matrix:\n",
      "[[12  3]\n",
      " [ 5  7]]\n",
      "\n",
      "Test Metrics:\n",
      " - F1 Score: 0.56\n",
      " - ROC AUC: 0.7098765432098766\n",
      " - PR AUC: 0.4975194147533965\n",
      " - accuracy: 0.717948717948718\n",
      " - Confusion Matrix:\n",
      "[[21  6]\n",
      " [ 5  7]]\n",
      "\n",
      "==================================================\n",
      "\n",
      "Selector: mrmr\n",
      "Classifier: MLP\n",
      "Num Features: 3\n",
      "Mode: MV\n",
      "\n",
      "Validation Metrics:\n",
      " - F1 Score: 0.7272727272727273\n",
      " - ROC AUC: 0.7\n",
      " - PR AUC: 0.7154703483028293\n",
      " - accuracy: 0.6666666666666666\n",
      " - Confusion Matrix:\n",
      "[[ 6  9]\n",
      " [ 0 12]]\n",
      "\n",
      "Test Metrics:\n",
      " - F1 Score: 0.5142857142857142\n",
      " - ROC AUC: 0.5555555555555556\n",
      " - PR AUC: 0.4013787268350087\n",
      " - accuracy: 0.5641025641025641\n",
      " - Confusion Matrix:\n",
      "[[13 14]\n",
      " [ 3  9]]\n",
      "\n",
      "==================================================\n",
      "\n",
      "Selector: mrmr\n",
      "Classifier: SVM\n",
      "Num Features: 2\n",
      "Mode: MV\n",
      "\n",
      "Validation Metrics:\n",
      " - F1 Score: 0.6666666666666666\n",
      " - ROC AUC: 0.5222222222222223\n",
      " - PR AUC: 0.4678998493336729\n",
      " - accuracy: 0.5925925925925926\n",
      " - Confusion Matrix:\n",
      "[[ 5 10]\n",
      " [ 1 11]]\n",
      "\n",
      "Test Metrics:\n",
      " - F1 Score: 0.4\n",
      " - ROC AUC: 0.5030864197530864\n",
      " - PR AUC: 0.3470964317326546\n",
      " - accuracy: 0.38461538461538464\n",
      " - Confusion Matrix:\n",
      "[[ 7 20]\n",
      " [ 4  8]]\n",
      "\n",
      "==================================================\n",
      "\n",
      "Selector: mrmr\n",
      "Classifier: ensemble\n",
      "Num Features: 2\n",
      "Mode: MV\n",
      "\n",
      "Validation Metrics:\n",
      " - F1 Score: 0.5806451612903226\n",
      " - ROC AUC: 0.6722222222222223\n",
      " - PR AUC: 0.6793831168831169\n",
      " - accuracy: 0.5185185185185185\n",
      " - Confusion Matrix:\n",
      "[[ 5 10]\n",
      " [ 3  9]]\n",
      "\n",
      "Test Metrics:\n",
      " - F1 Score: 0.4375\n",
      " - ROC AUC: 0.5493827160493827\n",
      " - PR AUC: 0.37499168420456613\n",
      " - accuracy: 0.5384615384615384\n",
      " - Confusion Matrix:\n",
      "[[14 13]\n",
      " [ 5  7]]\n",
      "\n",
      "==================================================\n",
      "\n"
     ]
    }
   ],
   "source": [
    "# Step 1: Get the best results from results_val where selector is 'mrmr'\n",
    "def get_best_results_from_val(results_val):\n",
    "    best_results = {}\n",
    "    \n",
    "    # Loop through the dictionary and find the best f1 score for each classifier and mode\n",
    "    for result in results_val:\n",
    "        if result['selector'] == 'mrmr':\n",
    "            classifier = result['classifier']\n",
    "            mode = result['mode']\n",
    "            key = (classifier, mode)\n",
    "            \n",
    "            # Check if this is the first occurrence of this classifier-mode pair\n",
    "            if key not in best_results:\n",
    "                best_results[key] = result\n",
    "            else:\n",
    "                # Compare current f1 score with the best one so far\n",
    "                if result['f1'] > best_results[key]['f1']:\n",
    "                    best_results[key] = result\n",
    "    \n",
    "    return best_results\n",
    "\n",
    "# Step 2: Find corresponding results in results_test using the best results from results_val\n",
    "def get_corresponding_test_results(best_results, results_test):\n",
    "    corresponding_results = []\n",
    "    \n",
    "    # Loop through the best validation results\n",
    "    for key, best_val in best_results.items():\n",
    "        classifier = best_val['classifier']\n",
    "        mode = best_val['mode']\n",
    "        num_features = best_val['num_features']\n",
    "        \n",
    "        # Loop through results_test to find matching entries\n",
    "        for test_result in results_test:\n",
    "            if (test_result['classifier'] == classifier and\n",
    "                test_result['mode'] == mode and\n",
    "                test_result['num_features'] == num_features and\n",
    "                test_result['selector'] == 'mrmr'):\n",
    "                corresponding_results.append((best_val, test_result))\n",
    "    \n",
    "    return corresponding_results\n",
    "\n",
    "# Step 3: Execute the functions\n",
    "best_val_results = get_best_results_from_val(results_val)\n",
    "corresponding_test_results = get_corresponding_test_results(best_val_results, results_test)\n",
    "\n",
    "# Step 4: Print the corresponding results with specific fields\n",
    "for val_result, test_result in corresponding_test_results:\n",
    "    print(\"Selector:\", val_result['selector'])\n",
    "    print(\"Classifier:\", val_result['classifier'])\n",
    "    print(\"Num Features:\", val_result['num_features'])\n",
    "    print(\"Mode:\", val_result['mode'])\n",
    "    print(\"\\nValidation Metrics:\")\n",
    "    print(\" - F1 Score:\", val_result['f1'])\n",
    "    print(\" - ROC AUC:\", val_result['roc_auc'])\n",
    "    print(\" - PR AUC:\", val_result['pr_auc'])\n",
    "    print(\" - accuracy:\", val_result['accuracy'])\n",
    "    print(\" - Confusion Matrix:\") \n",
    "    print(f\"{val_result['confusion_matrix']}\")\n",
    "    print(\"\\nTest Metrics:\")\n",
    "    print(\" - F1 Score:\", test_result['f1'])\n",
    "    print(\" - ROC AUC:\", test_result['roc_auc'])\n",
    "    print(\" - PR AUC:\", test_result['pr_auc'])\n",
    "    print(\" - accuracy:\", test_result['accuracy'])\n",
    "    print(\" - Confusion Matrix:\") \n",
    "    print(f\"{test_result['confusion_matrix']}\")\n",
    "    print(\"\\n\" + \"=\"*50 + \"\\n\")\n"
   ]
  },
  {
   "cell_type": "markdown",
   "metadata": {},
   "source": [
    "### mostra per ogni classificatore, mode e selector il risultato migliore per val e lo applica al test"
   ]
  },
  {
   "cell_type": "code",
   "execution_count": 19,
   "metadata": {},
   "outputs": [
    {
     "name": "stdout",
     "output_type": "stream",
     "text": [
      "Selector: mrmr\n",
      "Classifier: RandomForest\n",
      "Num Features: 27\n",
      "Mode: Mean\n",
      "\n",
      "Validation Metrics:\n",
      " - F1 Score: 0.8\n",
      " - ROC AUC: 0.7833333333333332\n",
      " - PR AUC: 0.754357706563589\n",
      " - Accuracy: 0.8148148148148148\n",
      " - Confusion Matrix:\n",
      "[[12  3]\n",
      " [ 2 10]]\n",
      "\n",
      "Test Metrics:\n",
      " - F1 Score: 0.3333333333333333\n",
      " - ROC AUC: 0.5925925925925926\n",
      " - PR AUC: 0.3946665108306062\n",
      " - Accuracy: 0.5897435897435898\n",
      " - Confusion Matrix:\n",
      "[[19  8]\n",
      " [ 8  4]]\n",
      "\n",
      "==================================================\n",
      "\n",
      "Selector: lasso\n",
      "Classifier: RandomForest\n",
      "Alpha: 0.004758620689655172\n",
      "number_features:  415\n",
      "Mode: Mean\n",
      "\n",
      "Validation Metrics:\n",
      " - F1 Score: 0.6363636363636364\n",
      " - ROC AUC: 0.6944444444444445\n",
      " - PR AUC: 0.6567805968541264\n",
      " - Accuracy: 0.7037037037037037\n",
      " - Confusion Matrix:\n",
      "[[12  3]\n",
      " [ 5  7]]\n",
      "\n",
      "Test Metrics:\n",
      " - F1 Score: 0.5217391304347826\n",
      " - ROC AUC: 0.7345679012345679\n",
      " - PR AUC: 0.5579874135940311\n",
      " - Accuracy: 0.717948717948718\n",
      " - Confusion Matrix:\n",
      "[[22  5]\n",
      " [ 6  6]]\n",
      "\n",
      "==================================================\n",
      "\n",
      "Selector: rf\n",
      "Classifier: RandomForest\n",
      "Num Features: 17\n",
      "Mode: Mean\n",
      "\n",
      "Validation Metrics:\n",
      " - F1 Score: 0.5714285714285714\n",
      " - ROC AUC: 0.5388888888888889\n",
      " - PR AUC: 0.501625417710944\n",
      " - Accuracy: 0.6666666666666666\n",
      " - Confusion Matrix:\n",
      "[[12  3]\n",
      " [ 6  6]]\n",
      "\n",
      "Test Metrics:\n",
      " - F1 Score: 0.5925925925925926\n",
      " - ROC AUC: 0.7592592592592592\n",
      " - PR AUC: 0.5951803751803751\n",
      " - Accuracy: 0.717948717948718\n",
      " - Confusion Matrix:\n",
      "[[20  7]\n",
      " [ 4  8]]\n",
      "\n",
      "==================================================\n",
      "\n",
      "Selector: logistic\n",
      "Classifier: RandomForest\n",
      "Num Features: 28\n",
      "Mode: Mean\n",
      "\n",
      "Validation Metrics:\n",
      " - F1 Score: 0.64\n",
      " - ROC AUC: 0.5666666666666667\n",
      " - PR AUC: 0.5350022662522662\n",
      " - Accuracy: 0.6666666666666666\n",
      " - Confusion Matrix:\n",
      "[[10  5]\n",
      " [ 4  8]]\n",
      "\n",
      "Test Metrics:\n",
      " - F1 Score: 0.43478260869565216\n",
      " - ROC AUC: 0.7037037037037037\n",
      " - PR AUC: 0.5422864218014898\n",
      " - Accuracy: 0.6666666666666666\n",
      " - Confusion Matrix:\n",
      "[[21  6]\n",
      " [ 7  5]]\n",
      "\n",
      "==================================================\n",
      "\n",
      "Selector: p_value\n",
      "Classifier: RandomForest\n",
      "Num Features: 29\n",
      "Mode: Mean\n",
      "\n",
      "Validation Metrics:\n",
      " - F1 Score: 0.64\n",
      " - ROC AUC: 0.6388888888888888\n",
      " - PR AUC: 0.6123087761674718\n",
      " - Accuracy: 0.6666666666666666\n",
      " - Confusion Matrix:\n",
      "[[10  5]\n",
      " [ 4  8]]\n",
      "\n",
      "Test Metrics:\n",
      " - F1 Score: 0.6153846153846154\n",
      " - ROC AUC: 0.7777777777777778\n",
      " - PR AUC: 0.5952656993439392\n",
      " - Accuracy: 0.7435897435897436\n",
      " - Confusion Matrix:\n",
      "[[21  6]\n",
      " [ 4  8]]\n",
      "\n",
      "==================================================\n",
      "\n",
      "Selector: mrmr\n",
      "Classifier: SVM\n",
      "Num Features: 9\n",
      "Mode: Mean\n",
      "\n",
      "Validation Metrics:\n",
      " - F1 Score: 0.8\n",
      " - ROC AUC: 0.8111111111111111\n",
      " - PR AUC: 0.7670231388981389\n",
      " - Accuracy: 0.8148148148148148\n",
      " - Confusion Matrix:\n",
      "[[12  3]\n",
      " [ 2 10]]\n",
      "\n",
      "Test Metrics:\n",
      " - F1 Score: 0.3\n",
      " - ROC AUC: 0.6141975308641976\n",
      " - PR AUC: 0.39767475784019907\n",
      " - Accuracy: 0.6410256410256411\n",
      " - Confusion Matrix:\n",
      "[[22  5]\n",
      " [ 9  3]]\n",
      "\n",
      "==================================================\n",
      "\n",
      "Selector: lasso\n",
      "Classifier: SVM\n",
      "Alpha: 0.004551724137931035\n",
      "number_features:  431\n",
      "Mode: Mean\n",
      "\n",
      "Validation Metrics:\n",
      " - F1 Score: 0.6363636363636364\n",
      " - ROC AUC: 0.5944444444444444\n",
      " - PR AUC: 0.6068612503480925\n",
      " - Accuracy: 0.7037037037037037\n",
      " - Confusion Matrix:\n",
      "[[12  3]\n",
      " [ 5  7]]\n",
      "\n",
      "Test Metrics:\n",
      " - F1 Score: 0.5517241379310345\n",
      " - ROC AUC: 0.712962962962963\n",
      " - PR AUC: 0.4979531913888266\n",
      " - Accuracy: 0.6666666666666666\n",
      " - Confusion Matrix:\n",
      "[[18  9]\n",
      " [ 4  8]]\n",
      "\n",
      "==================================================\n",
      "\n",
      "Selector: rf\n",
      "Classifier: SVM\n",
      "Num Features: 10\n",
      "Mode: Mean\n",
      "\n",
      "Validation Metrics:\n",
      " - F1 Score: 0.6086956521739131\n",
      " - ROC AUC: 0.5888888888888889\n",
      " - PR AUC: 0.5692813966269343\n",
      " - Accuracy: 0.6666666666666666\n",
      " - Confusion Matrix:\n",
      "[[11  4]\n",
      " [ 5  7]]\n",
      "\n",
      "Test Metrics:\n",
      " - F1 Score: 0.5\n",
      " - ROC AUC: 0.6975308641975309\n",
      " - PR AUC: 0.5033464991798324\n",
      " - Accuracy: 0.5897435897435898\n",
      " - Confusion Matrix:\n",
      "[[15 12]\n",
      " [ 4  8]]\n",
      "\n",
      "==================================================\n",
      "\n",
      "Selector: logistic\n",
      "Classifier: SVM\n",
      "Num Features: 4\n",
      "Mode: Mean\n",
      "\n",
      "Validation Metrics:\n",
      " - F1 Score: 0.5925925925925926\n",
      " - ROC AUC: 0.5833333333333334\n",
      " - PR AUC: 0.5220660673985481\n",
      " - Accuracy: 0.5925925925925926\n",
      " - Confusion Matrix:\n",
      "[[8 7]\n",
      " [4 8]]\n",
      "\n",
      "Test Metrics:\n",
      " - F1 Score: 0.6060606060606061\n",
      " - ROC AUC: 0.845679012345679\n",
      " - PR AUC: 0.8240598654920906\n",
      " - Accuracy: 0.6666666666666666\n",
      " - Confusion Matrix:\n",
      "[[16 11]\n",
      " [ 2 10]]\n",
      "\n",
      "==================================================\n",
      "\n",
      "Selector: p_value\n",
      "Classifier: SVM\n",
      "Num Features: 27\n",
      "Mode: Mean\n",
      "\n",
      "Validation Metrics:\n",
      " - F1 Score: 0.6956521739130435\n",
      " - ROC AUC: 0.6277777777777778\n",
      " - PR AUC: 0.6355002405002405\n",
      " - Accuracy: 0.7407407407407407\n",
      " - Confusion Matrix:\n",
      "[[12  3]\n",
      " [ 4  8]]\n",
      "\n",
      "Test Metrics:\n",
      " - F1 Score: 0.6666666666666666\n",
      " - ROC AUC: 0.7808641975308642\n",
      " - PR AUC: 0.5811352998852999\n",
      " - Accuracy: 0.7692307692307693\n",
      " - Confusion Matrix:\n",
      "[[21  6]\n",
      " [ 3  9]]\n",
      "\n",
      "==================================================\n",
      "\n",
      "Selector: mrmr\n",
      "Classifier: XgBoost\n",
      "Num Features: 13\n",
      "Mode: Mean\n",
      "\n",
      "Validation Metrics:\n",
      " - F1 Score: 0.7272727272727273\n",
      " - ROC AUC: 0.8\n",
      " - PR AUC: 0.7827533577533579\n",
      " - Accuracy: 0.7777777777777778\n",
      " - Confusion Matrix:\n",
      "[[13  2]\n",
      " [ 4  8]]\n",
      "\n",
      "Test Metrics:\n",
      " - F1 Score: 0.21052631578947367\n",
      " - ROC AUC: 0.595679012345679\n",
      " - PR AUC: 0.3962335461260898\n",
      " - Accuracy: 0.6153846153846154\n",
      " - Confusion Matrix:\n",
      "[[22  5]\n",
      " [10  2]]\n",
      "\n",
      "==================================================\n",
      "\n",
      "Selector: lasso\n",
      "Classifier: XgBoost\n",
      "Alpha: 0.0006206896551724137\n",
      "number_features:  831\n",
      "Mode: Mean\n",
      "\n",
      "Validation Metrics:\n",
      " - F1 Score: 0.6666666666666666\n",
      " - ROC AUC: 0.5777777777777778\n",
      " - PR AUC: 0.5738993092253961\n",
      " - Accuracy: 0.7407407407407407\n",
      " - Confusion Matrix:\n",
      "[[13  2]\n",
      " [ 5  7]]\n",
      "\n",
      "Test Metrics:\n",
      " - F1 Score: 0.5714285714285714\n",
      " - ROC AUC: 0.7469135802469136\n",
      " - PR AUC: 0.6172833339500007\n",
      " - Accuracy: 0.6923076923076923\n",
      " - Confusion Matrix:\n",
      "[[19  8]\n",
      " [ 4  8]]\n",
      "\n",
      "==================================================\n",
      "\n",
      "Selector: rf\n",
      "Classifier: XgBoost\n",
      "Num Features: 19\n",
      "Mode: Mean\n",
      "\n",
      "Validation Metrics:\n",
      " - F1 Score: 0.5714285714285714\n",
      " - ROC AUC: 0.6055555555555555\n",
      " - PR AUC: 0.538462000962001\n",
      " - Accuracy: 0.6666666666666666\n",
      " - Confusion Matrix:\n",
      "[[12  3]\n",
      " [ 6  6]]\n",
      "\n",
      "Test Metrics:\n",
      " - F1 Score: 0.6428571428571429\n",
      " - ROC AUC: 0.8055555555555556\n",
      " - PR AUC: 0.6649270482603816\n",
      " - Accuracy: 0.7435897435897436\n",
      " - Confusion Matrix:\n",
      "[[20  7]\n",
      " [ 3  9]]\n",
      "\n",
      "==================================================\n",
      "\n",
      "Selector: logistic\n",
      "Classifier: XgBoost\n",
      "Num Features: 22\n",
      "Mode: Mean\n",
      "\n",
      "Validation Metrics:\n",
      " - F1 Score: 0.56\n",
      " - ROC AUC: 0.5222222222222223\n",
      " - PR AUC: 0.49622322122322127\n",
      " - Accuracy: 0.5925925925925926\n",
      " - Confusion Matrix:\n",
      "[[9 6]\n",
      " [5 7]]\n",
      "\n",
      "Test Metrics:\n",
      " - F1 Score: 0.4166666666666667\n",
      " - ROC AUC: 0.6851851851851852\n",
      " - PR AUC: 0.5570565338931156\n",
      " - Accuracy: 0.6410256410256411\n",
      " - Confusion Matrix:\n",
      "[[20  7]\n",
      " [ 7  5]]\n",
      "\n",
      "==================================================\n",
      "\n",
      "Selector: p_value\n",
      "Classifier: XgBoost\n",
      "Num Features: 11\n",
      "Mode: Mean\n",
      "\n",
      "Validation Metrics:\n",
      " - F1 Score: 0.64\n",
      " - ROC AUC: 0.6388888888888888\n",
      " - PR AUC: 0.6067323618410575\n",
      " - Accuracy: 0.6666666666666666\n",
      " - Confusion Matrix:\n",
      "[[10  5]\n",
      " [ 4  8]]\n",
      "\n",
      "Test Metrics:\n",
      " - F1 Score: 0.6\n",
      " - ROC AUC: 0.7901234567901234\n",
      " - PR AUC: 0.6081840786464775\n",
      " - Accuracy: 0.6923076923076923\n",
      " - Confusion Matrix:\n",
      "[[18  9]\n",
      " [ 3  9]]\n",
      "\n",
      "==================================================\n",
      "\n",
      "Selector: mrmr\n",
      "Classifier: MLP\n",
      "Num Features: 13\n",
      "Mode: Mean\n",
      "\n",
      "Validation Metrics:\n",
      " - F1 Score: 0.75\n",
      " - ROC AUC: 0.7722222222222223\n",
      " - PR AUC: 0.7317395567395568\n",
      " - Accuracy: 0.7777777777777778\n",
      " - Confusion Matrix:\n",
      "[[12  3]\n",
      " [ 3  9]]\n",
      "\n",
      "Test Metrics:\n",
      " - F1 Score: 0.47619047619047616\n",
      " - ROC AUC: 0.6759259259259259\n",
      " - PR AUC: 0.5013342316796264\n",
      " - Accuracy: 0.717948717948718\n",
      " - Confusion Matrix:\n",
      "[[23  4]\n",
      " [ 7  5]]\n",
      "\n",
      "==================================================\n",
      "\n",
      "Selector: lasso\n",
      "Classifier: MLP\n",
      "Alpha: 0.005172413793103448\n",
      "number_features:  384\n",
      "Mode: Mean\n",
      "\n",
      "Validation Metrics:\n",
      " - F1 Score: 0.6086956521739131\n",
      " - ROC AUC: 0.6222222222222222\n",
      " - PR AUC: 0.6187035595123831\n",
      " - Accuracy: 0.6666666666666666\n",
      " - Confusion Matrix:\n",
      "[[11  4]\n",
      " [ 5  7]]\n",
      "\n",
      "Test Metrics:\n",
      " - F1 Score: 0.6451612903225806\n",
      " - ROC AUC: 0.7530864197530864\n",
      " - PR AUC: 0.5419383788869083\n",
      " - Accuracy: 0.717948717948718\n",
      " - Confusion Matrix:\n",
      "[[18  9]\n",
      " [ 2 10]]\n",
      "\n",
      "==================================================\n",
      "\n",
      "Selector: rf\n",
      "Classifier: MLP\n",
      "Num Features: 7\n",
      "Mode: Mean\n",
      "\n",
      "Validation Metrics:\n",
      " - F1 Score: 0.5833333333333334\n",
      " - ROC AUC: 0.538888888888889\n",
      " - PR AUC: 0.4835114161201117\n",
      " - Accuracy: 0.6296296296296297\n",
      " - Confusion Matrix:\n",
      "[[10  5]\n",
      " [ 5  7]]\n",
      "\n",
      "Test Metrics:\n",
      " - F1 Score: 0.4583333333333333\n",
      " - ROC AUC: 0.7376543209876544\n",
      " - PR AUC: 0.5881584010531379\n",
      " - Accuracy: 0.3333333333333333\n",
      " - Confusion Matrix:\n",
      "[[ 2 25]\n",
      " [ 1 11]]\n",
      "\n",
      "==================================================\n",
      "\n",
      "Selector: logistic\n",
      "Classifier: MLP\n",
      "Num Features: 26\n",
      "Mode: Mean\n",
      "\n",
      "Validation Metrics:\n",
      " - F1 Score: 0.6666666666666666\n",
      " - ROC AUC: 0.6222222222222222\n",
      " - PR AUC: 0.5614959114959115\n",
      " - Accuracy: 0.7037037037037037\n",
      " - Confusion Matrix:\n",
      "[[11  4]\n",
      " [ 4  8]]\n",
      "\n",
      "Test Metrics:\n",
      " - F1 Score: 0.5185185185185185\n",
      " - ROC AUC: 0.6820987654320988\n",
      " - PR AUC: 0.5182239695170731\n",
      " - Accuracy: 0.6666666666666666\n",
      " - Confusion Matrix:\n",
      "[[19  8]\n",
      " [ 5  7]]\n",
      "\n",
      "==================================================\n",
      "\n",
      "Selector: p_value\n",
      "Classifier: MLP\n",
      "Num Features: 11\n",
      "Mode: Mean\n",
      "\n",
      "Validation Metrics:\n",
      " - F1 Score: 0.6923076923076923\n",
      " - ROC AUC: 0.65\n",
      " - PR AUC: 0.5975419188654483\n",
      " - Accuracy: 0.7037037037037037\n",
      " - Confusion Matrix:\n",
      "[[10  5]\n",
      " [ 3  9]]\n",
      "\n",
      "Test Metrics:\n",
      " - F1 Score: 0.6153846153846154\n",
      " - ROC AUC: 0.7623456790123457\n",
      " - PR AUC: 0.5816022544283413\n",
      " - Accuracy: 0.7435897435897436\n",
      " - Confusion Matrix:\n",
      "[[21  6]\n",
      " [ 4  8]]\n",
      "\n",
      "==================================================\n",
      "\n"
     ]
    }
   ],
   "source": [
    "def get_best_results_from_val(results_val, classifiers, selectors, modes):\n",
    "    best_results = {}\n",
    "\n",
    "    # Loop through all combinations of classifier, selector, and mode\n",
    "    for classifier in classifiers:\n",
    "        for selector in selectors:\n",
    "            for mode in modes:\n",
    "                key = (classifier, selector, mode)\n",
    "                \n",
    "                # Filter relevant results based on classifier, selector, and mode\n",
    "                filtered_results = [result for result in results_val \n",
    "                                    if result['classifier'] == classifier \n",
    "                                    and result['selector'] == selector \n",
    "                                    and result['mode'] == mode]\n",
    "\n",
    "                if selector == 'lasso':\n",
    "                    # Find the best alpha for lasso by maximizing f1 score\n",
    "                    best_result = max(filtered_results, key=lambda x: x['f1'], default=None)\n",
    "                else:\n",
    "                    # Find the best num_features by maximizing f1 score\n",
    "                    best_result = max(filtered_results, key=lambda x: x['f1'], default=None)\n",
    "\n",
    "                if best_result:\n",
    "                    best_results[key] = best_result\n",
    "\n",
    "    return best_results\n",
    "\n",
    "# Step 2: Find corresponding results in results_test using the best validation configuration\n",
    "def get_corresponding_test_results(best_results, results_test):\n",
    "    corresponding_results = []\n",
    "    \n",
    "    for (classifier, selector, mode), best_val in best_results.items():\n",
    "        if selector == 'lasso':\n",
    "            alpha = best_val['alpha']\n",
    "        else:\n",
    "            num_features = best_val['num_features']\n",
    "\n",
    "        # Find corresponding test result using the best num_features or alpha from validation\n",
    "        test_result = next(\n",
    "            (result for result in results_test \n",
    "             if result['classifier'] == classifier \n",
    "             and result['selector'] == selector\n",
    "             and result['mode'] == mode \n",
    "             and (result['num_features'] == num_features if selector != 'lasso' else result['alpha'] == alpha)),\n",
    "            None\n",
    "        )\n",
    "        \n",
    "        if test_result:\n",
    "            corresponding_results.append((best_val, test_result))\n",
    "    \n",
    "    return corresponding_results\n",
    "\n",
    "# Example classifiers, selectors, and modes\n",
    "classifiers = ['RandomForest', 'Logistic', 'SVM', 'XgBoost', 'MLP']\n",
    "selectors = ['mrmr', 'lasso', 'rf', 'logistic', 'p_value']\n",
    "#modes = ['MV', 'Mean']\n",
    "modes = ['Mean']\n",
    "\n",
    "# Step 3: Execute the functions\n",
    "best_val_results = get_best_results_from_val(results_val, classifiers, selectors, modes)\n",
    "corresponding_test_results = get_corresponding_test_results(best_val_results, results_test)\n",
    "\n",
    "# Step 4: Print the corresponding results with specific fields\n",
    "for val_result, test_result in corresponding_test_results:\n",
    "    print(\"Selector:\", val_result['selector'])\n",
    "    print(\"Classifier:\", val_result['classifier'])\n",
    "    \n",
    "    if val_result['selector'] == 'lasso':\n",
    "        print(\"Alpha:\", val_result['alpha'])\n",
    "        print(\"number_features: \",val_result['num_features'])\n",
    "    else:\n",
    "        print(\"Num Features:\", val_result['num_features'])\n",
    "    \n",
    "    print(\"Mode:\", val_result['mode'])\n",
    "    \n",
    "    print(\"\\nValidation Metrics:\")\n",
    "    print(\" - F1 Score:\", val_result['f1'])\n",
    "    print(\" - ROC AUC:\", val_result['roc_auc'])\n",
    "    print(\" - PR AUC:\", val_result['pr_auc'])\n",
    "    print(\" - Accuracy:\", val_result['accuracy'])\n",
    "    print(\" - Confusion Matrix:\") \n",
    "    print(f\"{val_result['confusion_matrix']}\")\n",
    "    \n",
    "    print(\"\\nTest Metrics:\")\n",
    "    print(\" - F1 Score:\", test_result['f1'])\n",
    "    print(\" - ROC AUC:\", test_result['roc_auc'])\n",
    "    print(\" - PR AUC:\", test_result['pr_auc'])\n",
    "    print(\" - Accuracy:\", test_result['accuracy'])\n",
    "    print(\" - Confusion Matrix:\") \n",
    "    print(f\"{test_result['confusion_matrix']}\")\n",
    "    print(\"\\n\" + \"=\"*50 + \"\\n\")\n"
   ]
  },
  {
   "cell_type": "markdown",
   "metadata": {},
   "source": [
    "### mostra per ogni classificatore, mode il risultato migliore per val e lo applica al test"
   ]
  },
  {
   "cell_type": "code",
   "execution_count": 20,
   "metadata": {},
   "outputs": [
    {
     "name": "stdout",
     "output_type": "stream",
     "text": [
      "Classifier: RandomForest\n",
      "Selector: mrmr\n",
      "Num Features: 27\n",
      "Mode: Mean\n",
      "\n",
      "Validation Metrics:\n",
      " - F1 Score: 0.8\n",
      " - ROC AUC: 0.7833333333333332\n",
      " - PR AUC: 0.754357706563589\n",
      " - Accuracy: 0.8148148148148148\n",
      " - Confusion Matrix:\n",
      "[[12  3]\n",
      " [ 2 10]]\n",
      "\n",
      "Test Metrics:\n",
      " - F1 Score: 0.3333333333333333\n",
      " - ROC AUC: 0.5925925925925926\n",
      " - PR AUC: 0.3946665108306062\n",
      " - Accuracy: 0.5897435897435898\n",
      " - Confusion Matrix:\n",
      "[[19  8]\n",
      " [ 8  4]]\n",
      "\n",
      "==================================================\n",
      "\n",
      "Classifier: SVM\n",
      "Selector: mrmr\n",
      "Num Features: 9\n",
      "Mode: Mean\n",
      "\n",
      "Validation Metrics:\n",
      " - F1 Score: 0.8\n",
      " - ROC AUC: 0.8111111111111111\n",
      " - PR AUC: 0.7670231388981389\n",
      " - Accuracy: 0.8148148148148148\n",
      " - Confusion Matrix:\n",
      "[[12  3]\n",
      " [ 2 10]]\n",
      "\n",
      "Test Metrics:\n",
      " - F1 Score: 0.3\n",
      " - ROC AUC: 0.6141975308641976\n",
      " - PR AUC: 0.39767475784019907\n",
      " - Accuracy: 0.6410256410256411\n",
      " - Confusion Matrix:\n",
      "[[22  5]\n",
      " [ 9  3]]\n",
      "\n",
      "==================================================\n",
      "\n",
      "Classifier: XgBoost\n",
      "Selector: mrmr\n",
      "Num Features: 13\n",
      "Mode: Mean\n",
      "\n",
      "Validation Metrics:\n",
      " - F1 Score: 0.7272727272727273\n",
      " - ROC AUC: 0.8\n",
      " - PR AUC: 0.7827533577533579\n",
      " - Accuracy: 0.7777777777777778\n",
      " - Confusion Matrix:\n",
      "[[13  2]\n",
      " [ 4  8]]\n",
      "\n",
      "Test Metrics:\n",
      " - F1 Score: 0.21052631578947367\n",
      " - ROC AUC: 0.595679012345679\n",
      " - PR AUC: 0.3962335461260898\n",
      " - Accuracy: 0.6153846153846154\n",
      " - Confusion Matrix:\n",
      "[[22  5]\n",
      " [10  2]]\n",
      "\n",
      "==================================================\n",
      "\n",
      "Classifier: MLP\n",
      "Selector: mrmr\n",
      "Num Features: 13\n",
      "Mode: Mean\n",
      "\n",
      "Validation Metrics:\n",
      " - F1 Score: 0.75\n",
      " - ROC AUC: 0.7722222222222223\n",
      " - PR AUC: 0.7317395567395568\n",
      " - Accuracy: 0.7777777777777778\n",
      " - Confusion Matrix:\n",
      "[[12  3]\n",
      " [ 3  9]]\n",
      "\n",
      "Test Metrics:\n",
      " - F1 Score: 0.47619047619047616\n",
      " - ROC AUC: 0.6759259259259259\n",
      " - PR AUC: 0.5013342316796264\n",
      " - Accuracy: 0.717948717948718\n",
      " - Confusion Matrix:\n",
      "[[23  4]\n",
      " [ 7  5]]\n",
      "\n",
      "==================================================\n",
      "\n"
     ]
    }
   ],
   "source": [
    "# Step 1: Get the best results from results_val for each classifier and mode\n",
    "def get_best_results_from_val(results_val, classifiers, modes):\n",
    "    best_results = {}\n",
    "\n",
    "    # Loop through all combinations of classifier and mode\n",
    "    for classifier in classifiers:\n",
    "        for mode in modes:\n",
    "            key = (classifier, mode)\n",
    "            \n",
    "            # Filter relevant results based on classifier and mode\n",
    "            filtered_results = [result for result in results_val \n",
    "                                if result['classifier'] == classifier \n",
    "                                and result['mode'] == mode]\n",
    "\n",
    "            # Find the best result across all selectors and num_features/alpha\n",
    "            best_result = max(filtered_results, key=lambda x: x['f1'], default=None)\n",
    "\n",
    "            if best_result:\n",
    "                best_results[key] = best_result\n",
    "\n",
    "    return best_results\n",
    "\n",
    "# Step 2: Find corresponding results in results_test using the best validation configuration\n",
    "def get_corresponding_test_results(best_results, results_test):\n",
    "    corresponding_results = []\n",
    "    \n",
    "    for (classifier, mode), best_val in best_results.items():\n",
    "        selector = best_val['selector']\n",
    "        if selector == 'lasso':\n",
    "            alpha = best_val['alpha']\n",
    "        \n",
    "        num_features = best_val['num_features']\n",
    "\n",
    "        # Find corresponding test result using the best num_features or alpha from validation\n",
    "        test_result = next(\n",
    "            (result for result in results_test \n",
    "             if result['classifier'] == classifier \n",
    "             and result['selector'] == selector\n",
    "             and result['mode'] == mode \n",
    "             and result['mode'] == mode \n",
    "             and (result['num_features'] == num_features if selector != 'lasso' else result['alpha'] == alpha)),\n",
    "            None\n",
    "        )\n",
    "        \n",
    "        if test_result:\n",
    "            corresponding_results.append((best_val, test_result))\n",
    "    \n",
    "    return corresponding_results\n",
    "\n",
    "# Example classifiers and modes\n",
    "classifiers = ['RandomForest', 'Logistic', 'SVM', 'XgBoost', 'MLP']\n",
    "modes = ['Mean']\n",
    "\n",
    "# Step 3: Execute the functions\n",
    "best_val_results = get_best_results_from_val(results_val, classifiers, modes)\n",
    "corresponding_test_results = get_corresponding_test_results(best_val_results, results_test)\n",
    "\n",
    "# Step 4: Print the corresponding results with specific fields\n",
    "for val_result, test_result in corresponding_test_results:\n",
    "    print(\"Classifier:\", val_result['classifier'])\n",
    "    print(\"Selector:\", val_result['selector'])\n",
    "    \n",
    "    if val_result['selector'] == 'lasso':\n",
    "        print(\"Alpha:\", val_result['alpha'])\n",
    "\n",
    "    print(\"Num Features:\", val_result['num_features'])\n",
    "    \n",
    "    print(\"Mode:\", val_result['mode'])\n",
    "    \n",
    "    print(\"\\nValidation Metrics:\")\n",
    "    print(\" - F1 Score:\", val_result['f1'])\n",
    "    print(\" - ROC AUC:\", val_result['roc_auc'])\n",
    "    print(\" - PR AUC:\", val_result['pr_auc'])\n",
    "    print(\" - Accuracy:\", val_result['accuracy'])\n",
    "    print(\" - Confusion Matrix:\") \n",
    "    print(f\"{val_result['confusion_matrix']}\")\n",
    "    \n",
    "    print(\"\\nTest Metrics:\")\n",
    "    print(\" - F1 Score:\", test_result['f1'])\n",
    "    print(\" - ROC AUC:\", test_result['roc_auc'])\n",
    "    print(\" - PR AUC:\", test_result['pr_auc'])\n",
    "    print(\" - Accuracy:\", test_result['accuracy'])\n",
    "    print(\" - Confusion Matrix:\") \n",
    "    print(f\"{test_result['confusion_matrix']}\")\n",
    "    print(\"\\n\" + \"=\"*50 + \"\\n\")\n"
   ]
  },
  {
   "cell_type": "markdown",
   "metadata": {},
   "source": [
    "### f1 per val e test nel caso mgiliore ma con il variare di num_features"
   ]
  },
  {
   "cell_type": "code",
   "execution_count": 93,
   "metadata": {},
   "outputs": [
    {
     "data": {
      "image/png": "[encoded data removed]",
      "text/plain": [
       "<Figure size 1000x600 with 1 Axes>"
      ]
     },
     "metadata": {},
     "output_type": "display_data"
    },
    {
     "data": {
      "image/png": "[encoded data removed]",
      "text/plain": [
       "<Figure size 1000x600 with 1 Axes>"
      ]
     },
     "metadata": {},
     "output_type": "display_data"
    }
   ],
   "source": [
    "\n",
    "# Filter results_val to focus on 'XgBoost' classifier, 'Mean' mode, and 'mrmr' selector\n",
    "\n",
    "def get_f1_by_num_features(results_val):\n",
    "    f1_scores = []\n",
    "    num_features_list = []\n",
    "    \n",
    "    # Loop through the dictionary to find the relevant entries\n",
    "    for result in results_val:\n",
    "        if (result['classifier'] == 'XgBoost' and\n",
    "            result['mode'] == 'MV' and\n",
    "            result['selector'] == 'mrmr'):\n",
    "            f1_scores.append(result['f1'])\n",
    "            if(result['selector']=='lasso'):\n",
    "                num_features_list.append(result['alpha'])\n",
    "            else:\n",
    "                num_features_list.append(result['num_features'])\n",
    "    \n",
    "    return num_features_list, f1_scores\n",
    "\n",
    "# Fetch data (you would pass in your actual results_val dictionary here)\n",
    "num_features_list, f1_scores = get_f1_by_num_features(results_val)\n",
    "\n",
    "# Plot F1 score against number of features\n",
    "plt.figure(figsize=(10, 6))\n",
    "plt.plot(num_features_list, f1_scores, marker='o')\n",
    "plt.title(\"F1 Score vs. Number of Features (MLP, Mode: MV, Selector: p_value) FOR VAL\")\n",
    "plt.xlabel(\"Number of Features\")\n",
    "plt.ylabel(\"F1 Score\")\n",
    "plt.grid(True)\n",
    "plt.show()\n",
    "\n",
    "num_features_list, f1_scores = get_f1_by_num_features(results_test)\n",
    "\n",
    "# Plot F1 score against number of features\n",
    "plt.figure(figsize=(10, 6))\n",
    "plt.plot(num_features_list, f1_scores, marker='o')\n",
    "plt.title(\"F1 Score vs. Number of Features (MLP, Mode: MV, Selector: p_value) FOR TEST\")\n",
    "plt.xlabel(\"Number of Features\")\n",
    "plt.ylabel(\"F1 Score\")\n",
    "plt.grid(True)\n",
    "plt.show()\n"
   ]
  },
  {
   "cell_type": "markdown",
   "metadata": {},
   "source": [
    "### plotto la ROC nel caso migliore"
   ]
  },
  {
   "cell_type": "code",
   "execution_count": 24,
   "metadata": {},
   "outputs": [],
   "source": [
    "\n",
    "def classification_method_new(selector, alpha, classifier, x_train_expanded, y_train_expanded, patients_test, y_test, features_test, num_features, modePrediction, thresholds=np.arange(0.001, 0.501, 0.001), mode = \"Val\", selected_features= [0]):\n",
    "\n",
    "    if(mode == \"Val\"):\n",
    "            selected_features = None \n",
    "            \n",
    "            if num_features != len(x_train_expanded[0]) or alpha != 0:\n",
    "                if selector == \"lasso\":\n",
    "                    X_selected, selected_features = select_features_with_lasso(x_train_expanded, y_train_expanded, alpha)\n",
    "                elif selector == \"logistic\": \n",
    "                    X_selected, selected_features = logistic_regression_feature_selection(x_train_expanded, y_train_expanded, num_features)\n",
    "                elif selector == \"mrmr\":\n",
    "                    X_selected, selected_features = mrmr_feature_selection(x_train_expanded, y_train_expanded, num_features)\n",
    "                elif selector == \"rf\":\n",
    "                    X_selected, selected_features = rf_feature_selection(x_train_expanded, y_train_expanded, num_features)\n",
    "                elif selector==\"p_value\":\n",
    "                    X_selected, selected_features= p_value_feature_selection(x_train_expanded,y_train_expanded, num_features)\n",
    "                else:\n",
    "                    print(\"Wrong selector. Choose between: mrmr, rf, logistic, p_value, lasso\")\n",
    "                    return\n",
    "                \n",
    "                features_test = filter_patients_features(features_test, selected_features)\n",
    "            else:\n",
    "                X_selected = x_train_expanded\n",
    "                selected_features = list(range(len(x_train_expanded[0])))  # Selezioniamo tutte le feature se non si fa feature selection\n",
    "            number_features = len(selected_features) \n",
    "        \n",
    "            smote = SMOTE(random_state=42)\n",
    "            #adasyn = ADASYN(random_state=42)\n",
    "\n",
    "            X_resampled, y_resampled = smote.fit_resample(X_selected, y_train_expanded)\n",
    "            classifier.fit(X_resampled, y_resampled)\n",
    "   \n",
    "    if (mode == \"Test\"): ## non si effettua nuovamente il training e la feature selection\n",
    "        features_test = filter_patients_features(features_test, selected_features)\n",
    "        number_features = len(selected_features)\n",
    "\n",
    "  \n",
    "    temp_array = []\n",
    "    patient_scores = []\n",
    "    \n",
    "    for x in range(len(patients_test)):\n",
    "        patient_predictions = []\n",
    "        patient_predictions1 = []\n",
    "        r=len(features_test[x])\n",
    "        for i in range(r):\n",
    "            dato = features_test[x][i].reshape(1, -1)\n",
    "            prediction = classifier.predict_proba(dato)\n",
    "            prediction1 = classifier.predict_proba(dato)[:,1]\n",
    "            patient_predictions.append(prediction)\n",
    "            patient_predictions1.append(prediction1)\n",
    "            mean=np.mean(patient_predictions1)\n",
    "\n",
    "        patient_scores.append(mean) ## contiene la media delle probabilità\n",
    "        temp_array.append(patient_predictions) ## contiene tutte le probabilità\n",
    "        \n",
    "    best_f1_score = 0\n",
    "    best_threshold = None\n",
    "    best_precision=0\n",
    "    best_recall=0\n",
    "    best_prediction=[]\n",
    "    \n",
    "    # Valuta le performance utilizzando diverse threshold\n",
    "    if isinstance(thresholds, (int, float, complex)):\n",
    "        thresholds=[thresholds]\n",
    "\n",
    "    ## se non viene specificato usi il parametro di default \n",
    "    ## viene calcolata la threshold che porta a un f1 migliore e effettuata la prediction con quella\n",
    "    if(len(thresholds)!=1):\n",
    "        for threshold in thresholds:\n",
    "            binary_predictions = prob_to_binary(temp_array, patient_scores, threshold, modePrediction)\n",
    "            f1 = f1_score(y_test, binary_predictions)\n",
    "            if f1 > best_f1_score:\n",
    "                best_f1_score = f1\n",
    "                best_threshold = threshold\n",
    "                best_precision = precision_score(y_test, binary_predictions)\n",
    "                best_recall = recall_score(y_test, binary_predictions)\n",
    "                best_prediction=binary_predictions\n",
    "\n",
    "    else: ## qui vuol dire che è il set di test che usa la threshold migliore che viene passata dal validation\n",
    "        best_threshold = thresholds\n",
    "        best_prediction=prob_to_binary(temp_array, patient_scores, best_threshold, modePrediction)\n",
    "        best_f1_score = f1_score(y_test, best_prediction)\n",
    "        best_precision = precision_score(y_test, best_prediction)\n",
    "        best_recall = recall_score(y_test, best_prediction)\n",
    "\n",
    "    #print(f\"La migliore threshold è {best_threshold} con f1score di {best_f1_score} e precision {best_precision} e recall {best_recall}.\")\n",
    "    y_test= np.array(y_test)\n",
    "    best_prediction=np.array(best_prediction)\n",
    "    test_accuracy = accuracy_score(y_test, best_prediction)\n",
    "    fpr, tpr, _ = roc_curve(y_test, patient_scores)\n",
    "    roc_auc = auc(fpr, tpr)\n",
    "\n",
    "    precision, recall, _ = precision_recall_curve(y_test, patient_scores) ## utili per ricostruire grafici\n",
    "    pr_auc = average_precision_score(y_test, patient_scores)\n",
    "\n",
    "    #fpr, tpr, _ = roc_curve(y_test, best_prediction)\n",
    "    roc_auc= roc_auc_score(y_test, patient_scores)\n",
    "\n",
    "\n",
    "    conf= confusion_matrix(y_test, best_prediction)\n",
    "    return best_f1_score, best_precision, best_recall, conf, test_accuracy, precision, recall, pr_auc, roc_auc, best_threshold, number_features, selected_features, classifier, fpr, tpr\n",
    "\n",
    "\n"
   ]
  },
  {
   "cell_type": "code",
   "execution_count": 34,
   "metadata": {},
   "outputs": [],
   "source": [
    "classi = SVC(kernel='rbf', probability=True, random_state=42)\n",
    "\n",
    "best_f1_score, best_precision, best_recall, conf, test_accuracy, precision, recall, pr_auc, roc_auc_val, bt, _, selected_features, _, fpr_val, tpr_val= classification_method_new(\n",
    "                                        'p_value', 0, classi, x_train_expanded, y_train_expanded, \n",
    "                                        patients_val, y_val, final_patients_val, 27, 'Mean', thresholds=0.5\n",
    "                                   )\n",
    "\n",
    "classi = SVC(kernel='rbf', probability=True, random_state=42)\n",
    "\n",
    "best_f1_score, best_precision, best_recall, conf, test_accuracy, precision, recall, pr_auc, roc_auc_test, bt, number_features, selected_features, _, fpr_test, tpr_test = classification_method_new(\n",
    "                                        'p_value', 0, classi, x_train_expanded1, y_train_expanded1, \n",
    "                                        patients_test, y_test, final_patients_test, 27, 'Mean', thresholds=0.5\n",
    "                                   )\n",
    "\n"
   ]
  },
  {
   "cell_type": "code",
   "execution_count": 35,
   "metadata": {},
   "outputs": [
    {
     "data": {
      "image/png": "[encoded data removed]",
      "text/plain": [
       "<Figure size 800x600 with 1 Axes>"
      ]
     },
     "metadata": {},
     "output_type": "display_data"
    }
   ],
   "source": [
    "\n",
    "\n",
    "# Assuming you already have the FPR, TPR, and AUC values from both validation and test results\n",
    "\n",
    "# First plot for Validation ROC curve\n",
    "def plot_roc_curve(fpr_val, tpr_val, roc_auc_val, fpr_test, tpr_test, roc_auc_test):\n",
    "    plt.figure(figsize=(8, 6))\n",
    "\n",
    "    # Plot Validation ROC Curve\n",
    "    plt.plot(fpr_val, tpr_val, color='blue', lw=2, label=f'Validation ROC curve (AUC = {roc_auc_val:.2f})')\n",
    "    \n",
    "    # Plot Test ROC Curve\n",
    "    plt.plot(fpr_test, tpr_test, color='green', lw=2, label=f'Test ROC curve (AUC = {roc_auc_test:.2f})')\n",
    "    \n",
    "    # Plot baseline\n",
    "    plt.plot([0, 1], [0, 1], color='navy', lw=2, linestyle='--')\n",
    "    \n",
    "    # Configure plot\n",
    "    plt.xlim([0.0, 1.0])\n",
    "    plt.ylim([0.0, 1.05])\n",
    "    plt.xlabel('False Positive Rate')\n",
    "    plt.ylabel('True Positive Rate')\n",
    "    plt.title('ROC Curve for Validation and Test')\n",
    "    plt.legend(loc=\"lower right\")\n",
    "    plt.grid(True)\n",
    "    plt.show()\n",
    "\n",
    "# Example of calling the plot_roc_curve function with validation and test data\n",
    "plot_roc_curve(fpr_val, tpr_val, roc_auc_val, fpr_test, tpr_test, roc_auc_test)\n"
   ]
  }
 ],
 "metadata": {
  "kernelspec": {
   "display_name": "Python 3",
   "language": "python",
   "name": "python3"
  },
  "language_info": {
   "codemirror_mode": {
    "name": "ipython",
    "version": 3
   },
   "file_extension": ".py",
   "mimetype": "text/x-python",
   "name": "python",
   "nbconvert_exporter": "python",
   "pygments_lexer": "ipython3",
   "version": "3.11.1"
  }
 },
 "nbformat": 4,
 "nbformat_minor": 2
}
